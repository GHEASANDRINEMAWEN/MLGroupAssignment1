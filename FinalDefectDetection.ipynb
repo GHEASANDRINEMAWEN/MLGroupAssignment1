{
 "cells": [
  {
   "cell_type": "code",
   "execution_count": 1,
   "metadata": {
    "colab": {
     "base_uri": "https://localhost:8080/"
    },
    "id": "YGjODa0PtYWH",
    "outputId": "a0fd69a5-9bbf-4857-d3d3-28b0c7570362",
    "scrolled": true
   },
   "outputs": [
    {
     "name": "stdout",
     "output_type": "stream",
     "text": [
      "Requirement already satisfied: opencv-python in c:\\users\\hp\\anaconda3\\lib\\site-packages (4.8.1.78)\n",
      "Requirement already satisfied: numpy>=1.21.2 in c:\\users\\hp\\anaconda3\\lib\\site-packages (from opencv-python) (1.24.3)\n",
      "Note: you may need to restart the kernel to use updated packages.\n"
     ]
    }
   ],
   "source": [
    "pip install opencv-python\n"
   ]
  },
  {
   "cell_type": "code",
   "execution_count": 2,
   "metadata": {
    "id": "xBsWosGIwFch"
   },
   "outputs": [],
   "source": [
    "# Import the pandas library, which is commonly used for data manipulation and analysis\n",
    "import pandas as pd\n",
    "\n",
    "# Define the directory path where the training images are stored.\n",
    "# This is a raw string literal (denoted by the 'R' or 'r' prefix) which tells Python\n",
    "# to treat backslashes in the string as literal characters and not as escape characters.\n",
    "train_images_dir = R\"C:\\Users\\Hp\\OneDrive\\Desktop\\Machine Learning\\Group assignment1\\SteelDetection\\train_images\"\n",
    "\n",
    "\n",
    "# Define the file path for a CSV file that contains the training data.\n",
    "# In machine learning tasks, this CSV file often contains annotations or labels\n",
    "# for each training instance. Here, it's likely to contain information about steel images\n",
    "# and their respective defect annotations.\n",
    "csv_file = R\"C:\\Users\\Hp\\OneDrive\\Desktop\\Machine Learning\\Group assignment1\\SteelDetection\\train.csv\"\n",
    "\n",
    "# Load the CSV file into a pandas DataFrame. A DataFrame is a 2-dimensional labeled\n",
    "# data structure with columns that can be of different types. This is similar to a table\n",
    "# in a database or a data frame in R. The 'pd.read_csv()' function is used to read the\n",
    "# contents of the CSV file into the DataFrame 'data', which can then be used for further\n",
    "# analysis and processing in the machine learning pipeline.\n",
    "data = pd.read_csv(csv_file)\n"
   ]
  },
  {
   "cell_type": "code",
   "execution_count": 3,
   "metadata": {},
   "outputs": [
    {
     "data": {
      "text/html": [
       "<div>\n",
       "<style scoped>\n",
       "    .dataframe tbody tr th:only-of-type {\n",
       "        vertical-align: middle;\n",
       "    }\n",
       "\n",
       "    .dataframe tbody tr th {\n",
       "        vertical-align: top;\n",
       "    }\n",
       "\n",
       "    .dataframe thead th {\n",
       "        text-align: right;\n",
       "    }\n",
       "</style>\n",
       "<table border=\"1\" class=\"dataframe\">\n",
       "  <thead>\n",
       "    <tr style=\"text-align: right;\">\n",
       "      <th></th>\n",
       "      <th>ImageId</th>\n",
       "      <th>ClassId</th>\n",
       "      <th>EncodedPixels</th>\n",
       "    </tr>\n",
       "  </thead>\n",
       "  <tbody>\n",
       "    <tr>\n",
       "      <th>0</th>\n",
       "      <td>0002cc93b.jpg</td>\n",
       "      <td>1</td>\n",
       "      <td>29102 12 29346 24 29602 24 29858 24 30114 24 3...</td>\n",
       "    </tr>\n",
       "    <tr>\n",
       "      <th>1</th>\n",
       "      <td>0007a71bf.jpg</td>\n",
       "      <td>3</td>\n",
       "      <td>18661 28 18863 82 19091 110 19347 110 19603 11...</td>\n",
       "    </tr>\n",
       "    <tr>\n",
       "      <th>2</th>\n",
       "      <td>000a4bcdd.jpg</td>\n",
       "      <td>1</td>\n",
       "      <td>37607 3 37858 8 38108 14 38359 20 38610 25 388...</td>\n",
       "    </tr>\n",
       "    <tr>\n",
       "      <th>3</th>\n",
       "      <td>000f6bf48.jpg</td>\n",
       "      <td>4</td>\n",
       "      <td>131973 1 132228 4 132483 6 132738 8 132993 11 ...</td>\n",
       "    </tr>\n",
       "    <tr>\n",
       "      <th>4</th>\n",
       "      <td>0014fce06.jpg</td>\n",
       "      <td>3</td>\n",
       "      <td>229501 11 229741 33 229981 55 230221 77 230468...</td>\n",
       "    </tr>\n",
       "    <tr>\n",
       "      <th>...</th>\n",
       "      <td>...</td>\n",
       "      <td>...</td>\n",
       "      <td>...</td>\n",
       "    </tr>\n",
       "    <tr>\n",
       "      <th>7090</th>\n",
       "      <td>ffcf72ecf.jpg</td>\n",
       "      <td>3</td>\n",
       "      <td>121911 34 122167 101 122422 169 122678 203 122...</td>\n",
       "    </tr>\n",
       "    <tr>\n",
       "      <th>7091</th>\n",
       "      <td>fff02e9c5.jpg</td>\n",
       "      <td>3</td>\n",
       "      <td>207523 3 207777 9 208030 15 208283 22 208537 2...</td>\n",
       "    </tr>\n",
       "    <tr>\n",
       "      <th>7092</th>\n",
       "      <td>fffe98443.jpg</td>\n",
       "      <td>3</td>\n",
       "      <td>105929 5 106177 14 106424 24 106672 33 106923 ...</td>\n",
       "    </tr>\n",
       "    <tr>\n",
       "      <th>7093</th>\n",
       "      <td>ffff4eaa8.jpg</td>\n",
       "      <td>3</td>\n",
       "      <td>16899 7 17155 20 17411 34 17667 47 17923 60 18...</td>\n",
       "    </tr>\n",
       "    <tr>\n",
       "      <th>7094</th>\n",
       "      <td>ffffd67df.jpg</td>\n",
       "      <td>3</td>\n",
       "      <td>30931 43 31103 127 31275 211 31489 253 31745 2...</td>\n",
       "    </tr>\n",
       "  </tbody>\n",
       "</table>\n",
       "<p>7095 rows × 3 columns</p>\n",
       "</div>"
      ],
      "text/plain": [
       "            ImageId  ClassId  \\\n",
       "0     0002cc93b.jpg        1   \n",
       "1     0007a71bf.jpg        3   \n",
       "2     000a4bcdd.jpg        1   \n",
       "3     000f6bf48.jpg        4   \n",
       "4     0014fce06.jpg        3   \n",
       "...             ...      ...   \n",
       "7090  ffcf72ecf.jpg        3   \n",
       "7091  fff02e9c5.jpg        3   \n",
       "7092  fffe98443.jpg        3   \n",
       "7093  ffff4eaa8.jpg        3   \n",
       "7094  ffffd67df.jpg        3   \n",
       "\n",
       "                                          EncodedPixels  \n",
       "0     29102 12 29346 24 29602 24 29858 24 30114 24 3...  \n",
       "1     18661 28 18863 82 19091 110 19347 110 19603 11...  \n",
       "2     37607 3 37858 8 38108 14 38359 20 38610 25 388...  \n",
       "3     131973 1 132228 4 132483 6 132738 8 132993 11 ...  \n",
       "4     229501 11 229741 33 229981 55 230221 77 230468...  \n",
       "...                                                 ...  \n",
       "7090  121911 34 122167 101 122422 169 122678 203 122...  \n",
       "7091  207523 3 207777 9 208030 15 208283 22 208537 2...  \n",
       "7092  105929 5 106177 14 106424 24 106672 33 106923 ...  \n",
       "7093  16899 7 17155 20 17411 34 17667 47 17923 60 18...  \n",
       "7094  30931 43 31103 127 31275 211 31489 253 31745 2...  \n",
       "\n",
       "[7095 rows x 3 columns]"
      ]
     },
     "execution_count": 3,
     "metadata": {},
     "output_type": "execute_result"
    }
   ],
   "source": [
    "data"
   ]
  },
  {
   "cell_type": "code",
   "execution_count": 4,
   "metadata": {
    "id": "tzkGEpuIZNDq"
   },
   "outputs": [
    {
     "name": "stdout",
     "output_type": "stream",
     "text": [
      "WARNING:tensorflow:From C:\\Users\\Hp\\anaconda3\\Lib\\site-packages\\keras\\src\\losses.py:2976: The name tf.losses.sparse_softmax_cross_entropy is deprecated. Please use tf.compat.v1.losses.sparse_softmax_cross_entropy instead.\n",
      "\n"
     ]
    }
   ],
   "source": [
    "#Import this required the \n",
    "import pandas as pd\n",
    "import numpy as np\n",
    "import matplotlib.pyplot as plt\n",
    "import seaborn as sns\n",
    "import warnings\n",
    "import matplotlib.pyplot as plt\n",
    "import keras\n",
    "from sklearn.model_selection import train_test_split\n",
    "from tqdm import tqdm\n",
    "import cv2\n",
    "from sklearn.preprocessing import OneHotEncoder,LabelEncoder\n",
    "from keras.utils import to_categorical\n",
    "from keras.models import Sequential\n",
    "import tensorflow as tf\n",
    "from keras.layers import Dense,Conv2D,Flatten,MaxPooling2D,Dropout"
   ]
  },
  {
   "cell_type": "code",
   "execution_count": 5,
   "metadata": {
    "colab": {
     "base_uri": "https://localhost:8080/",
     "height": 424
    },
    "id": "H3RZGIZrZNGT",
    "outputId": "0f6af1ff-116e-425d-8618-df6765247eb9"
   },
   "outputs": [
    {
     "data": {
      "text/html": [
       "<div>\n",
       "<style scoped>\n",
       "    .dataframe tbody tr th:only-of-type {\n",
       "        vertical-align: middle;\n",
       "    }\n",
       "\n",
       "    .dataframe tbody tr th {\n",
       "        vertical-align: top;\n",
       "    }\n",
       "\n",
       "    .dataframe thead th {\n",
       "        text-align: right;\n",
       "    }\n",
       "</style>\n",
       "<table border=\"1\" class=\"dataframe\">\n",
       "  <thead>\n",
       "    <tr style=\"text-align: right;\">\n",
       "      <th></th>\n",
       "      <th>ImageId</th>\n",
       "      <th>ClassId</th>\n",
       "      <th>EncodedPixels</th>\n",
       "    </tr>\n",
       "  </thead>\n",
       "  <tbody>\n",
       "    <tr>\n",
       "      <th>0</th>\n",
       "      <td>0002cc93b.jpg</td>\n",
       "      <td>1</td>\n",
       "      <td>29102 12 29346 24 29602 24 29858 24 30114 24 3...</td>\n",
       "    </tr>\n",
       "    <tr>\n",
       "      <th>1</th>\n",
       "      <td>0007a71bf.jpg</td>\n",
       "      <td>3</td>\n",
       "      <td>18661 28 18863 82 19091 110 19347 110 19603 11...</td>\n",
       "    </tr>\n",
       "    <tr>\n",
       "      <th>2</th>\n",
       "      <td>000a4bcdd.jpg</td>\n",
       "      <td>1</td>\n",
       "      <td>37607 3 37858 8 38108 14 38359 20 38610 25 388...</td>\n",
       "    </tr>\n",
       "    <tr>\n",
       "      <th>3</th>\n",
       "      <td>000f6bf48.jpg</td>\n",
       "      <td>4</td>\n",
       "      <td>131973 1 132228 4 132483 6 132738 8 132993 11 ...</td>\n",
       "    </tr>\n",
       "    <tr>\n",
       "      <th>4</th>\n",
       "      <td>0014fce06.jpg</td>\n",
       "      <td>3</td>\n",
       "      <td>229501 11 229741 33 229981 55 230221 77 230468...</td>\n",
       "    </tr>\n",
       "    <tr>\n",
       "      <th>...</th>\n",
       "      <td>...</td>\n",
       "      <td>...</td>\n",
       "      <td>...</td>\n",
       "    </tr>\n",
       "    <tr>\n",
       "      <th>7090</th>\n",
       "      <td>ffcf72ecf.jpg</td>\n",
       "      <td>3</td>\n",
       "      <td>121911 34 122167 101 122422 169 122678 203 122...</td>\n",
       "    </tr>\n",
       "    <tr>\n",
       "      <th>7091</th>\n",
       "      <td>fff02e9c5.jpg</td>\n",
       "      <td>3</td>\n",
       "      <td>207523 3 207777 9 208030 15 208283 22 208537 2...</td>\n",
       "    </tr>\n",
       "    <tr>\n",
       "      <th>7092</th>\n",
       "      <td>fffe98443.jpg</td>\n",
       "      <td>3</td>\n",
       "      <td>105929 5 106177 14 106424 24 106672 33 106923 ...</td>\n",
       "    </tr>\n",
       "    <tr>\n",
       "      <th>7093</th>\n",
       "      <td>ffff4eaa8.jpg</td>\n",
       "      <td>3</td>\n",
       "      <td>16899 7 17155 20 17411 34 17667 47 17923 60 18...</td>\n",
       "    </tr>\n",
       "    <tr>\n",
       "      <th>7094</th>\n",
       "      <td>ffffd67df.jpg</td>\n",
       "      <td>3</td>\n",
       "      <td>30931 43 31103 127 31275 211 31489 253 31745 2...</td>\n",
       "    </tr>\n",
       "  </tbody>\n",
       "</table>\n",
       "<p>7095 rows × 3 columns</p>\n",
       "</div>"
      ],
      "text/plain": [
       "            ImageId  ClassId  \\\n",
       "0     0002cc93b.jpg        1   \n",
       "1     0007a71bf.jpg        3   \n",
       "2     000a4bcdd.jpg        1   \n",
       "3     000f6bf48.jpg        4   \n",
       "4     0014fce06.jpg        3   \n",
       "...             ...      ...   \n",
       "7090  ffcf72ecf.jpg        3   \n",
       "7091  fff02e9c5.jpg        3   \n",
       "7092  fffe98443.jpg        3   \n",
       "7093  ffff4eaa8.jpg        3   \n",
       "7094  ffffd67df.jpg        3   \n",
       "\n",
       "                                          EncodedPixels  \n",
       "0     29102 12 29346 24 29602 24 29858 24 30114 24 3...  \n",
       "1     18661 28 18863 82 19091 110 19347 110 19603 11...  \n",
       "2     37607 3 37858 8 38108 14 38359 20 38610 25 388...  \n",
       "3     131973 1 132228 4 132483 6 132738 8 132993 11 ...  \n",
       "4     229501 11 229741 33 229981 55 230221 77 230468...  \n",
       "...                                                 ...  \n",
       "7090  121911 34 122167 101 122422 169 122678 203 122...  \n",
       "7091  207523 3 207777 9 208030 15 208283 22 208537 2...  \n",
       "7092  105929 5 106177 14 106424 24 106672 33 106923 ...  \n",
       "7093  16899 7 17155 20 17411 34 17667 47 17923 60 18...  \n",
       "7094  30931 43 31103 127 31275 211 31489 253 31745 2...  \n",
       "\n",
       "[7095 rows x 3 columns]"
      ]
     },
     "execution_count": 5,
     "metadata": {},
     "output_type": "execute_result"
    }
   ],
   "source": [
    "data"
   ]
  },
  {
   "cell_type": "code",
   "execution_count": 6,
   "metadata": {
    "colab": {
     "base_uri": "https://localhost:8080/",
     "height": 424
    },
    "id": "2oHURcyxZNJN",
    "outputId": "27daa102-57ac-4a7c-a0f8-67877e50dad8"
   },
   "outputs": [
    {
     "data": {
      "text/html": [
       "<div>\n",
       "<style scoped>\n",
       "    .dataframe tbody tr th:only-of-type {\n",
       "        vertical-align: middle;\n",
       "    }\n",
       "\n",
       "    .dataframe tbody tr th {\n",
       "        vertical-align: top;\n",
       "    }\n",
       "\n",
       "    .dataframe thead th {\n",
       "        text-align: right;\n",
       "    }\n",
       "</style>\n",
       "<table border=\"1\" class=\"dataframe\">\n",
       "  <thead>\n",
       "    <tr style=\"text-align: right;\">\n",
       "      <th></th>\n",
       "      <th>ImageId</th>\n",
       "      <th>ClassId</th>\n",
       "      <th>EncodedPixels</th>\n",
       "    </tr>\n",
       "  </thead>\n",
       "  <tbody>\n",
       "    <tr>\n",
       "      <th>0</th>\n",
       "      <td>0002cc93b.jpg</td>\n",
       "      <td>1</td>\n",
       "      <td>29102 12 29346 24 29602 24 29858 24 30114 24 3...</td>\n",
       "    </tr>\n",
       "    <tr>\n",
       "      <th>1</th>\n",
       "      <td>0007a71bf.jpg</td>\n",
       "      <td>3</td>\n",
       "      <td>18661 28 18863 82 19091 110 19347 110 19603 11...</td>\n",
       "    </tr>\n",
       "    <tr>\n",
       "      <th>2</th>\n",
       "      <td>000a4bcdd.jpg</td>\n",
       "      <td>1</td>\n",
       "      <td>37607 3 37858 8 38108 14 38359 20 38610 25 388...</td>\n",
       "    </tr>\n",
       "    <tr>\n",
       "      <th>3</th>\n",
       "      <td>000f6bf48.jpg</td>\n",
       "      <td>4</td>\n",
       "      <td>131973 1 132228 4 132483 6 132738 8 132993 11 ...</td>\n",
       "    </tr>\n",
       "    <tr>\n",
       "      <th>4</th>\n",
       "      <td>0014fce06.jpg</td>\n",
       "      <td>3</td>\n",
       "      <td>229501 11 229741 33 229981 55 230221 77 230468...</td>\n",
       "    </tr>\n",
       "    <tr>\n",
       "      <th>...</th>\n",
       "      <td>...</td>\n",
       "      <td>...</td>\n",
       "      <td>...</td>\n",
       "    </tr>\n",
       "    <tr>\n",
       "      <th>7090</th>\n",
       "      <td>ffcf72ecf.jpg</td>\n",
       "      <td>3</td>\n",
       "      <td>121911 34 122167 101 122422 169 122678 203 122...</td>\n",
       "    </tr>\n",
       "    <tr>\n",
       "      <th>7091</th>\n",
       "      <td>fff02e9c5.jpg</td>\n",
       "      <td>3</td>\n",
       "      <td>207523 3 207777 9 208030 15 208283 22 208537 2...</td>\n",
       "    </tr>\n",
       "    <tr>\n",
       "      <th>7092</th>\n",
       "      <td>fffe98443.jpg</td>\n",
       "      <td>3</td>\n",
       "      <td>105929 5 106177 14 106424 24 106672 33 106923 ...</td>\n",
       "    </tr>\n",
       "    <tr>\n",
       "      <th>7093</th>\n",
       "      <td>ffff4eaa8.jpg</td>\n",
       "      <td>3</td>\n",
       "      <td>16899 7 17155 20 17411 34 17667 47 17923 60 18...</td>\n",
       "    </tr>\n",
       "    <tr>\n",
       "      <th>7094</th>\n",
       "      <td>ffffd67df.jpg</td>\n",
       "      <td>3</td>\n",
       "      <td>30931 43 31103 127 31275 211 31489 253 31745 2...</td>\n",
       "    </tr>\n",
       "  </tbody>\n",
       "</table>\n",
       "<p>7095 rows × 3 columns</p>\n",
       "</div>"
      ],
      "text/plain": [
       "            ImageId  ClassId  \\\n",
       "0     0002cc93b.jpg        1   \n",
       "1     0007a71bf.jpg        3   \n",
       "2     000a4bcdd.jpg        1   \n",
       "3     000f6bf48.jpg        4   \n",
       "4     0014fce06.jpg        3   \n",
       "...             ...      ...   \n",
       "7090  ffcf72ecf.jpg        3   \n",
       "7091  fff02e9c5.jpg        3   \n",
       "7092  fffe98443.jpg        3   \n",
       "7093  ffff4eaa8.jpg        3   \n",
       "7094  ffffd67df.jpg        3   \n",
       "\n",
       "                                          EncodedPixels  \n",
       "0     29102 12 29346 24 29602 24 29858 24 30114 24 3...  \n",
       "1     18661 28 18863 82 19091 110 19347 110 19603 11...  \n",
       "2     37607 3 37858 8 38108 14 38359 20 38610 25 388...  \n",
       "3     131973 1 132228 4 132483 6 132738 8 132993 11 ...  \n",
       "4     229501 11 229741 33 229981 55 230221 77 230468...  \n",
       "...                                                 ...  \n",
       "7090  121911 34 122167 101 122422 169 122678 203 122...  \n",
       "7091  207523 3 207777 9 208030 15 208283 22 208537 2...  \n",
       "7092  105929 5 106177 14 106424 24 106672 33 106923 ...  \n",
       "7093  16899 7 17155 20 17411 34 17667 47 17923 60 18...  \n",
       "7094  30931 43 31103 127 31275 211 31489 253 31745 2...  \n",
       "\n",
       "[7095 rows x 3 columns]"
      ]
     },
     "execution_count": 6,
     "metadata": {},
     "output_type": "execute_result"
    }
   ],
   "source": [
    "data"
   ]
  },
  {
   "cell_type": "code",
   "execution_count": 7,
   "metadata": {
    "colab": {
     "base_uri": "https://localhost:8080/"
    },
    "id": "uA_hIg3vZNL1",
    "outputId": "15ea7cf8-9ed2-4d8c-d79e-fcc735832c5d"
   },
   "outputs": [
    {
     "data": {
      "text/plain": [
       "(7095, 3)"
      ]
     },
     "execution_count": 7,
     "metadata": {},
     "output_type": "execute_result"
    }
   ],
   "source": [
    "data.shape"
   ]
  },
  {
   "cell_type": "code",
   "execution_count": 8,
   "metadata": {
    "colab": {
     "base_uri": "https://localhost:8080/",
     "height": 512
    },
    "id": "PaDwYRTMZNOd",
    "outputId": "78d27099-6145-4602-ab36-e876941bd6ae"
   },
   "outputs": [
    {
     "data": {
      "text/plain": [
       "ClassId\n",
       "3    5150\n",
       "1     897\n",
       "4     801\n",
       "2     247\n",
       "Name: count, dtype: int64"
      ]
     },
     "execution_count": 8,
     "metadata": {},
     "output_type": "execute_result"
    },
    {
     "data": {
      "image/png": "[encoded data removed]",
      "text/plain": [
       "<Figure size 640x480 with 1 Axes>"
      ]
     },
     "metadata": {},
     "output_type": "display_data"
    }
   ],
   "source": [
    "data[\"ClassId\"].value_counts().plot(kind = 'bar')\n",
    "data[\"ClassId\"].value_counts()"
   ]
  },
  {
   "cell_type": "markdown",
   "metadata": {
    "id": "s7ilIe-DajE6"
   },
   "source": [
    "ClassID 3 has the maximum count among other classid's."
   ]
  },
  {
   "cell_type": "markdown",
   "metadata": {
    "id": "4pde5UjHcJ4W"
   },
   "source": [
    "**Checking Random Steel images to check whether it is defected or not**"
   ]
  },
  {
   "cell_type": "markdown",
   "metadata": {
    "id": "pINRsx5CceJN"
   },
   "source": [
    "#### Preprocessing Images: The preprocess_image function loads an image from a given path, resizes it to a specified size, and optionally normalizes its pixel values. The outcome is a preprocessed image in the form of a NumPy array, suitable for use in machine learning models."
   ]
  },
  {
   "cell_type": "code",
   "execution_count": 9,
   "metadata": {},
   "outputs": [],
   "source": [
    "import cv2\n",
    "import numpy as np\n",
    "\n",
    "def preprocess_image(image_path, target_size=(120, 120), normalize=True):\n",
    "    \"\"\"\n",
    "    Preprocesses an image: loads, resizes, and normalizes it.\n",
    "\n",
    "    Parameters:\n",
    "    - image_path (str): Path to the image file.\n",
    "    - target_size (tuple): Desired size of the output image (width, height).\n",
    "    - normalize (bool): Whether to normalize pixel values.\n",
    "\n",
    "    Returns:\n",
    "    - Preprocessed image as a numpy array.\n",
    "    \"\"\"\n",
    "    # Load the image\n",
    "    image = cv2.imread(image_path, cv2.IMREAD_COLOR)\n",
    "\n",
    "    # Check if the image was successfully loaded\n",
    "    if image is not None:\n",
    "        # Resize the image\n",
    "        image = cv2.resize(image, target_size)\n",
    "\n",
    "        # Normalize the image\n",
    "        if normalize:\n",
    "            image = image / 255.0\n",
    "\n",
    "        return image\n",
    "    else:\n",
    "        return None\n"
   ]
  },
  {
   "cell_type": "markdown",
   "metadata": {},
   "source": []
  },
  {
   "cell_type": "code",
   "execution_count": 10,
   "metadata": {},
   "outputs": [
    {
     "name": "stderr",
     "output_type": "stream",
     "text": [
      "  0%|▏                                                                               | 14/7095 [00:00<01:53, 62.21it/s]"
     ]
    },
    {
     "name": "stdout",
     "output_type": "stream",
     "text": [
      "Image not found at path: C:\\Users\\Hp\\OneDrive\\Desktop\\Machine Learning\\Group assignment1\\SteelDetection\\train_images\\000a4bcdd.jpg\n",
      "Image not found at path: C:\\Users\\Hp\\OneDrive\\Desktop\\Machine Learning\\Group assignment1\\SteelDetection\\train_images\\000f6bf48.jpg\n",
      "Image not found at path: C:\\Users\\Hp\\OneDrive\\Desktop\\Machine Learning\\Group assignment1\\SteelDetection\\train_images\\0030401a5.jpg\n",
      "Image not found at path: C:\\Users\\Hp\\OneDrive\\Desktop\\Machine Learning\\Group assignment1\\SteelDetection\\train_images\\0046839bd.jpg\n",
      "Image not found at path: C:\\Users\\Hp\\OneDrive\\Desktop\\Machine Learning\\Group assignment1\\SteelDetection\\train_images\\008621629.jpg\n",
      "Image not found at path: C:\\Users\\Hp\\OneDrive\\Desktop\\Machine Learning\\Group assignment1\\SteelDetection\\train_images\\0088260da.jpg\n"
     ]
    },
    {
     "name": "stderr",
     "output_type": "stream",
     "text": [
      "  1%|▍                                                                               | 36/7095 [00:00<01:17, 91.28it/s]"
     ]
    },
    {
     "name": "stdout",
     "output_type": "stream",
     "text": [
      "Image not found at path: C:\\Users\\Hp\\OneDrive\\Desktop\\Machine Learning\\Group assignment1\\SteelDetection\\train_images\\00ac8372f.jpg\n",
      "Image not found at path: C:\\Users\\Hp\\OneDrive\\Desktop\\Machine Learning\\Group assignment1\\SteelDetection\\train_images\\00ac8372f.jpg\n",
      "Image not found at path: C:\\Users\\Hp\\OneDrive\\Desktop\\Machine Learning\\Group assignment1\\SteelDetection\\train_images\\00af2671f.jpg\n",
      "Image not found at path: C:\\Users\\Hp\\OneDrive\\Desktop\\Machine Learning\\Group assignment1\\SteelDetection\\train_images\\00bc01bfe.jpg\n",
      "Image not found at path: C:\\Users\\Hp\\OneDrive\\Desktop\\Machine Learning\\Group assignment1\\SteelDetection\\train_images\\00bf8497a.jpg\n",
      "Image not found at path: C:\\Users\\Hp\\OneDrive\\Desktop\\Machine Learning\\Group assignment1\\SteelDetection\\train_images\\00c88fed0.jpg\n",
      "Image not found at path: C:\\Users\\Hp\\OneDrive\\Desktop\\Machine Learning\\Group assignment1\\SteelDetection\\train_images\\00c88fed0.jpg\n",
      "Image not found at path: C:\\Users\\Hp\\OneDrive\\Desktop\\Machine Learning\\Group assignment1\\SteelDetection\\train_images\\00cdb56a0.jpg\n",
      "Image not found at path: C:\\Users\\Hp\\OneDrive\\Desktop\\Machine Learning\\Group assignment1\\SteelDetection\\train_images\\00d639396.jpg\n",
      "Image not found at path: C:\\Users\\Hp\\OneDrive\\Desktop\\Machine Learning\\Group assignment1\\SteelDetection\\train_images\\00e0398ad.jpg\n",
      "Image not found at path: C:\\Users\\Hp\\OneDrive\\Desktop\\Machine Learning\\Group assignment1\\SteelDetection\\train_images\\00ec97699.jpg\n",
      "Image not found at path: C:\\Users\\Hp\\OneDrive\\Desktop\\Machine Learning\\Group assignment1\\SteelDetection\\train_images\\00f1665e6.jpg\n",
      "Image not found at path: C:\\Users\\Hp\\OneDrive\\Desktop\\Machine Learning\\Group assignment1\\SteelDetection\\train_images\\00f6e702c.jpg\n"
     ]
    },
    {
     "name": "stderr",
     "output_type": "stream",
     "text": [
      "  1%|▌                                                                               | 54/7095 [00:00<01:49, 64.18it/s]"
     ]
    },
    {
     "name": "stdout",
     "output_type": "stream",
     "text": [
      "Image not found at path: C:\\Users\\Hp\\OneDrive\\Desktop\\Machine Learning\\Group assignment1\\SteelDetection\\train_images\\01661826d.jpg\n",
      "Image not found at path: C:\\Users\\Hp\\OneDrive\\Desktop\\Machine Learning\\Group assignment1\\SteelDetection\\train_images\\01919944c.jpg\n"
     ]
    },
    {
     "name": "stderr",
     "output_type": "stream",
     "text": [
      "  1%|▉                                                                               | 80/7095 [00:01<02:09, 54.03it/s]"
     ]
    },
    {
     "name": "stdout",
     "output_type": "stream",
     "text": [
      "Image not found at path: C:\\Users\\Hp\\OneDrive\\Desktop\\Machine Learning\\Group assignment1\\SteelDetection\\train_images\\02431211b.jpg\n",
      "Image not found at path: C:\\Users\\Hp\\OneDrive\\Desktop\\Machine Learning\\Group assignment1\\SteelDetection\\train_images\\026183d85.jpg\n"
     ]
    },
    {
     "name": "stderr",
     "output_type": "stream",
     "text": [
      "  1%|█                                                                               | 99/7095 [00:01<02:06, 55.51it/s]"
     ]
    },
    {
     "name": "stdout",
     "output_type": "stream",
     "text": [
      "Image not found at path: C:\\Users\\Hp\\OneDrive\\Desktop\\Machine Learning\\Group assignment1\\SteelDetection\\train_images\\031627893.jpg\n",
      "Image not found at path: C:\\Users\\Hp\\OneDrive\\Desktop\\Machine Learning\\Group assignment1\\SteelDetection\\train_images\\03461f8e0.jpg\n",
      "Image not found at path: C:\\Users\\Hp\\OneDrive\\Desktop\\Machine Learning\\Group assignment1\\SteelDetection\\train_images\\034941f9d.jpg\n",
      "Image not found at path: C:\\Users\\Hp\\OneDrive\\Desktop\\Machine Learning\\Group assignment1\\SteelDetection\\train_images\\035021da2.jpg\n",
      "Image not found at path: C:\\Users\\Hp\\OneDrive\\Desktop\\Machine Learning\\Group assignment1\\SteelDetection\\train_images\\03860f6a9.jpg\n"
     ]
    },
    {
     "name": "stderr",
     "output_type": "stream",
     "text": [
      "  2%|█▏                                                                             | 112/7095 [00:01<02:03, 56.76it/s]"
     ]
    },
    {
     "name": "stdout",
     "output_type": "stream",
     "text": [
      "Image not found at path: C:\\Users\\Hp\\OneDrive\\Desktop\\Machine Learning\\Group assignment1\\SteelDetection\\train_images\\039577d49.jpg\n",
      "Image not found at path: C:\\Users\\Hp\\OneDrive\\Desktop\\Machine Learning\\Group assignment1\\SteelDetection\\train_images\\04055fd3e.jpg\n",
      "Image not found at path: C:\\Users\\Hp\\OneDrive\\Desktop\\Machine Learning\\Group assignment1\\SteelDetection\\train_images\\04072b39a.jpg\n",
      "Image not found at path: C:\\Users\\Hp\\OneDrive\\Desktop\\Machine Learning\\Group assignment1\\SteelDetection\\train_images\\041187764.jpg\n",
      "Image not found at path: C:\\Users\\Hp\\OneDrive\\Desktop\\Machine Learning\\Group assignment1\\SteelDetection\\train_images\\04246167f.jpg\n",
      "Image not found at path: C:\\Users\\Hp\\OneDrive\\Desktop\\Machine Learning\\Group assignment1\\SteelDetection\\train_images\\0429258ad.jpg\n",
      "Image not found at path: C:\\Users\\Hp\\OneDrive\\Desktop\\Machine Learning\\Group assignment1\\SteelDetection\\train_images\\044700866.jpg\n",
      "Image not found at path: C:\\Users\\Hp\\OneDrive\\Desktop\\Machine Learning\\Group assignment1\\SteelDetection\\train_images\\044700866.jpg\n",
      "Image not found at path: C:\\Users\\Hp\\OneDrive\\Desktop\\Machine Learning\\Group assignment1\\SteelDetection\\train_images\\04594d04e.jpg\n"
     ]
    },
    {
     "name": "stderr",
     "output_type": "stream",
     "text": [
      "  2%|█▍                                                                             | 124/7095 [00:02<01:41, 68.64it/s]"
     ]
    },
    {
     "name": "stdout",
     "output_type": "stream",
     "text": [
      "Image not found at path: C:\\Users\\Hp\\OneDrive\\Desktop\\Machine Learning\\Group assignment1\\SteelDetection\\train_images\\046282f58.jpg\n"
     ]
    },
    {
     "name": "stderr",
     "output_type": "stream",
     "text": [
      "  2%|█▌                                                                             | 144/7095 [00:02<02:03, 56.34it/s]"
     ]
    },
    {
     "name": "stdout",
     "output_type": "stream",
     "text": [
      "Image not found at path: C:\\Users\\Hp\\OneDrive\\Desktop\\Machine Learning\\Group assignment1\\SteelDetection\\train_images\\05184e71b.jpg\n",
      "Image not found at path: C:\\Users\\Hp\\OneDrive\\Desktop\\Machine Learning\\Group assignment1\\SteelDetection\\train_images\\052838084.jpg\n",
      "Image not found at path: C:\\Users\\Hp\\OneDrive\\Desktop\\Machine Learning\\Group assignment1\\SteelDetection\\train_images\\05396b495.jpg\n",
      "Image not found at path: C:\\Users\\Hp\\OneDrive\\Desktop\\Machine Learning\\Group assignment1\\SteelDetection\\train_images\\054190eb2.jpg\n",
      "Image not found at path: C:\\Users\\Hp\\OneDrive\\Desktop\\Machine Learning\\Group assignment1\\SteelDetection\\train_images\\05747b10b.jpg\n"
     ]
    },
    {
     "name": "stderr",
     "output_type": "stream",
     "text": [
      "  2%|█▊                                                                             | 158/7095 [00:02<01:54, 60.44it/s]"
     ]
    },
    {
     "name": "stdout",
     "output_type": "stream",
     "text": [
      "Image not found at path: C:\\Users\\Hp\\OneDrive\\Desktop\\Machine Learning\\Group assignment1\\SteelDetection\\train_images\\059000a4f.jpg\n",
      "Image not found at path: C:\\Users\\Hp\\OneDrive\\Desktop\\Machine Learning\\Group assignment1\\SteelDetection\\train_images\\059327fe3.jpg\n",
      "Image not found at path: C:\\Users\\Hp\\OneDrive\\Desktop\\Machine Learning\\Group assignment1\\SteelDetection\\train_images\\0606395c5.jpg\n",
      "Image not found at path: C:\\Users\\Hp\\OneDrive\\Desktop\\Machine Learning\\Group assignment1\\SteelDetection\\train_images\\060964105.jpg\n",
      "Image not found at path: C:\\Users\\Hp\\OneDrive\\Desktop\\Machine Learning\\Group assignment1\\SteelDetection\\train_images\\062167783.jpg\n",
      "Image not found at path: C:\\Users\\Hp\\OneDrive\\Desktop\\Machine Learning\\Group assignment1\\SteelDetection\\train_images\\063571c5c.jpg\n"
     ]
    },
    {
     "name": "stderr",
     "output_type": "stream",
     "text": [
      "  2%|█▉                                                                             | 173/7095 [00:02<01:51, 61.93it/s]"
     ]
    },
    {
     "name": "stdout",
     "output_type": "stream",
     "text": [
      "Image not found at path: C:\\Users\\Hp\\OneDrive\\Desktop\\Machine Learning\\Group assignment1\\SteelDetection\\train_images\\06713b712.jpg\n",
      "Image not found at path: C:\\Users\\Hp\\OneDrive\\Desktop\\Machine Learning\\Group assignment1\\SteelDetection\\train_images\\068587112.jpg\n"
     ]
    },
    {
     "name": "stderr",
     "output_type": "stream",
     "text": [
      "  3%|██▏                                                                            | 199/7095 [00:03<02:06, 54.72it/s]"
     ]
    },
    {
     "name": "stdout",
     "output_type": "stream",
     "text": [
      "Image not found at path: C:\\Users\\Hp\\OneDrive\\Desktop\\Machine Learning\\Group assignment1\\SteelDetection\\train_images\\07732248e.jpg\n",
      "Image not found at path: C:\\Users\\Hp\\OneDrive\\Desktop\\Machine Learning\\Group assignment1\\SteelDetection\\train_images\\07732248e.jpg\n",
      "Image not found at path: C:\\Users\\Hp\\OneDrive\\Desktop\\Machine Learning\\Group assignment1\\SteelDetection\\train_images\\079054aa2.jpg\n"
     ]
    },
    {
     "name": "stderr",
     "output_type": "stream",
     "text": [
      "  3%|██▍                                                                            | 224/7095 [00:03<02:15, 50.55it/s]"
     ]
    },
    {
     "name": "stdout",
     "output_type": "stream",
     "text": [
      "Image not found at path: C:\\Users\\Hp\\OneDrive\\Desktop\\Machine Learning\\Group assignment1\\SteelDetection\\train_images\\08193cfc8.jpg\n",
      "Image not found at path: C:\\Users\\Hp\\OneDrive\\Desktop\\Machine Learning\\Group assignment1\\SteelDetection\\train_images\\0841074c1.jpg\n",
      "Image not found at path: C:\\Users\\Hp\\OneDrive\\Desktop\\Machine Learning\\Group assignment1\\SteelDetection\\train_images\\0858830b6.jpg\n",
      "Image not found at path: C:\\Users\\Hp\\OneDrive\\Desktop\\Machine Learning\\Group assignment1\\SteelDetection\\train_images\\08605c0eb.jpg\n",
      "Image not found at path: C:\\Users\\Hp\\OneDrive\\Desktop\\Machine Learning\\Group assignment1\\SteelDetection\\train_images\\08808b1a2.jpg\n",
      "Image not found at path: C:\\Users\\Hp\\OneDrive\\Desktop\\Machine Learning\\Group assignment1\\SteelDetection\\train_images\\08852b69d.jpg\n"
     ]
    },
    {
     "name": "stderr",
     "output_type": "stream",
     "text": [
      "  4%|██▊                                                                            | 258/7095 [00:04<02:07, 53.46it/s]"
     ]
    },
    {
     "name": "stdout",
     "output_type": "stream",
     "text": [
      "Image not found at path: C:\\Users\\Hp\\OneDrive\\Desktop\\Machine Learning\\Group assignment1\\SteelDetection\\train_images\\09140dda7.jpg\n",
      "Image not found at path: C:\\Users\\Hp\\OneDrive\\Desktop\\Machine Learning\\Group assignment1\\SteelDetection\\train_images\\092145f0c.jpg\n",
      "Image not found at path: C:\\Users\\Hp\\OneDrive\\Desktop\\Machine Learning\\Group assignment1\\SteelDetection\\train_images\\092614afe.jpg\n",
      "Image not found at path: C:\\Users\\Hp\\OneDrive\\Desktop\\Machine Learning\\Group assignment1\\SteelDetection\\train_images\\09323504a.jpg\n",
      "Image not found at path: C:\\Users\\Hp\\OneDrive\\Desktop\\Machine Learning\\Group assignment1\\SteelDetection\\train_images\\09552b326.jpg\n",
      "Image not found at path: C:\\Users\\Hp\\OneDrive\\Desktop\\Machine Learning\\Group assignment1\\SteelDetection\\train_images\\096465b41.jpg\n",
      "Image not found at path: C:\\Users\\Hp\\OneDrive\\Desktop\\Machine Learning\\Group assignment1\\SteelDetection\\train_images\\0970201e2.jpg\n",
      "Image not found at path: C:\\Users\\Hp\\OneDrive\\Desktop\\Machine Learning\\Group assignment1\\SteelDetection\\train_images\\09757b84e.jpg\n"
     ]
    },
    {
     "name": "stderr",
     "output_type": "stream",
     "text": [
      "  4%|███                                                                            | 278/7095 [00:04<02:08, 53.18it/s]"
     ]
    },
    {
     "name": "stdout",
     "output_type": "stream",
     "text": [
      "Image not found at path: C:\\Users\\Hp\\OneDrive\\Desktop\\Machine Learning\\Group assignment1\\SteelDetection\\train_images\\0986996f0.jpg\n"
     ]
    },
    {
     "name": "stderr",
     "output_type": "stream",
     "text": [
      "  4%|███▌                                                                           | 316/7095 [00:05<01:08, 98.85it/s]"
     ]
    },
    {
     "name": "stdout",
     "output_type": "stream",
     "text": [
      "Image not found at path: C:\\Users\\Hp\\OneDrive\\Desktop\\Machine Learning\\Group assignment1\\SteelDetection\\train_images\\0a21ce787.jpg\n",
      "Image not found at path: C:\\Users\\Hp\\OneDrive\\Desktop\\Machine Learning\\Group assignment1\\SteelDetection\\train_images\\0a26aceb2.jpg\n",
      "Image not found at path: C:\\Users\\Hp\\OneDrive\\Desktop\\Machine Learning\\Group assignment1\\SteelDetection\\train_images\\0a37f0a29.jpg\n",
      "Image not found at path: C:\\Users\\Hp\\OneDrive\\Desktop\\Machine Learning\\Group assignment1\\SteelDetection\\train_images\\0a405b396.jpg\n",
      "Image not found at path: C:\\Users\\Hp\\OneDrive\\Desktop\\Machine Learning\\Group assignment1\\SteelDetection\\train_images\\0a4ad45a5.jpg\n",
      "Image not found at path: C:\\Users\\Hp\\OneDrive\\Desktop\\Machine Learning\\Group assignment1\\SteelDetection\\train_images\\0a5cff3a7.jpg\n",
      "Image not found at path: C:\\Users\\Hp\\OneDrive\\Desktop\\Machine Learning\\Group assignment1\\SteelDetection\\train_images\\0a8306bfe.jpg\n",
      "Image not found at path: C:\\Users\\Hp\\OneDrive\\Desktop\\Machine Learning\\Group assignment1\\SteelDetection\\train_images\\0a8cb8ddf.jpg\n",
      "Image not found at path: C:\\Users\\Hp\\OneDrive\\Desktop\\Machine Learning\\Group assignment1\\SteelDetection\\train_images\\0a9a7a6c7.jpg\n",
      "Image not found at path: C:\\Users\\Hp\\OneDrive\\Desktop\\Machine Learning\\Group assignment1\\SteelDetection\\train_images\\0a9aaba9a.jpg\n",
      "Image not found at path: C:\\Users\\Hp\\OneDrive\\Desktop\\Machine Learning\\Group assignment1\\SteelDetection\\train_images\\0aa4399a4.jpg\n",
      "Image not found at path: C:\\Users\\Hp\\OneDrive\\Desktop\\Machine Learning\\Group assignment1\\SteelDetection\\train_images\\0aa7955fd.jpg\n",
      "Image not found at path: C:\\Users\\Hp\\OneDrive\\Desktop\\Machine Learning\\Group assignment1\\SteelDetection\\train_images\\0aafd7471.jpg\n",
      "Image not found at path: C:\\Users\\Hp\\OneDrive\\Desktop\\Machine Learning\\Group assignment1\\SteelDetection\\train_images\\0abfbfc69.jpg\n",
      "Image not found at path: C:\\Users\\Hp\\OneDrive\\Desktop\\Machine Learning\\Group assignment1\\SteelDetection\\train_images\\0ac9936af.jpg\n",
      "Image not found at path: C:\\Users\\Hp\\OneDrive\\Desktop\\Machine Learning\\Group assignment1\\SteelDetection\\train_images\\0aceecf0a.jpg\n",
      "Image not found at path: C:\\Users\\Hp\\OneDrive\\Desktop\\Machine Learning\\Group assignment1\\SteelDetection\\train_images\\0adc17f1d.jpg\n",
      "Image not found at path: C:\\Users\\Hp\\OneDrive\\Desktop\\Machine Learning\\Group assignment1\\SteelDetection\\train_images\\0ae4f8a60.jpg\n",
      "Image not found at path: C:\\Users\\Hp\\OneDrive\\Desktop\\Machine Learning\\Group assignment1\\SteelDetection\\train_images\\0af6b34a8.jpg\n",
      "Image not found at path: C:\\Users\\Hp\\OneDrive\\Desktop\\Machine Learning\\Group assignment1\\SteelDetection\\train_images\\0b1235e38.jpg\n",
      "Image not found at path: C:\\Users\\Hp\\OneDrive\\Desktop\\Machine Learning\\Group assignment1\\SteelDetection\\train_images\\0b1993a49.jpg\n",
      "Image not found at path: C:\\Users\\Hp\\OneDrive\\Desktop\\Machine Learning\\Group assignment1\\SteelDetection\\train_images\\0b1a4d585.jpg\n",
      "Image not found at path: C:\\Users\\Hp\\OneDrive\\Desktop\\Machine Learning\\Group assignment1\\SteelDetection\\train_images\\0b1e5a7a5.jpg\n",
      "Image not found at path: C:\\Users\\Hp\\OneDrive\\Desktop\\Machine Learning\\Group assignment1\\SteelDetection\\train_images\\0b475b419.jpg\n",
      "Image not found at path: C:\\Users\\Hp\\OneDrive\\Desktop\\Machine Learning\\Group assignment1\\SteelDetection\\train_images\\0b4a68676.jpg\n",
      "Image not found at path: C:\\Users\\Hp\\OneDrive\\Desktop\\Machine Learning\\Group assignment1\\SteelDetection\\train_images\\0b4c8e681.jpg\n",
      "Image not found at path: C:\\Users\\Hp\\OneDrive\\Desktop\\Machine Learning\\Group assignment1\\SteelDetection\\train_images\\0b5018316.jpg\n",
      "Image not found at path: C:\\Users\\Hp\\OneDrive\\Desktop\\Machine Learning\\Group assignment1\\SteelDetection\\train_images\\0b5051d9f.jpg\n",
      "Image not found at path: C:\\Users\\Hp\\OneDrive\\Desktop\\Machine Learning\\Group assignment1\\SteelDetection\\train_images\\0b56da4ff.jpg\n",
      "Image not found at path: C:\\Users\\Hp\\OneDrive\\Desktop\\Machine Learning\\Group assignment1\\SteelDetection\\train_images\\0b5c97e4c.jpg\n",
      "Image not found at path: C:\\Users\\Hp\\OneDrive\\Desktop\\Machine Learning\\Group assignment1\\SteelDetection\\train_images\\0b6cc9daa.jpg\n",
      "Image not found at path: C:\\Users\\Hp\\OneDrive\\Desktop\\Machine Learning\\Group assignment1\\SteelDetection\\train_images\\0b76bcd3a.jpg\n",
      "Image not found at path: C:\\Users\\Hp\\OneDrive\\Desktop\\Machine Learning\\Group assignment1\\SteelDetection\\train_images\\0b77d4ddf.jpg\n",
      "Image not found at path: C:\\Users\\Hp\\OneDrive\\Desktop\\Machine Learning\\Group assignment1\\SteelDetection\\train_images\\0b7a4c9b9.jpg\n",
      "Image not found at path: C:\\Users\\Hp\\OneDrive\\Desktop\\Machine Learning\\Group assignment1\\SteelDetection\\train_images\\0b8575001.jpg\n",
      "Image not found at path: C:\\Users\\Hp\\OneDrive\\Desktop\\Machine Learning\\Group assignment1\\SteelDetection\\train_images\\0b8775632.jpg\n",
      "Image not found at path: C:\\Users\\Hp\\OneDrive\\Desktop\\Machine Learning\\Group assignment1\\SteelDetection\\train_images\\0bb304645.jpg\n"
     ]
    },
    {
     "name": "stderr",
     "output_type": "stream",
     "text": [
      "  5%|███▋                                                                          | 333/7095 [00:05<00:58, 116.48it/s]"
     ]
    },
    {
     "name": "stdout",
     "output_type": "stream",
     "text": [
      "Image not found at path: C:\\Users\\Hp\\OneDrive\\Desktop\\Machine Learning\\Group assignment1\\SteelDetection\\train_images\\0bb37f2aa.jpg\n",
      "Image not found at path: C:\\Users\\Hp\\OneDrive\\Desktop\\Machine Learning\\Group assignment1\\SteelDetection\\train_images\\0bb39cafa.jpg\n",
      "Image not found at path: C:\\Users\\Hp\\OneDrive\\Desktop\\Machine Learning\\Group assignment1\\SteelDetection\\train_images\\0bbd121d7.jpg\n",
      "Image not found at path: C:\\Users\\Hp\\OneDrive\\Desktop\\Machine Learning\\Group assignment1\\SteelDetection\\train_images\\0bc0d715e.jpg\n",
      "Image not found at path: C:\\Users\\Hp\\OneDrive\\Desktop\\Machine Learning\\Group assignment1\\SteelDetection\\train_images\\0bc373e44.jpg\n",
      "Image not found at path: C:\\Users\\Hp\\OneDrive\\Desktop\\Machine Learning\\Group assignment1\\SteelDetection\\train_images\\0bc373e44.jpg\n",
      "Image not found at path: C:\\Users\\Hp\\OneDrive\\Desktop\\Machine Learning\\Group assignment1\\SteelDetection\\train_images\\0bc3f8ce8.jpg\n",
      "Image not found at path: C:\\Users\\Hp\\OneDrive\\Desktop\\Machine Learning\\Group assignment1\\SteelDetection\\train_images\\0bc8070d5.jpg\n",
      "Image not found at path: C:\\Users\\Hp\\OneDrive\\Desktop\\Machine Learning\\Group assignment1\\SteelDetection\\train_images\\0bd6da716.jpg\n",
      "Image not found at path: C:\\Users\\Hp\\OneDrive\\Desktop\\Machine Learning\\Group assignment1\\SteelDetection\\train_images\\0bda9a0eb.jpg\n",
      "Image not found at path: C:\\Users\\Hp\\OneDrive\\Desktop\\Machine Learning\\Group assignment1\\SteelDetection\\train_images\\0be9bad7b.jpg\n",
      "Image not found at path: C:\\Users\\Hp\\OneDrive\\Desktop\\Machine Learning\\Group assignment1\\SteelDetection\\train_images\\0be9bad7b.jpg\n",
      "Image not found at path: C:\\Users\\Hp\\OneDrive\\Desktop\\Machine Learning\\Group assignment1\\SteelDetection\\train_images\\0bee4edeb.jpg\n",
      "Image not found at path: C:\\Users\\Hp\\OneDrive\\Desktop\\Machine Learning\\Group assignment1\\SteelDetection\\train_images\\0bfce2f41.jpg\n",
      "Image not found at path: C:\\Users\\Hp\\OneDrive\\Desktop\\Machine Learning\\Group assignment1\\SteelDetection\\train_images\\0bfcf7a71.jpg\n",
      "Image not found at path: C:\\Users\\Hp\\OneDrive\\Desktop\\Machine Learning\\Group assignment1\\SteelDetection\\train_images\\0c5c5644b.jpg\n"
     ]
    },
    {
     "name": "stderr",
     "output_type": "stream",
     "text": [
      "  5%|███▊                                                                           | 346/7095 [00:05<01:07, 99.72it/s]"
     ]
    },
    {
     "name": "stdout",
     "output_type": "stream",
     "text": [
      "Image not found at path: C:\\Users\\Hp\\OneDrive\\Desktop\\Machine Learning\\Group assignment1\\SteelDetection\\train_images\\0c9ae816d.jpg\n"
     ]
    },
    {
     "name": "stderr",
     "output_type": "stream",
     "text": [
      "  6%|█████                                                                          | 452/7095 [00:07<02:08, 51.71it/s]"
     ]
    },
    {
     "name": "stdout",
     "output_type": "stream",
     "text": [
      "Image not found at path: C:\\Users\\Hp\\OneDrive\\Desktop\\Machine Learning\\Group assignment1\\SteelDetection\\train_images\\101648543.jpg\n",
      "Image not found at path: C:\\Users\\Hp\\OneDrive\\Desktop\\Machine Learning\\Group assignment1\\SteelDetection\\train_images\\101648543.jpg\n",
      "Image not found at path: C:\\Users\\Hp\\OneDrive\\Desktop\\Machine Learning\\Group assignment1\\SteelDetection\\train_images\\10378f8ea.jpg\n",
      "Image not found at path: C:\\Users\\Hp\\OneDrive\\Desktop\\Machine Learning\\Group assignment1\\SteelDetection\\train_images\\1086196e1.jpg\n",
      "Image not found at path: C:\\Users\\Hp\\OneDrive\\Desktop\\Machine Learning\\Group assignment1\\SteelDetection\\train_images\\10909b4bb.jpg\n",
      "Image not found at path: C:\\Users\\Hp\\OneDrive\\Desktop\\Machine Learning\\Group assignment1\\SteelDetection\\train_images\\10972add9.jpg\n"
     ]
    },
    {
     "name": "stderr",
     "output_type": "stream",
     "text": [
      "  7%|█████▎                                                                         | 480/7095 [00:08<01:48, 61.11it/s]"
     ]
    },
    {
     "name": "stdout",
     "output_type": "stream",
     "text": [
      "Image not found at path: C:\\Users\\Hp\\OneDrive\\Desktop\\Machine Learning\\Group assignment1\\SteelDetection\\train_images\\11192bc94.jpg\n",
      "Image not found at path: C:\\Users\\Hp\\OneDrive\\Desktop\\Machine Learning\\Group assignment1\\SteelDetection\\train_images\\112942aed.jpg\n",
      "Image not found at path: C:\\Users\\Hp\\OneDrive\\Desktop\\Machine Learning\\Group assignment1\\SteelDetection\\train_images\\112942aed.jpg\n",
      "Image not found at path: C:\\Users\\Hp\\OneDrive\\Desktop\\Machine Learning\\Group assignment1\\SteelDetection\\train_images\\11418b1c5.jpg\n",
      "Image not found at path: C:\\Users\\Hp\\OneDrive\\Desktop\\Machine Learning\\Group assignment1\\SteelDetection\\train_images\\1165781f0.jpg\n",
      "Image not found at path: C:\\Users\\Hp\\OneDrive\\Desktop\\Machine Learning\\Group assignment1\\SteelDetection\\train_images\\117759a83.jpg\n"
     ]
    },
    {
     "name": "stderr",
     "output_type": "stream",
     "text": [
      "  7%|█████▌                                                                         | 504/7095 [00:08<01:42, 64.28it/s]"
     ]
    },
    {
     "name": "stdout",
     "output_type": "stream",
     "text": [
      "Image not found at path: C:\\Users\\Hp\\OneDrive\\Desktop\\Machine Learning\\Group assignment1\\SteelDetection\\train_images\\12234aab8.jpg\n",
      "Image not found at path: C:\\Users\\Hp\\OneDrive\\Desktop\\Machine Learning\\Group assignment1\\SteelDetection\\train_images\\12274ea9c.jpg\n",
      "Image not found at path: C:\\Users\\Hp\\OneDrive\\Desktop\\Machine Learning\\Group assignment1\\SteelDetection\\train_images\\12375dd7a.jpg\n",
      "Image not found at path: C:\\Users\\Hp\\OneDrive\\Desktop\\Machine Learning\\Group assignment1\\SteelDetection\\train_images\\1238340e9.jpg\n",
      "Image not found at path: C:\\Users\\Hp\\OneDrive\\Desktop\\Machine Learning\\Group assignment1\\SteelDetection\\train_images\\124204a30.jpg\n",
      "Image not found at path: C:\\Users\\Hp\\OneDrive\\Desktop\\Machine Learning\\Group assignment1\\SteelDetection\\train_images\\12471d0d5.jpg\n",
      "Image not found at path: C:\\Users\\Hp\\OneDrive\\Desktop\\Machine Learning\\Group assignment1\\SteelDetection\\train_images\\12627251e.jpg\n",
      "Image not found at path: C:\\Users\\Hp\\OneDrive\\Desktop\\Machine Learning\\Group assignment1\\SteelDetection\\train_images\\127504e0f.jpg\n",
      "Image not found at path: C:\\Users\\Hp\\OneDrive\\Desktop\\Machine Learning\\Group assignment1\\SteelDetection\\train_images\\1287339e5.jpg\n"
     ]
    },
    {
     "name": "stderr",
     "output_type": "stream",
     "text": [
      "  7%|█████▊                                                                         | 518/7095 [00:08<01:49, 59.86it/s]"
     ]
    },
    {
     "name": "stdout",
     "output_type": "stream",
     "text": [
      "Image not found at path: C:\\Users\\Hp\\OneDrive\\Desktop\\Machine Learning\\Group assignment1\\SteelDetection\\train_images\\13067c801.jpg\n",
      "Image not found at path: C:\\Users\\Hp\\OneDrive\\Desktop\\Machine Learning\\Group assignment1\\SteelDetection\\train_images\\13169e4cf.jpg\n",
      "Image not found at path: C:\\Users\\Hp\\OneDrive\\Desktop\\Machine Learning\\Group assignment1\\SteelDetection\\train_images\\132511b8b.jpg\n"
     ]
    },
    {
     "name": "stderr",
     "output_type": "stream",
     "text": [
      "  7%|█████▉                                                                         | 531/7095 [00:09<02:01, 53.85it/s]"
     ]
    },
    {
     "name": "stdout",
     "output_type": "stream",
     "text": [
      "Image not found at path: C:\\Users\\Hp\\OneDrive\\Desktop\\Machine Learning\\Group assignment1\\SteelDetection\\train_images\\1387583da.jpg\n"
     ]
    },
    {
     "name": "stderr",
     "output_type": "stream",
     "text": [
      "  8%|██████                                                                         | 550/7095 [00:09<02:05, 52.26it/s]"
     ]
    },
    {
     "name": "stdout",
     "output_type": "stream",
     "text": [
      "Image not found at path: C:\\Users\\Hp\\OneDrive\\Desktop\\Machine Learning\\Group assignment1\\SteelDetection\\train_images\\14457e888.jpg\n"
     ]
    },
    {
     "name": "stderr",
     "output_type": "stream",
     "text": [
      "  8%|██████▎                                                                        | 569/7095 [00:09<02:03, 52.67it/s]"
     ]
    },
    {
     "name": "stdout",
     "output_type": "stream",
     "text": [
      "Image not found at path: C:\\Users\\Hp\\OneDrive\\Desktop\\Machine Learning\\Group assignment1\\SteelDetection\\train_images\\15547c309.jpg\n",
      "Image not found at path: C:\\Users\\Hp\\OneDrive\\Desktop\\Machine Learning\\Group assignment1\\SteelDetection\\train_images\\15796b4d5.jpg\n"
     ]
    },
    {
     "name": "stderr",
     "output_type": "stream",
     "text": [
      "  8%|██████▌                                                                        | 594/7095 [00:10<02:03, 52.74it/s]"
     ]
    },
    {
     "name": "stdout",
     "output_type": "stream",
     "text": [
      "Image not found at path: C:\\Users\\Hp\\OneDrive\\Desktop\\Machine Learning\\Group assignment1\\SteelDetection\\train_images\\163473240.jpg\n",
      "Image not found at path: C:\\Users\\Hp\\OneDrive\\Desktop\\Machine Learning\\Group assignment1\\SteelDetection\\train_images\\16371ae14.jpg\n",
      "Image not found at path: C:\\Users\\Hp\\OneDrive\\Desktop\\Machine Learning\\Group assignment1\\SteelDetection\\train_images\\16498a156.jpg\n",
      "Image not found at path: C:\\Users\\Hp\\OneDrive\\Desktop\\Machine Learning\\Group assignment1\\SteelDetection\\train_images\\166645a0b.jpg\n",
      "Image not found at path: C:\\Users\\Hp\\OneDrive\\Desktop\\Machine Learning\\Group assignment1\\SteelDetection\\train_images\\166818755.jpg\n"
     ]
    },
    {
     "name": "stderr",
     "output_type": "stream",
     "text": [
      "  9%|██████▊                                                                        | 608/7095 [00:10<01:56, 55.64it/s]"
     ]
    },
    {
     "name": "stdout",
     "output_type": "stream",
     "text": [
      "Image not found at path: C:\\Users\\Hp\\OneDrive\\Desktop\\Machine Learning\\Group assignment1\\SteelDetection\\train_images\\1699951da.jpg\n"
     ]
    },
    {
     "name": "stderr",
     "output_type": "stream",
     "text": [
      "  9%|██████▉                                                                        | 627/7095 [00:10<01:57, 55.09it/s]"
     ]
    },
    {
     "name": "stdout",
     "output_type": "stream",
     "text": [
      "Image not found at path: C:\\Users\\Hp\\OneDrive\\Desktop\\Machine Learning\\Group assignment1\\SteelDetection\\train_images\\17383bd97.jpg\n",
      "Image not found at path: C:\\Users\\Hp\\OneDrive\\Desktop\\Machine Learning\\Group assignment1\\SteelDetection\\train_images\\178490b45.jpg\n",
      "Image not found at path: C:\\Users\\Hp\\OneDrive\\Desktop\\Machine Learning\\Group assignment1\\SteelDetection\\train_images\\1795867f2.jpg\n"
     ]
    },
    {
     "name": "stderr",
     "output_type": "stream",
     "text": [
      "  9%|███████▎                                                                       | 652/7095 [00:11<01:57, 54.98it/s]"
     ]
    },
    {
     "name": "stdout",
     "output_type": "stream",
     "text": [
      "Image not found at path: C:\\Users\\Hp\\OneDrive\\Desktop\\Machine Learning\\Group assignment1\\SteelDetection\\train_images\\180478e66.jpg\n",
      "Image not found at path: C:\\Users\\Hp\\OneDrive\\Desktop\\Machine Learning\\Group assignment1\\SteelDetection\\train_images\\181454b94.jpg\n",
      "Image not found at path: C:\\Users\\Hp\\OneDrive\\Desktop\\Machine Learning\\Group assignment1\\SteelDetection\\train_images\\183383e8d.jpg\n",
      "Image not found at path: C:\\Users\\Hp\\OneDrive\\Desktop\\Machine Learning\\Group assignment1\\SteelDetection\\train_images\\18615eacf.jpg\n"
     ]
    },
    {
     "name": "stderr",
     "output_type": "stream",
     "text": [
      "  9%|███████▍                                                                       | 667/7095 [00:11<01:48, 59.35it/s]"
     ]
    },
    {
     "name": "stdout",
     "output_type": "stream",
     "text": [
      "Image not found at path: C:\\Users\\Hp\\OneDrive\\Desktop\\Machine Learning\\Group assignment1\\SteelDetection\\train_images\\186534efc.jpg\n",
      "Image not found at path: C:\\Users\\Hp\\OneDrive\\Desktop\\Machine Learning\\Group assignment1\\SteelDetection\\train_images\\189659389.jpg\n",
      "Image not found at path: C:\\Users\\Hp\\OneDrive\\Desktop\\Machine Learning\\Group assignment1\\SteelDetection\\train_images\\1897882a1.jpg\n",
      "Image not found at path: C:\\Users\\Hp\\OneDrive\\Desktop\\Machine Learning\\Group assignment1\\SteelDetection\\train_images\\190190a6f.jpg\n",
      "Image not found at path: C:\\Users\\Hp\\OneDrive\\Desktop\\Machine Learning\\Group assignment1\\SteelDetection\\train_images\\19115aedb.jpg\n"
     ]
    },
    {
     "name": "stderr",
     "output_type": "stream",
     "text": [
      " 10%|███████▌                                                                       | 681/7095 [00:11<01:49, 58.61it/s]"
     ]
    },
    {
     "name": "stdout",
     "output_type": "stream",
     "text": [
      "Image not found at path: C:\\Users\\Hp\\OneDrive\\Desktop\\Machine Learning\\Group assignment1\\SteelDetection\\train_images\\192531334.jpg\n",
      "Image not found at path: C:\\Users\\Hp\\OneDrive\\Desktop\\Machine Learning\\Group assignment1\\SteelDetection\\train_images\\193884988.jpg\n",
      "Image not found at path: C:\\Users\\Hp\\OneDrive\\Desktop\\Machine Learning\\Group assignment1\\SteelDetection\\train_images\\19656c148.jpg\n",
      "Image not found at path: C:\\Users\\Hp\\OneDrive\\Desktop\\Machine Learning\\Group assignment1\\SteelDetection\\train_images\\198252b95.jpg\n"
     ]
    },
    {
     "name": "stderr",
     "output_type": "stream",
     "text": [
      " 10%|███████▋                                                                       | 687/7095 [00:11<01:51, 57.43it/s]"
     ]
    },
    {
     "name": "stdout",
     "output_type": "stream",
     "text": [
      "Image not found at path: C:\\Users\\Hp\\OneDrive\\Desktop\\Machine Learning\\Group assignment1\\SteelDetection\\train_images\\19955420c.jpg\n"
     ]
    },
    {
     "name": "stderr",
     "output_type": "stream",
     "text": [
      " 13%|█████████▉                                                                     | 898/7095 [00:16<01:37, 63.26it/s]"
     ]
    },
    {
     "name": "stdout",
     "output_type": "stream",
     "text": [
      "Image not found at path: C:\\Users\\Hp\\OneDrive\\Desktop\\Machine Learning\\Group assignment1\\SteelDetection\\train_images\\200992bc9.jpg\n",
      "Image not found at path: C:\\Users\\Hp\\OneDrive\\Desktop\\Machine Learning\\Group assignment1\\SteelDetection\\train_images\\201560907.jpg\n",
      "Image not found at path: C:\\Users\\Hp\\OneDrive\\Desktop\\Machine Learning\\Group assignment1\\SteelDetection\\train_images\\2019417e0.jpg\n",
      "Image not found at path: C:\\Users\\Hp\\OneDrive\\Desktop\\Machine Learning\\Group assignment1\\SteelDetection\\train_images\\202838a14.jpg\n",
      "Image not found at path: C:\\Users\\Hp\\OneDrive\\Desktop\\Machine Learning\\Group assignment1\\SteelDetection\\train_images\\204949166.jpg\n",
      "Image not found at path: C:\\Users\\Hp\\OneDrive\\Desktop\\Machine Learning\\Group assignment1\\SteelDetection\\train_images\\205360569.jpg\n",
      "Image not found at path: C:\\Users\\Hp\\OneDrive\\Desktop\\Machine Learning\\Group assignment1\\SteelDetection\\train_images\\205685883.jpg\n",
      "Image not found at path: C:\\Users\\Hp\\OneDrive\\Desktop\\Machine Learning\\Group assignment1\\SteelDetection\\train_images\\205685883.jpg\n",
      "Image not found at path: C:\\Users\\Hp\\OneDrive\\Desktop\\Machine Learning\\Group assignment1\\SteelDetection\\train_images\\20617dd9a.jpg\n"
     ]
    },
    {
     "name": "stderr",
     "output_type": "stream",
     "text": [
      " 13%|██████████▏                                                                    | 913/7095 [00:16<01:39, 62.35it/s]"
     ]
    },
    {
     "name": "stdout",
     "output_type": "stream",
     "text": [
      "Image not found at path: C:\\Users\\Hp\\OneDrive\\Desktop\\Machine Learning\\Group assignment1\\SteelDetection\\train_images\\208825e67.jpg\n",
      "Image not found at path: C:\\Users\\Hp\\OneDrive\\Desktop\\Machine Learning\\Group assignment1\\SteelDetection\\train_images\\20905c068.jpg\n",
      "Image not found at path: C:\\Users\\Hp\\OneDrive\\Desktop\\Machine Learning\\Group assignment1\\SteelDetection\\train_images\\20964a4f0.jpg\n",
      "Image not found at path: C:\\Users\\Hp\\OneDrive\\Desktop\\Machine Learning\\Group assignment1\\SteelDetection\\train_images\\20964a4f0.jpg\n"
     ]
    },
    {
     "name": "stderr",
     "output_type": "stream",
     "text": [
      " 13%|██████████▏                                                                    | 920/7095 [00:16<01:39, 62.10it/s]"
     ]
    },
    {
     "name": "stdout",
     "output_type": "stream",
     "text": [
      "Image not found at path: C:\\Users\\Hp\\OneDrive\\Desktop\\Machine Learning\\Group assignment1\\SteelDetection\\train_images\\21365e1a3.jpg\n",
      "Image not found at path: C:\\Users\\Hp\\OneDrive\\Desktop\\Machine Learning\\Group assignment1\\SteelDetection\\train_images\\214465021.jpg\n"
     ]
    },
    {
     "name": "stderr",
     "output_type": "stream",
     "text": [
      " 13%|██████████▍                                                                    | 933/7095 [00:16<02:11, 46.89it/s]"
     ]
    },
    {
     "name": "stdout",
     "output_type": "stream",
     "text": [
      "Image not found at path: C:\\Users\\Hp\\OneDrive\\Desktop\\Machine Learning\\Group assignment1\\SteelDetection\\train_images\\219621d5d.jpg\n"
     ]
    },
    {
     "name": "stderr",
     "output_type": "stream",
     "text": [
      " 13%|██████████▌                                                                    | 951/7095 [00:17<01:59, 51.57it/s]"
     ]
    },
    {
     "name": "stdout",
     "output_type": "stream",
     "text": [
      "Image not found at path: C:\\Users\\Hp\\OneDrive\\Desktop\\Machine Learning\\Group assignment1\\SteelDetection\\train_images\\22031aa8f.jpg\n",
      "Image not found at path: C:\\Users\\Hp\\OneDrive\\Desktop\\Machine Learning\\Group assignment1\\SteelDetection\\train_images\\22123f29f.jpg\n",
      "Image not found at path: C:\\Users\\Hp\\OneDrive\\Desktop\\Machine Learning\\Group assignment1\\SteelDetection\\train_images\\22458f946.jpg\n",
      "Image not found at path: C:\\Users\\Hp\\OneDrive\\Desktop\\Machine Learning\\Group assignment1\\SteelDetection\\train_images\\22553cebc.jpg\n"
     ]
    },
    {
     "name": "stderr",
     "output_type": "stream",
     "text": [
      " 14%|██████████▋                                                                    | 964/7095 [00:17<01:52, 54.71it/s]"
     ]
    },
    {
     "name": "stdout",
     "output_type": "stream",
     "text": [
      "Image not found at path: C:\\Users\\Hp\\OneDrive\\Desktop\\Machine Learning\\Group assignment1\\SteelDetection\\train_images\\22827c51d.jpg\n",
      "Image not found at path: C:\\Users\\Hp\\OneDrive\\Desktop\\Machine Learning\\Group assignment1\\SteelDetection\\train_images\\229500455.jpg\n",
      "Image not found at path: C:\\Users\\Hp\\OneDrive\\Desktop\\Machine Learning\\Group assignment1\\SteelDetection\\train_images\\229906ed1.jpg\n"
     ]
    },
    {
     "name": "stderr",
     "output_type": "stream",
     "text": [
      " 14%|██████████▉                                                                    | 977/7095 [00:17<01:49, 55.77it/s]"
     ]
    },
    {
     "name": "stdout",
     "output_type": "stream",
     "text": [
      "Image not found at path: C:\\Users\\Hp\\OneDrive\\Desktop\\Machine Learning\\Group assignment1\\SteelDetection\\train_images\\23115ad3a.jpg\n",
      "Image not found at path: C:\\Users\\Hp\\OneDrive\\Desktop\\Machine Learning\\Group assignment1\\SteelDetection\\train_images\\23120f506.jpg\n",
      "Image not found at path: C:\\Users\\Hp\\OneDrive\\Desktop\\Machine Learning\\Group assignment1\\SteelDetection\\train_images\\232256b21.jpg\n",
      "Image not found at path: C:\\Users\\Hp\\OneDrive\\Desktop\\Machine Learning\\Group assignment1\\SteelDetection\\train_images\\23783382d.jpg\n"
     ]
    },
    {
     "name": "stderr",
     "output_type": "stream",
     "text": [
      " 14%|███████████                                                                   | 1006/7095 [00:18<01:31, 66.21it/s]"
     ]
    },
    {
     "name": "stdout",
     "output_type": "stream",
     "text": [
      "Image not found at path: C:\\Users\\Hp\\OneDrive\\Desktop\\Machine Learning\\Group assignment1\\SteelDetection\\train_images\\24066d57e.jpg\n",
      "Image not found at path: C:\\Users\\Hp\\OneDrive\\Desktop\\Machine Learning\\Group assignment1\\SteelDetection\\train_images\\24154161c.jpg\n",
      "Image not found at path: C:\\Users\\Hp\\OneDrive\\Desktop\\Machine Learning\\Group assignment1\\SteelDetection\\train_images\\24256f234.jpg\n",
      "Image not found at path: C:\\Users\\Hp\\OneDrive\\Desktop\\Machine Learning\\Group assignment1\\SteelDetection\\train_images\\242894fc4.jpg\n",
      "Image not found at path: C:\\Users\\Hp\\OneDrive\\Desktop\\Machine Learning\\Group assignment1\\SteelDetection\\train_images\\24528b550.jpg\n",
      "Image not found at path: C:\\Users\\Hp\\OneDrive\\Desktop\\Machine Learning\\Group assignment1\\SteelDetection\\train_images\\247108a1c.jpg\n",
      "Image not found at path: C:\\Users\\Hp\\OneDrive\\Desktop\\Machine Learning\\Group assignment1\\SteelDetection\\train_images\\248220d45.jpg\n",
      "Image not found at path: C:\\Users\\Hp\\OneDrive\\Desktop\\Machine Learning\\Group assignment1\\SteelDetection\\train_images\\248585a26.jpg\n",
      "Image not found at path: C:\\Users\\Hp\\OneDrive\\Desktop\\Machine Learning\\Group assignment1\\SteelDetection\\train_images\\248585a26.jpg\n",
      "Image not found at path: C:\\Users\\Hp\\OneDrive\\Desktop\\Machine Learning\\Group assignment1\\SteelDetection\\train_images\\24884c39c.jpg\n"
     ]
    },
    {
     "name": "stderr",
     "output_type": "stream",
     "text": [
      " 15%|███████████▍                                                                  | 1035/7095 [00:18<01:44, 58.19it/s]"
     ]
    },
    {
     "name": "stdout",
     "output_type": "stream",
     "text": [
      "Image not found at path: C:\\Users\\Hp\\OneDrive\\Desktop\\Machine Learning\\Group assignment1\\SteelDetection\\train_images\\250107a1b.jpg\n",
      "Image not found at path: C:\\Users\\Hp\\OneDrive\\Desktop\\Machine Learning\\Group assignment1\\SteelDetection\\train_images\\2527831fa.jpg\n",
      "Image not found at path: C:\\Users\\Hp\\OneDrive\\Desktop\\Machine Learning\\Group assignment1\\SteelDetection\\train_images\\25337cb38.jpg\n",
      "Image not found at path: C:\\Users\\Hp\\OneDrive\\Desktop\\Machine Learning\\Group assignment1\\SteelDetection\\train_images\\25515c2f6.jpg\n",
      "Image not found at path: C:\\Users\\Hp\\OneDrive\\Desktop\\Machine Learning\\Group assignment1\\SteelDetection\\train_images\\25548e840.jpg\n",
      "Image not found at path: C:\\Users\\Hp\\OneDrive\\Desktop\\Machine Learning\\Group assignment1\\SteelDetection\\train_images\\25737d300.jpg\n"
     ]
    },
    {
     "name": "stderr",
     "output_type": "stream",
     "text": [
      " 15%|███████████▋                                                                  | 1064/7095 [00:19<01:41, 59.20it/s]"
     ]
    },
    {
     "name": "stdout",
     "output_type": "stream",
     "text": [
      "Image not found at path: C:\\Users\\Hp\\OneDrive\\Desktop\\Machine Learning\\Group assignment1\\SteelDetection\\train_images\\26272c2a7.jpg\n",
      "Image not found at path: C:\\Users\\Hp\\OneDrive\\Desktop\\Machine Learning\\Group assignment1\\SteelDetection\\train_images\\268446e17.jpg\n"
     ]
    },
    {
     "name": "stderr",
     "output_type": "stream",
     "text": [
      " 15%|███████████▉                                                                  | 1091/7095 [00:19<01:18, 76.76it/s]"
     ]
    },
    {
     "name": "stdout",
     "output_type": "stream",
     "text": [
      "Image not found at path: C:\\Users\\Hp\\OneDrive\\Desktop\\Machine Learning\\Group assignment1\\SteelDetection\\train_images\\271551c4f.jpg\n",
      "Image not found at path: C:\\Users\\Hp\\OneDrive\\Desktop\\Machine Learning\\Group assignment1\\SteelDetection\\train_images\\2720732e7.jpg\n",
      "Image not found at path: C:\\Users\\Hp\\OneDrive\\Desktop\\Machine Learning\\Group assignment1\\SteelDetection\\train_images\\27207fb2e.jpg\n",
      "Image not found at path: C:\\Users\\Hp\\OneDrive\\Desktop\\Machine Learning\\Group assignment1\\SteelDetection\\train_images\\2725ee8d6.jpg\n",
      "Image not found at path: C:\\Users\\Hp\\OneDrive\\Desktop\\Machine Learning\\Group assignment1\\SteelDetection\\train_images\\2731f7830.jpg\n",
      "Image not found at path: C:\\Users\\Hp\\OneDrive\\Desktop\\Machine Learning\\Group assignment1\\SteelDetection\\train_images\\2731f7830.jpg\n",
      "Image not found at path: C:\\Users\\Hp\\OneDrive\\Desktop\\Machine Learning\\Group assignment1\\SteelDetection\\train_images\\2741274d7.jpg\n",
      "Image not found at path: C:\\Users\\Hp\\OneDrive\\Desktop\\Machine Learning\\Group assignment1\\SteelDetection\\train_images\\2744b6b26.jpg\n",
      "Image not found at path: C:\\Users\\Hp\\OneDrive\\Desktop\\Machine Learning\\Group assignment1\\SteelDetection\\train_images\\2745ecf6b.jpg\n",
      "Image not found at path: C:\\Users\\Hp\\OneDrive\\Desktop\\Machine Learning\\Group assignment1\\SteelDetection\\train_images\\2749c24a9.jpg\n",
      "Image not found at path: C:\\Users\\Hp\\OneDrive\\Desktop\\Machine Learning\\Group assignment1\\SteelDetection\\train_images\\2757df221.jpg\n",
      "Image not found at path: C:\\Users\\Hp\\OneDrive\\Desktop\\Machine Learning\\Group assignment1\\SteelDetection\\train_images\\276111a31.jpg\n",
      "Image not found at path: C:\\Users\\Hp\\OneDrive\\Desktop\\Machine Learning\\Group assignment1\\SteelDetection\\train_images\\2770fe933.jpg\n",
      "Image not found at path: C:\\Users\\Hp\\OneDrive\\Desktop\\Machine Learning\\Group assignment1\\SteelDetection\\train_images\\2776642e1.jpg\n"
     ]
    },
    {
     "name": "stderr",
     "output_type": "stream",
     "text": [
      " 15%|████████████                                                                  | 1099/7095 [00:19<01:27, 68.31it/s]"
     ]
    },
    {
     "name": "stdout",
     "output_type": "stream",
     "text": [
      "Image not found at path: C:\\Users\\Hp\\OneDrive\\Desktop\\Machine Learning\\Group assignment1\\SteelDetection\\train_images\\2789df930.jpg\n"
     ]
    },
    {
     "name": "stderr",
     "output_type": "stream",
     "text": [
      " 16%|████████████▎                                                                 | 1115/7095 [00:19<01:28, 67.31it/s]"
     ]
    },
    {
     "name": "stdout",
     "output_type": "stream",
     "text": [
      "Image not found at path: C:\\Users\\Hp\\OneDrive\\Desktop\\Machine Learning\\Group assignment1\\SteelDetection\\train_images\\28241874f.jpg\n",
      "Image not found at path: C:\\Users\\Hp\\OneDrive\\Desktop\\Machine Learning\\Group assignment1\\SteelDetection\\train_images\\282425786.jpg\n",
      "Image not found at path: C:\\Users\\Hp\\OneDrive\\Desktop\\Machine Learning\\Group assignment1\\SteelDetection\\train_images\\284639f13.jpg\n",
      "Image not found at path: C:\\Users\\Hp\\OneDrive\\Desktop\\Machine Learning\\Group assignment1\\SteelDetection\\train_images\\285781401.jpg\n",
      "Image not found at path: C:\\Users\\Hp\\OneDrive\\Desktop\\Machine Learning\\Group assignment1\\SteelDetection\\train_images\\28661fd17.jpg\n"
     ]
    },
    {
     "name": "stderr",
     "output_type": "stream",
     "text": [
      " 16%|████████████▋                                                                 | 1151/7095 [00:20<01:14, 79.28it/s]"
     ]
    },
    {
     "name": "stdout",
     "output_type": "stream",
     "text": [
      "Image not found at path: C:\\Users\\Hp\\OneDrive\\Desktop\\Machine Learning\\Group assignment1\\SteelDetection\\train_images\\29124169b.jpg\n",
      "Image not found at path: C:\\Users\\Hp\\OneDrive\\Desktop\\Machine Learning\\Group assignment1\\SteelDetection\\train_images\\2912df978.jpg\n",
      "Image not found at path: C:\\Users\\Hp\\OneDrive\\Desktop\\Machine Learning\\Group assignment1\\SteelDetection\\train_images\\2912e9e24.jpg\n",
      "Image not found at path: C:\\Users\\Hp\\OneDrive\\Desktop\\Machine Learning\\Group assignment1\\SteelDetection\\train_images\\2929284cc.jpg\n",
      "Image not found at path: C:\\Users\\Hp\\OneDrive\\Desktop\\Machine Learning\\Group assignment1\\SteelDetection\\train_images\\2930b4f52.jpg\n",
      "Image not found at path: C:\\Users\\Hp\\OneDrive\\Desktop\\Machine Learning\\Group assignment1\\SteelDetection\\train_images\\2930b4f52.jpg\n",
      "Image not found at path: C:\\Users\\Hp\\OneDrive\\Desktop\\Machine Learning\\Group assignment1\\SteelDetection\\train_images\\2932c0dd3.jpg\n",
      "Image not found at path: C:\\Users\\Hp\\OneDrive\\Desktop\\Machine Learning\\Group assignment1\\SteelDetection\\train_images\\29420c716.jpg\n",
      "Image not found at path: C:\\Users\\Hp\\OneDrive\\Desktop\\Machine Learning\\Group assignment1\\SteelDetection\\train_images\\2959d7fb1.jpg\n",
      "Image not found at path: C:\\Users\\Hp\\OneDrive\\Desktop\\Machine Learning\\Group assignment1\\SteelDetection\\train_images\\2969217e8.jpg\n",
      "Image not found at path: C:\\Users\\Hp\\OneDrive\\Desktop\\Machine Learning\\Group assignment1\\SteelDetection\\train_images\\2969217e8.jpg\n",
      "Image not found at path: C:\\Users\\Hp\\OneDrive\\Desktop\\Machine Learning\\Group assignment1\\SteelDetection\\train_images\\29694dc5d.jpg\n",
      "Image not found at path: C:\\Users\\Hp\\OneDrive\\Desktop\\Machine Learning\\Group assignment1\\SteelDetection\\train_images\\2992fff3f.jpg\n",
      "Image not found at path: C:\\Users\\Hp\\OneDrive\\Desktop\\Machine Learning\\Group assignment1\\SteelDetection\\train_images\\29936b461.jpg\n",
      "Image not found at path: C:\\Users\\Hp\\OneDrive\\Desktop\\Machine Learning\\Group assignment1\\SteelDetection\\train_images\\2994546cf.jpg\n",
      "Image not found at path: C:\\Users\\Hp\\OneDrive\\Desktop\\Machine Learning\\Group assignment1\\SteelDetection\\train_images\\2999deba3.jpg\n"
     ]
    },
    {
     "name": "stderr",
     "output_type": "stream",
     "text": [
      " 19%|██████████████▌                                                               | 1326/7095 [00:23<01:36, 60.09it/s]"
     ]
    },
    {
     "name": "stdout",
     "output_type": "stream",
     "text": [
      "Image not found at path: C:\\Users\\Hp\\OneDrive\\Desktop\\Machine Learning\\Group assignment1\\SteelDetection\\train_images\\30070d59d.jpg\n",
      "Image not found at path: C:\\Users\\Hp\\OneDrive\\Desktop\\Machine Learning\\Group assignment1\\SteelDetection\\train_images\\3012f44e9.jpg\n",
      "Image not found at path: C:\\Users\\Hp\\OneDrive\\Desktop\\Machine Learning\\Group assignment1\\SteelDetection\\train_images\\301601620.jpg\n",
      "Image not found at path: C:\\Users\\Hp\\OneDrive\\Desktop\\Machine Learning\\Group assignment1\\SteelDetection\\train_images\\30171214c.jpg\n",
      "Image not found at path: C:\\Users\\Hp\\OneDrive\\Desktop\\Machine Learning\\Group assignment1\\SteelDetection\\train_images\\3035a46b7.jpg\n",
      "Image not found at path: C:\\Users\\Hp\\OneDrive\\Desktop\\Machine Learning\\Group assignment1\\SteelDetection\\train_images\\304083ca3.jpg\n",
      "Image not found at path: C:\\Users\\Hp\\OneDrive\\Desktop\\Machine Learning\\Group assignment1\\SteelDetection\\train_images\\3041d63ba.jpg\n",
      "Image not found at path: C:\\Users\\Hp\\OneDrive\\Desktop\\Machine Learning\\Group assignment1\\SteelDetection\\train_images\\3055bb5b8.jpg\n",
      "Image not found at path: C:\\Users\\Hp\\OneDrive\\Desktop\\Machine Learning\\Group assignment1\\SteelDetection\\train_images\\306415665.jpg\n",
      "Image not found at path: C:\\Users\\Hp\\OneDrive\\Desktop\\Machine Learning\\Group assignment1\\SteelDetection\\train_images\\3071e65a5.jpg\n",
      "Image not found at path: C:\\Users\\Hp\\OneDrive\\Desktop\\Machine Learning\\Group assignment1\\SteelDetection\\train_images\\30799f11c.jpg\n",
      "Image not found at path: C:\\Users\\Hp\\OneDrive\\Desktop\\Machine Learning\\Group assignment1\\SteelDetection\\train_images\\3088a6a0d.jpg\n"
     ]
    },
    {
     "name": "stderr",
     "output_type": "stream",
     "text": [
      " 19%|██████████████▊                                                               | 1342/7095 [00:23<01:30, 63.28it/s]"
     ]
    },
    {
     "name": "stdout",
     "output_type": "stream",
     "text": [
      "Image not found at path: C:\\Users\\Hp\\OneDrive\\Desktop\\Machine Learning\\Group assignment1\\SteelDetection\\train_images\\309488202.jpg\n"
     ]
    },
    {
     "name": "stderr",
     "output_type": "stream",
     "text": [
      " 19%|██████████████▉                                                               | 1360/7095 [00:24<01:21, 70.24it/s]"
     ]
    },
    {
     "name": "stdout",
     "output_type": "stream",
     "text": [
      "Image not found at path: C:\\Users\\Hp\\OneDrive\\Desktop\\Machine Learning\\Group assignment1\\SteelDetection\\train_images\\3116edfe6.jpg\n",
      "Image not found at path: C:\\Users\\Hp\\OneDrive\\Desktop\\Machine Learning\\Group assignment1\\SteelDetection\\train_images\\312224509.jpg\n",
      "Image not found at path: C:\\Users\\Hp\\OneDrive\\Desktop\\Machine Learning\\Group assignment1\\SteelDetection\\train_images\\3124b1e5c.jpg\n",
      "Image not found at path: C:\\Users\\Hp\\OneDrive\\Desktop\\Machine Learning\\Group assignment1\\SteelDetection\\train_images\\31262e8f9.jpg\n",
      "Image not found at path: C:\\Users\\Hp\\OneDrive\\Desktop\\Machine Learning\\Group assignment1\\SteelDetection\\train_images\\31433d3b4.jpg\n",
      "Image not found at path: C:\\Users\\Hp\\OneDrive\\Desktop\\Machine Learning\\Group assignment1\\SteelDetection\\train_images\\315405789.jpg\n",
      "Image not found at path: C:\\Users\\Hp\\OneDrive\\Desktop\\Machine Learning\\Group assignment1\\SteelDetection\\train_images\\3155bc129.jpg\n",
      "Image not found at path: C:\\Users\\Hp\\OneDrive\\Desktop\\Machine Learning\\Group assignment1\\SteelDetection\\train_images\\31579309c.jpg\n",
      "Image not found at path: C:\\Users\\Hp\\OneDrive\\Desktop\\Machine Learning\\Group assignment1\\SteelDetection\\train_images\\3158e73b2.jpg\n",
      "Image not found at path: C:\\Users\\Hp\\OneDrive\\Desktop\\Machine Learning\\Group assignment1\\SteelDetection\\train_images\\3159ee27a.jpg\n",
      "Image not found at path: C:\\Users\\Hp\\OneDrive\\Desktop\\Machine Learning\\Group assignment1\\SteelDetection\\train_images\\316414f82.jpg\n",
      "Image not found at path: C:\\Users\\Hp\\OneDrive\\Desktop\\Machine Learning\\Group assignment1\\SteelDetection\\train_images\\31716f6ae.jpg\n"
     ]
    },
    {
     "name": "stderr",
     "output_type": "stream",
     "text": [
      " 19%|███████████████▏                                                              | 1383/7095 [00:24<01:29, 64.04it/s]"
     ]
    },
    {
     "name": "stdout",
     "output_type": "stream",
     "text": [
      "Image not found at path: C:\\Users\\Hp\\OneDrive\\Desktop\\Machine Learning\\Group assignment1\\SteelDetection\\train_images\\320557243.jpg\n",
      "Image not found at path: C:\\Users\\Hp\\OneDrive\\Desktop\\Machine Learning\\Group assignment1\\SteelDetection\\train_images\\321975fb3.jpg\n",
      "Image not found at path: C:\\Users\\Hp\\OneDrive\\Desktop\\Machine Learning\\Group assignment1\\SteelDetection\\train_images\\3221a0d79.jpg\n",
      "Image not found at path: C:\\Users\\Hp\\OneDrive\\Desktop\\Machine Learning\\Group assignment1\\SteelDetection\\train_images\\32578d3e5.jpg\n",
      "Image not found at path: C:\\Users\\Hp\\OneDrive\\Desktop\\Machine Learning\\Group assignment1\\SteelDetection\\train_images\\3266ff34d.jpg\n",
      "Image not found at path: C:\\Users\\Hp\\OneDrive\\Desktop\\Machine Learning\\Group assignment1\\SteelDetection\\train_images\\3294c9bd1.jpg\n",
      "Image not found at path: C:\\Users\\Hp\\OneDrive\\Desktop\\Machine Learning\\Group assignment1\\SteelDetection\\train_images\\3294c9bd1.jpg\n"
     ]
    },
    {
     "name": "stderr",
     "output_type": "stream",
     "text": [
      " 20%|███████████████▍                                                              | 1408/7095 [00:24<01:18, 72.25it/s]"
     ]
    },
    {
     "name": "stdout",
     "output_type": "stream",
     "text": [
      "Image not found at path: C:\\Users\\Hp\\OneDrive\\Desktop\\Machine Learning\\Group assignment1\\SteelDetection\\train_images\\33226811d.jpg\n",
      "Image not found at path: C:\\Users\\Hp\\OneDrive\\Desktop\\Machine Learning\\Group assignment1\\SteelDetection\\train_images\\3325e2266.jpg\n",
      "Image not found at path: C:\\Users\\Hp\\OneDrive\\Desktop\\Machine Learning\\Group assignment1\\SteelDetection\\train_images\\3328c4bf9.jpg\n",
      "Image not found at path: C:\\Users\\Hp\\OneDrive\\Desktop\\Machine Learning\\Group assignment1\\SteelDetection\\train_images\\33368929c.jpg\n",
      "Image not found at path: C:\\Users\\Hp\\OneDrive\\Desktop\\Machine Learning\\Group assignment1\\SteelDetection\\train_images\\333832839.jpg\n",
      "Image not found at path: C:\\Users\\Hp\\OneDrive\\Desktop\\Machine Learning\\Group assignment1\\SteelDetection\\train_images\\33514c0b1.jpg\n",
      "Image not found at path: C:\\Users\\Hp\\OneDrive\\Desktop\\Machine Learning\\Group assignment1\\SteelDetection\\train_images\\33705a505.jpg\n",
      "Image not found at path: C:\\Users\\Hp\\OneDrive\\Desktop\\Machine Learning\\Group assignment1\\SteelDetection\\train_images\\33754aa9b.jpg\n",
      "Image not found at path: C:\\Users\\Hp\\OneDrive\\Desktop\\Machine Learning\\Group assignment1\\SteelDetection\\train_images\\3377332c0.jpg\n",
      "Image not found at path: C:\\Users\\Hp\\OneDrive\\Desktop\\Machine Learning\\Group assignment1\\SteelDetection\\train_images\\3385f9e14.jpg\n",
      "Image not found at path: C:\\Users\\Hp\\OneDrive\\Desktop\\Machine Learning\\Group assignment1\\SteelDetection\\train_images\\33945043e.jpg\n"
     ]
    },
    {
     "name": "stderr",
     "output_type": "stream",
     "text": [
      " 20%|███████████████▋                                                              | 1432/7095 [00:25<01:19, 70.80it/s]"
     ]
    },
    {
     "name": "stdout",
     "output_type": "stream",
     "text": [
      "Image not found at path: C:\\Users\\Hp\\OneDrive\\Desktop\\Machine Learning\\Group assignment1\\SteelDetection\\train_images\\3405695b6.jpg\n",
      "Image not found at path: C:\\Users\\Hp\\OneDrive\\Desktop\\Machine Learning\\Group assignment1\\SteelDetection\\train_images\\3412f557e.jpg\n",
      "Image not found at path: C:\\Users\\Hp\\OneDrive\\Desktop\\Machine Learning\\Group assignment1\\SteelDetection\\train_images\\34349ea9e.jpg\n",
      "Image not found at path: C:\\Users\\Hp\\OneDrive\\Desktop\\Machine Learning\\Group assignment1\\SteelDetection\\train_images\\34561de46.jpg\n",
      "Image not found at path: C:\\Users\\Hp\\OneDrive\\Desktop\\Machine Learning\\Group assignment1\\SteelDetection\\train_images\\3463eedaf.jpg\n",
      "Image not found at path: C:\\Users\\Hp\\OneDrive\\Desktop\\Machine Learning\\Group assignment1\\SteelDetection\\train_images\\3467968c0.jpg\n",
      "Image not found at path: C:\\Users\\Hp\\OneDrive\\Desktop\\Machine Learning\\Group assignment1\\SteelDetection\\train_images\\34913b58d.jpg\n"
     ]
    },
    {
     "name": "stderr",
     "output_type": "stream",
     "text": [
      " 21%|████████████████                                                              | 1459/7095 [00:25<01:15, 74.74it/s]"
     ]
    },
    {
     "name": "stdout",
     "output_type": "stream",
     "text": [
      "Image not found at path: C:\\Users\\Hp\\OneDrive\\Desktop\\Machine Learning\\Group assignment1\\SteelDetection\\train_images\\3505dd9f3.jpg\n",
      "Image not found at path: C:\\Users\\Hp\\OneDrive\\Desktop\\Machine Learning\\Group assignment1\\SteelDetection\\train_images\\351569b6a.jpg\n",
      "Image not found at path: C:\\Users\\Hp\\OneDrive\\Desktop\\Machine Learning\\Group assignment1\\SteelDetection\\train_images\\351936382.jpg\n",
      "Image not found at path: C:\\Users\\Hp\\OneDrive\\Desktop\\Machine Learning\\Group assignment1\\SteelDetection\\train_images\\352063998.jpg\n",
      "Image not found at path: C:\\Users\\Hp\\OneDrive\\Desktop\\Machine Learning\\Group assignment1\\SteelDetection\\train_images\\3520eaa6d.jpg\n",
      "Image not found at path: C:\\Users\\Hp\\OneDrive\\Desktop\\Machine Learning\\Group assignment1\\SteelDetection\\train_images\\35248a277.jpg\n",
      "Image not found at path: C:\\Users\\Hp\\OneDrive\\Desktop\\Machine Learning\\Group assignment1\\SteelDetection\\train_images\\35271f898.jpg\n",
      "Image not found at path: C:\\Users\\Hp\\OneDrive\\Desktop\\Machine Learning\\Group assignment1\\SteelDetection\\train_images\\354760e3e.jpg\n",
      "Image not found at path: C:\\Users\\Hp\\OneDrive\\Desktop\\Machine Learning\\Group assignment1\\SteelDetection\\train_images\\35665c5b9.jpg\n",
      "Image not found at path: C:\\Users\\Hp\\OneDrive\\Desktop\\Machine Learning\\Group assignment1\\SteelDetection\\train_images\\359442214.jpg\n",
      "Image not found at path: C:\\Users\\Hp\\OneDrive\\Desktop\\Machine Learning\\Group assignment1\\SteelDetection\\train_images\\359442214.jpg\n",
      "Image not found at path: C:\\Users\\Hp\\OneDrive\\Desktop\\Machine Learning\\Group assignment1\\SteelDetection\\train_images\\3598309b5.jpg\n"
     ]
    },
    {
     "name": "stderr",
     "output_type": "stream",
     "text": [
      " 21%|████████████████▏                                                             | 1474/7095 [00:25<01:26, 65.26it/s]"
     ]
    },
    {
     "name": "stdout",
     "output_type": "stream",
     "text": [
      "Image not found at path: C:\\Users\\Hp\\OneDrive\\Desktop\\Machine Learning\\Group assignment1\\SteelDetection\\train_images\\36025df84.jpg\n",
      "Image not found at path: C:\\Users\\Hp\\OneDrive\\Desktop\\Machine Learning\\Group assignment1\\SteelDetection\\train_images\\3604dfc38.jpg\n",
      "Image not found at path: C:\\Users\\Hp\\OneDrive\\Desktop\\Machine Learning\\Group assignment1\\SteelDetection\\train_images\\3672e84bc.jpg\n",
      "Image not found at path: C:\\Users\\Hp\\OneDrive\\Desktop\\Machine Learning\\Group assignment1\\SteelDetection\\train_images\\367553727.jpg\n",
      "Image not found at path: C:\\Users\\Hp\\OneDrive\\Desktop\\Machine Learning\\Group assignment1\\SteelDetection\\train_images\\36789516a.jpg\n",
      "Image not found at path: C:\\Users\\Hp\\OneDrive\\Desktop\\Machine Learning\\Group assignment1\\SteelDetection\\train_images\\3684a95a8.jpg\n",
      "Image not found at path: C:\\Users\\Hp\\OneDrive\\Desktop\\Machine Learning\\Group assignment1\\SteelDetection\\train_images\\3688df8e4.jpg\n",
      "Image not found at path: C:\\Users\\Hp\\OneDrive\\Desktop\\Machine Learning\\Group assignment1\\SteelDetection\\train_images\\36979a804.jpg\n"
     ]
    },
    {
     "name": "stderr",
     "output_type": "stream",
     "text": [
      " 21%|████████████████▍                                                             | 1499/7095 [00:26<01:23, 66.78it/s]"
     ]
    },
    {
     "name": "stdout",
     "output_type": "stream",
     "text": [
      "Image not found at path: C:\\Users\\Hp\\OneDrive\\Desktop\\Machine Learning\\Group assignment1\\SteelDetection\\train_images\\37009c774.jpg\n",
      "Image not found at path: C:\\Users\\Hp\\OneDrive\\Desktop\\Machine Learning\\Group assignment1\\SteelDetection\\train_images\\3704cdfd6.jpg\n",
      "Image not found at path: C:\\Users\\Hp\\OneDrive\\Desktop\\Machine Learning\\Group assignment1\\SteelDetection\\train_images\\3711a5456.jpg\n",
      "Image not found at path: C:\\Users\\Hp\\OneDrive\\Desktop\\Machine Learning\\Group assignment1\\SteelDetection\\train_images\\3711ecc93.jpg\n",
      "Image not found at path: C:\\Users\\Hp\\OneDrive\\Desktop\\Machine Learning\\Group assignment1\\SteelDetection\\train_images\\37333b84a.jpg\n",
      "Image not found at path: C:\\Users\\Hp\\OneDrive\\Desktop\\Machine Learning\\Group assignment1\\SteelDetection\\train_images\\3738d1881.jpg\n",
      "Image not found at path: C:\\Users\\Hp\\OneDrive\\Desktop\\Machine Learning\\Group assignment1\\SteelDetection\\train_images\\3740a6dd1.jpg\n",
      "Image not found at path: C:\\Users\\Hp\\OneDrive\\Desktop\\Machine Learning\\Group assignment1\\SteelDetection\\train_images\\374493292.jpg\n",
      "Image not found at path: C:\\Users\\Hp\\OneDrive\\Desktop\\Machine Learning\\Group assignment1\\SteelDetection\\train_images\\37782387c.jpg\n"
     ]
    },
    {
     "name": "stderr",
     "output_type": "stream",
     "text": [
      " 22%|████████████████▉                                                             | 1535/7095 [00:26<01:30, 61.36it/s]"
     ]
    },
    {
     "name": "stdout",
     "output_type": "stream",
     "text": [
      "Image not found at path: C:\\Users\\Hp\\OneDrive\\Desktop\\Machine Learning\\Group assignment1\\SteelDetection\\train_images\\3846a8c0c.jpg\n",
      "Image not found at path: C:\\Users\\Hp\\OneDrive\\Desktop\\Machine Learning\\Group assignment1\\SteelDetection\\train_images\\3856224a4.jpg\n",
      "Image not found at path: C:\\Users\\Hp\\OneDrive\\Desktop\\Machine Learning\\Group assignment1\\SteelDetection\\train_images\\3860f3d39.jpg\n",
      "Image not found at path: C:\\Users\\Hp\\OneDrive\\Desktop\\Machine Learning\\Group assignment1\\SteelDetection\\train_images\\38698fd76.jpg\n",
      "Image not found at path: C:\\Users\\Hp\\OneDrive\\Desktop\\Machine Learning\\Group assignment1\\SteelDetection\\train_images\\38760254d.jpg\n",
      "Image not found at path: C:\\Users\\Hp\\OneDrive\\Desktop\\Machine Learning\\Group assignment1\\SteelDetection\\train_images\\3888ec2cd.jpg\n"
     ]
    },
    {
     "name": "stderr",
     "output_type": "stream",
     "text": [
      " 22%|█████████████████▏                                                            | 1558/7095 [00:27<01:25, 64.91it/s]"
     ]
    },
    {
     "name": "stdout",
     "output_type": "stream",
     "text": [
      "Image not found at path: C:\\Users\\Hp\\OneDrive\\Desktop\\Machine Learning\\Group assignment1\\SteelDetection\\train_images\\3932751f1.jpg\n",
      "Image not found at path: C:\\Users\\Hp\\OneDrive\\Desktop\\Machine Learning\\Group assignment1\\SteelDetection\\train_images\\3933a5fcc.jpg\n",
      "Image not found at path: C:\\Users\\Hp\\OneDrive\\Desktop\\Machine Learning\\Group assignment1\\SteelDetection\\train_images\\395381ac8.jpg\n",
      "Image not found at path: C:\\Users\\Hp\\OneDrive\\Desktop\\Machine Learning\\Group assignment1\\SteelDetection\\train_images\\3964357cd.jpg\n",
      "Image not found at path: C:\\Users\\Hp\\OneDrive\\Desktop\\Machine Learning\\Group assignment1\\SteelDetection\\train_images\\397221566.jpg\n",
      "Image not found at path: C:\\Users\\Hp\\OneDrive\\Desktop\\Machine Learning\\Group assignment1\\SteelDetection\\train_images\\3974a2a75.jpg\n",
      "Image not found at path: C:\\Users\\Hp\\OneDrive\\Desktop\\Machine Learning\\Group assignment1\\SteelDetection\\train_images\\3979d10ac.jpg\n"
     ]
    },
    {
     "name": "stderr",
     "output_type": "stream",
     "text": [
      " 22%|█████████████████▎                                                            | 1572/7095 [00:27<01:35, 57.66it/s]"
     ]
    },
    {
     "name": "stdout",
     "output_type": "stream",
     "text": [
      "Image not found at path: C:\\Users\\Hp\\OneDrive\\Desktop\\Machine Learning\\Group assignment1\\SteelDetection\\train_images\\39960c9e9.jpg\n"
     ]
    },
    {
     "name": "stderr",
     "output_type": "stream",
     "text": [
      " 24%|███████████████████                                                           | 1736/7095 [00:30<01:30, 59.24it/s]"
     ]
    },
    {
     "name": "stdout",
     "output_type": "stream",
     "text": [
      "Image not found at path: C:\\Users\\Hp\\OneDrive\\Desktop\\Machine Learning\\Group assignment1\\SteelDetection\\train_images\\400144782.jpg\n",
      "Image not found at path: C:\\Users\\Hp\\OneDrive\\Desktop\\Machine Learning\\Group assignment1\\SteelDetection\\train_images\\400161088.jpg\n",
      "Image not found at path: C:\\Users\\Hp\\OneDrive\\Desktop\\Machine Learning\\Group assignment1\\SteelDetection\\train_images\\4014c79d3.jpg\n",
      "Image not found at path: C:\\Users\\Hp\\OneDrive\\Desktop\\Machine Learning\\Group assignment1\\SteelDetection\\train_images\\4014d6f31.jpg\n",
      "Image not found at path: C:\\Users\\Hp\\OneDrive\\Desktop\\Machine Learning\\Group assignment1\\SteelDetection\\train_images\\401614c72.jpg\n",
      "Image not found at path: C:\\Users\\Hp\\OneDrive\\Desktop\\Machine Learning\\Group assignment1\\SteelDetection\\train_images\\4029fea8e.jpg\n",
      "Image not found at path: C:\\Users\\Hp\\OneDrive\\Desktop\\Machine Learning\\Group assignment1\\SteelDetection\\train_images\\404259a55.jpg\n",
      "Image not found at path: C:\\Users\\Hp\\OneDrive\\Desktop\\Machine Learning\\Group assignment1\\SteelDetection\\train_images\\40466495a.jpg\n",
      "Image not found at path: C:\\Users\\Hp\\OneDrive\\Desktop\\Machine Learning\\Group assignment1\\SteelDetection\\train_images\\405507351.jpg\n",
      "Image not found at path: C:\\Users\\Hp\\OneDrive\\Desktop\\Machine Learning\\Group assignment1\\SteelDetection\\train_images\\4072c3bb5.jpg\n",
      "Image not found at path: C:\\Users\\Hp\\OneDrive\\Desktop\\Machine Learning\\Group assignment1\\SteelDetection\\train_images\\40889ddf9.jpg\n",
      "Image not found at path: C:\\Users\\Hp\\OneDrive\\Desktop\\Machine Learning\\Group assignment1\\SteelDetection\\train_images\\409453bc7.jpg\n",
      "Image not found at path: C:\\Users\\Hp\\OneDrive\\Desktop\\Machine Learning\\Group assignment1\\SteelDetection\\train_images\\409502827.jpg\n"
     ]
    },
    {
     "name": "stderr",
     "output_type": "stream",
     "text": [
      " 25%|███████████████████▍                                                          | 1772/7095 [00:31<01:15, 70.83it/s]"
     ]
    },
    {
     "name": "stdout",
     "output_type": "stream",
     "text": [
      "Image not found at path: C:\\Users\\Hp\\OneDrive\\Desktop\\Machine Learning\\Group assignment1\\SteelDetection\\train_images\\410194f0a.jpg\n",
      "Image not found at path: C:\\Users\\Hp\\OneDrive\\Desktop\\Machine Learning\\Group assignment1\\SteelDetection\\train_images\\410194f0a.jpg\n",
      "Image not found at path: C:\\Users\\Hp\\OneDrive\\Desktop\\Machine Learning\\Group assignment1\\SteelDetection\\train_images\\41028db98.jpg\n",
      "Image not found at path: C:\\Users\\Hp\\OneDrive\\Desktop\\Machine Learning\\Group assignment1\\SteelDetection\\train_images\\411377ca3.jpg\n",
      "Image not found at path: C:\\Users\\Hp\\OneDrive\\Desktop\\Machine Learning\\Group assignment1\\SteelDetection\\train_images\\41333f13c.jpg\n",
      "Image not found at path: C:\\Users\\Hp\\OneDrive\\Desktop\\Machine Learning\\Group assignment1\\SteelDetection\\train_images\\41411378e.jpg\n",
      "Image not found at path: C:\\Users\\Hp\\OneDrive\\Desktop\\Machine Learning\\Group assignment1\\SteelDetection\\train_images\\41411378e.jpg\n",
      "Image not found at path: C:\\Users\\Hp\\OneDrive\\Desktop\\Machine Learning\\Group assignment1\\SteelDetection\\train_images\\415252307.jpg\n",
      "Image not found at path: C:\\Users\\Hp\\OneDrive\\Desktop\\Machine Learning\\Group assignment1\\SteelDetection\\train_images\\4157934a2.jpg\n",
      "Image not found at path: C:\\Users\\Hp\\OneDrive\\Desktop\\Machine Learning\\Group assignment1\\SteelDetection\\train_images\\41632c229.jpg\n"
     ]
    },
    {
     "name": "stderr",
     "output_type": "stream",
     "text": [
      " 25%|███████████████████▌                                                          | 1780/7095 [00:31<01:17, 68.30it/s]"
     ]
    },
    {
     "name": "stdout",
     "output_type": "stream",
     "text": [
      "Image not found at path: C:\\Users\\Hp\\OneDrive\\Desktop\\Machine Learning\\Group assignment1\\SteelDetection\\train_images\\41716714b.jpg\n",
      "Image not found at path: C:\\Users\\Hp\\OneDrive\\Desktop\\Machine Learning\\Group assignment1\\SteelDetection\\train_images\\41977e060.jpg\n"
     ]
    },
    {
     "name": "stderr",
     "output_type": "stream",
     "text": [
      " 25%|███████████████████▊                                                          | 1798/7095 [00:31<01:13, 72.36it/s]"
     ]
    },
    {
     "name": "stdout",
     "output_type": "stream",
     "text": [
      "Image not found at path: C:\\Users\\Hp\\OneDrive\\Desktop\\Machine Learning\\Group assignment1\\SteelDetection\\train_images\\42087f902.jpg\n",
      "Image not found at path: C:\\Users\\Hp\\OneDrive\\Desktop\\Machine Learning\\Group assignment1\\SteelDetection\\train_images\\4216b133c.jpg\n",
      "Image not found at path: C:\\Users\\Hp\\OneDrive\\Desktop\\Machine Learning\\Group assignment1\\SteelDetection\\train_images\\42353cc21.jpg\n",
      "Image not found at path: C:\\Users\\Hp\\OneDrive\\Desktop\\Machine Learning\\Group assignment1\\SteelDetection\\train_images\\4243c7476.jpg\n",
      "Image not found at path: C:\\Users\\Hp\\OneDrive\\Desktop\\Machine Learning\\Group assignment1\\SteelDetection\\train_images\\42527400c.jpg\n",
      "Image not found at path: C:\\Users\\Hp\\OneDrive\\Desktop\\Machine Learning\\Group assignment1\\SteelDetection\\train_images\\42527400c.jpg\n",
      "Image not found at path: C:\\Users\\Hp\\OneDrive\\Desktop\\Machine Learning\\Group assignment1\\SteelDetection\\train_images\\426581acf.jpg\n",
      "Image not found at path: C:\\Users\\Hp\\OneDrive\\Desktop\\Machine Learning\\Group assignment1\\SteelDetection\\train_images\\42695cb60.jpg\n",
      "Image not found at path: C:\\Users\\Hp\\OneDrive\\Desktop\\Machine Learning\\Group assignment1\\SteelDetection\\train_images\\427085ef4.jpg\n",
      "Image not found at path: C:\\Users\\Hp\\OneDrive\\Desktop\\Machine Learning\\Group assignment1\\SteelDetection\\train_images\\428586f79.jpg\n",
      "Image not found at path: C:\\Users\\Hp\\OneDrive\\Desktop\\Machine Learning\\Group assignment1\\SteelDetection\\train_images\\42877dc1a.jpg\n",
      "Image not found at path: C:\\Users\\Hp\\OneDrive\\Desktop\\Machine Learning\\Group assignment1\\SteelDetection\\train_images\\42877dc1a.jpg\n",
      "Image not found at path: C:\\Users\\Hp\\OneDrive\\Desktop\\Machine Learning\\Group assignment1\\SteelDetection\\train_images\\42935bb3a.jpg\n",
      "Image not found at path: C:\\Users\\Hp\\OneDrive\\Desktop\\Machine Learning\\Group assignment1\\SteelDetection\\train_images\\429650b38.jpg\n",
      "Image not found at path: C:\\Users\\Hp\\OneDrive\\Desktop\\Machine Learning\\Group assignment1\\SteelDetection\\train_images\\429782c75.jpg\n",
      "Image not found at path: C:\\Users\\Hp\\OneDrive\\Desktop\\Machine Learning\\Group assignment1\\SteelDetection\\train_images\\429951ca7.jpg\n",
      "Image not found at path: C:\\Users\\Hp\\OneDrive\\Desktop\\Machine Learning\\Group assignment1\\SteelDetection\\train_images\\42996bbcf.jpg\n"
     ]
    },
    {
     "name": "stderr",
     "output_type": "stream",
     "text": [
      " 26%|████████████████████                                                          | 1827/7095 [00:32<01:10, 74.72it/s]"
     ]
    },
    {
     "name": "stdout",
     "output_type": "stream",
     "text": [
      "Image not found at path: C:\\Users\\Hp\\OneDrive\\Desktop\\Machine Learning\\Group assignment1\\SteelDetection\\train_images\\431234941.jpg\n",
      "Image not found at path: C:\\Users\\Hp\\OneDrive\\Desktop\\Machine Learning\\Group assignment1\\SteelDetection\\train_images\\4340e1e42.jpg\n",
      "Image not found at path: C:\\Users\\Hp\\OneDrive\\Desktop\\Machine Learning\\Group assignment1\\SteelDetection\\train_images\\4345c2b85.jpg\n",
      "Image not found at path: C:\\Users\\Hp\\OneDrive\\Desktop\\Machine Learning\\Group assignment1\\SteelDetection\\train_images\\4345db2fc.jpg\n",
      "Image not found at path: C:\\Users\\Hp\\OneDrive\\Desktop\\Machine Learning\\Group assignment1\\SteelDetection\\train_images\\4353697d9.jpg\n",
      "Image not found at path: C:\\Users\\Hp\\OneDrive\\Desktop\\Machine Learning\\Group assignment1\\SteelDetection\\train_images\\4355ef39b.jpg\n",
      "Image not found at path: C:\\Users\\Hp\\OneDrive\\Desktop\\Machine Learning\\Group assignment1\\SteelDetection\\train_images\\436398e3b.jpg\n",
      "Image not found at path: C:\\Users\\Hp\\OneDrive\\Desktop\\Machine Learning\\Group assignment1\\SteelDetection\\train_images\\43746d404.jpg\n"
     ]
    },
    {
     "name": "stderr",
     "output_type": "stream",
     "text": [
      " 26%|████████████████████▎                                                         | 1851/7095 [00:32<01:21, 64.33it/s]"
     ]
    },
    {
     "name": "stdout",
     "output_type": "stream",
     "text": [
      "Image not found at path: C:\\Users\\Hp\\OneDrive\\Desktop\\Machine Learning\\Group assignment1\\SteelDetection\\train_images\\44011d351.jpg\n",
      "Image not found at path: C:\\Users\\Hp\\OneDrive\\Desktop\\Machine Learning\\Group assignment1\\SteelDetection\\train_images\\441866b3d.jpg\n",
      "Image not found at path: C:\\Users\\Hp\\OneDrive\\Desktop\\Machine Learning\\Group assignment1\\SteelDetection\\train_images\\4422bc417.jpg\n",
      "Image not found at path: C:\\Users\\Hp\\OneDrive\\Desktop\\Machine Learning\\Group assignment1\\SteelDetection\\train_images\\4422bc417.jpg\n",
      "Image not found at path: C:\\Users\\Hp\\OneDrive\\Desktop\\Machine Learning\\Group assignment1\\SteelDetection\\train_images\\44415ab00.jpg\n",
      "Image not found at path: C:\\Users\\Hp\\OneDrive\\Desktop\\Machine Learning\\Group assignment1\\SteelDetection\\train_images\\4448b4286.jpg\n",
      "Image not found at path: C:\\Users\\Hp\\OneDrive\\Desktop\\Machine Learning\\Group assignment1\\SteelDetection\\train_images\\44668f045.jpg\n",
      "Image not found at path: C:\\Users\\Hp\\OneDrive\\Desktop\\Machine Learning\\Group assignment1\\SteelDetection\\train_images\\447038bc8.jpg\n"
     ]
    },
    {
     "name": "stderr",
     "output_type": "stream",
     "text": [
      " 26%|████████████████████▌                                                         | 1865/7095 [00:32<01:25, 61.50it/s]"
     ]
    },
    {
     "name": "stdout",
     "output_type": "stream",
     "text": [
      "Image not found at path: C:\\Users\\Hp\\OneDrive\\Desktop\\Machine Learning\\Group assignment1\\SteelDetection\\train_images\\4499aaa80.jpg\n"
     ]
    },
    {
     "name": "stderr",
     "output_type": "stream",
     "text": [
      " 27%|████████████████████▋                                                         | 1883/7095 [00:33<01:16, 68.56it/s]"
     ]
    },
    {
     "name": "stdout",
     "output_type": "stream",
     "text": [
      "Image not found at path: C:\\Users\\Hp\\OneDrive\\Desktop\\Machine Learning\\Group assignment1\\SteelDetection\\train_images\\45212b455.jpg\n",
      "Image not found at path: C:\\Users\\Hp\\OneDrive\\Desktop\\Machine Learning\\Group assignment1\\SteelDetection\\train_images\\4529ee151.jpg\n",
      "Image not found at path: C:\\Users\\Hp\\OneDrive\\Desktop\\Machine Learning\\Group assignment1\\SteelDetection\\train_images\\455241741.jpg\n",
      "Image not found at path: C:\\Users\\Hp\\OneDrive\\Desktop\\Machine Learning\\Group assignment1\\SteelDetection\\train_images\\45612bd46.jpg\n",
      "Image not found at path: C:\\Users\\Hp\\OneDrive\\Desktop\\Machine Learning\\Group assignment1\\SteelDetection\\train_images\\45740ac20.jpg\n",
      "Image not found at path: C:\\Users\\Hp\\OneDrive\\Desktop\\Machine Learning\\Group assignment1\\SteelDetection\\train_images\\459617182.jpg\n",
      "Image not found at path: C:\\Users\\Hp\\OneDrive\\Desktop\\Machine Learning\\Group assignment1\\SteelDetection\\train_images\\459790d82.jpg\n",
      "Image not found at path: C:\\Users\\Hp\\OneDrive\\Desktop\\Machine Learning\\Group assignment1\\SteelDetection\\train_images\\459840244.jpg\n",
      "Image not found at path: C:\\Users\\Hp\\OneDrive\\Desktop\\Machine Learning\\Group assignment1\\SteelDetection\\train_images\\4598f8be0.jpg\n",
      "Image not found at path: C:\\Users\\Hp\\OneDrive\\Desktop\\Machine Learning\\Group assignment1\\SteelDetection\\train_images\\45993565a.jpg\n"
     ]
    },
    {
     "name": "stderr",
     "output_type": "stream",
     "text": [
      " 27%|█████████████████████                                                         | 1912/7095 [00:33<01:23, 62.30it/s]"
     ]
    },
    {
     "name": "stdout",
     "output_type": "stream",
     "text": [
      "Image not found at path: C:\\Users\\Hp\\OneDrive\\Desktop\\Machine Learning\\Group assignment1\\SteelDetection\\train_images\\4613bc12c.jpg\n",
      "Image not found at path: C:\\Users\\Hp\\OneDrive\\Desktop\\Machine Learning\\Group assignment1\\SteelDetection\\train_images\\4613d520c.jpg\n",
      "Image not found at path: C:\\Users\\Hp\\OneDrive\\Desktop\\Machine Learning\\Group assignment1\\SteelDetection\\train_images\\46160f1f5.jpg\n",
      "Image not found at path: C:\\Users\\Hp\\OneDrive\\Desktop\\Machine Learning\\Group assignment1\\SteelDetection\\train_images\\463108c67.jpg\n",
      "Image not found at path: C:\\Users\\Hp\\OneDrive\\Desktop\\Machine Learning\\Group assignment1\\SteelDetection\\train_images\\464917fe0.jpg\n",
      "Image not found at path: C:\\Users\\Hp\\OneDrive\\Desktop\\Machine Learning\\Group assignment1\\SteelDetection\\train_images\\464987349.jpg\n",
      "Image not found at path: C:\\Users\\Hp\\OneDrive\\Desktop\\Machine Learning\\Group assignment1\\SteelDetection\\train_images\\465808594.jpg\n",
      "Image not found at path: C:\\Users\\Hp\\OneDrive\\Desktop\\Machine Learning\\Group assignment1\\SteelDetection\\train_images\\46582cff8.jpg\n",
      "Image not found at path: C:\\Users\\Hp\\OneDrive\\Desktop\\Machine Learning\\Group assignment1\\SteelDetection\\train_images\\46655e050.jpg\n",
      "Image not found at path: C:\\Users\\Hp\\OneDrive\\Desktop\\Machine Learning\\Group assignment1\\SteelDetection\\train_images\\46655e050.jpg\n",
      "Image not found at path: C:\\Users\\Hp\\OneDrive\\Desktop\\Machine Learning\\Group assignment1\\SteelDetection\\train_images\\4695c2d2a.jpg\n"
     ]
    },
    {
     "name": "stderr",
     "output_type": "stream",
     "text": [
      " 27%|█████████████████████▎                                                        | 1939/7095 [00:33<01:10, 73.55it/s]"
     ]
    },
    {
     "name": "stdout",
     "output_type": "stream",
     "text": [
      "Image not found at path: C:\\Users\\Hp\\OneDrive\\Desktop\\Machine Learning\\Group assignment1\\SteelDetection\\train_images\\47111332b.jpg\n",
      "Image not found at path: C:\\Users\\Hp\\OneDrive\\Desktop\\Machine Learning\\Group assignment1\\SteelDetection\\train_images\\472407235.jpg\n",
      "Image not found at path: C:\\Users\\Hp\\OneDrive\\Desktop\\Machine Learning\\Group assignment1\\SteelDetection\\train_images\\4733edde8.jpg\n",
      "Image not found at path: C:\\Users\\Hp\\OneDrive\\Desktop\\Machine Learning\\Group assignment1\\SteelDetection\\train_images\\474104794.jpg\n",
      "Image not found at path: C:\\Users\\Hp\\OneDrive\\Desktop\\Machine Learning\\Group assignment1\\SteelDetection\\train_images\\47454aedd.jpg\n",
      "Image not found at path: C:\\Users\\Hp\\OneDrive\\Desktop\\Machine Learning\\Group assignment1\\SteelDetection\\train_images\\47568c5de.jpg\n",
      "Image not found at path: C:\\Users\\Hp\\OneDrive\\Desktop\\Machine Learning\\Group assignment1\\SteelDetection\\train_images\\4783eb121.jpg\n",
      "Image not found at path: C:\\Users\\Hp\\OneDrive\\Desktop\\Machine Learning\\Group assignment1\\SteelDetection\\train_images\\4784189ec.jpg\n",
      "Image not found at path: C:\\Users\\Hp\\OneDrive\\Desktop\\Machine Learning\\Group assignment1\\SteelDetection\\train_images\\4787645e5.jpg\n"
     ]
    },
    {
     "name": "stderr",
     "output_type": "stream",
     "text": [
      " 28%|█████████████████████▋                                                        | 1971/7095 [00:34<01:16, 67.21it/s]"
     ]
    },
    {
     "name": "stdout",
     "output_type": "stream",
     "text": [
      "Image not found at path: C:\\Users\\Hp\\OneDrive\\Desktop\\Machine Learning\\Group assignment1\\SteelDetection\\train_images\\4803fc0ae.jpg\n",
      "Image not found at path: C:\\Users\\Hp\\OneDrive\\Desktop\\Machine Learning\\Group assignment1\\SteelDetection\\train_images\\484439824.jpg\n",
      "Image not found at path: C:\\Users\\Hp\\OneDrive\\Desktop\\Machine Learning\\Group assignment1\\SteelDetection\\train_images\\48532e006.jpg\n",
      "Image not found at path: C:\\Users\\Hp\\OneDrive\\Desktop\\Machine Learning\\Group assignment1\\SteelDetection\\train_images\\4854add54.jpg\n",
      "Image not found at path: C:\\Users\\Hp\\OneDrive\\Desktop\\Machine Learning\\Group assignment1\\SteelDetection\\train_images\\4857d0687.jpg\n",
      "Image not found at path: C:\\Users\\Hp\\OneDrive\\Desktop\\Machine Learning\\Group assignment1\\SteelDetection\\train_images\\48626da29.jpg\n",
      "Image not found at path: C:\\Users\\Hp\\OneDrive\\Desktop\\Machine Learning\\Group assignment1\\SteelDetection\\train_images\\4874f19dd.jpg\n",
      "Image not found at path: C:\\Users\\Hp\\OneDrive\\Desktop\\Machine Learning\\Group assignment1\\SteelDetection\\train_images\\48831ab9e.jpg\n",
      "Image not found at path: C:\\Users\\Hp\\OneDrive\\Desktop\\Machine Learning\\Group assignment1\\SteelDetection\\train_images\\488922ac2.jpg\n"
     ]
    },
    {
     "name": "stderr",
     "output_type": "stream",
     "text": [
      " 28%|█████████████████████▊                                                        | 1987/7095 [00:34<01:14, 68.25it/s]"
     ]
    },
    {
     "name": "stdout",
     "output_type": "stream",
     "text": [
      "Image not found at path: C:\\Users\\Hp\\OneDrive\\Desktop\\Machine Learning\\Group assignment1\\SteelDetection\\train_images\\4932f1a80.jpg\n",
      "Image not found at path: C:\\Users\\Hp\\OneDrive\\Desktop\\Machine Learning\\Group assignment1\\SteelDetection\\train_images\\4941491de.jpg\n",
      "Image not found at path: C:\\Users\\Hp\\OneDrive\\Desktop\\Machine Learning\\Group assignment1\\SteelDetection\\train_images\\49416ce82.jpg\n",
      "Image not found at path: C:\\Users\\Hp\\OneDrive\\Desktop\\Machine Learning\\Group assignment1\\SteelDetection\\train_images\\496790c19.jpg\n",
      "Image not found at path: C:\\Users\\Hp\\OneDrive\\Desktop\\Machine Learning\\Group assignment1\\SteelDetection\\train_images\\4992fae6f.jpg\n"
     ]
    },
    {
     "name": "stderr",
     "output_type": "stream",
     "text": [
      " 31%|███████████████████████▉                                                      | 2176/7095 [00:38<01:22, 59.98it/s]"
     ]
    },
    {
     "name": "stdout",
     "output_type": "stream",
     "text": [
      "Image not found at path: C:\\Users\\Hp\\OneDrive\\Desktop\\Machine Learning\\Group assignment1\\SteelDetection\\train_images\\5013e5c9d.jpg\n",
      "Image not found at path: C:\\Users\\Hp\\OneDrive\\Desktop\\Machine Learning\\Group assignment1\\SteelDetection\\train_images\\5020df2f8.jpg\n",
      "Image not found at path: C:\\Users\\Hp\\OneDrive\\Desktop\\Machine Learning\\Group assignment1\\SteelDetection\\train_images\\5041c4a3f.jpg\n",
      "Image not found at path: C:\\Users\\Hp\\OneDrive\\Desktop\\Machine Learning\\Group assignment1\\SteelDetection\\train_images\\5064ecb6d.jpg\n",
      "Image not found at path: C:\\Users\\Hp\\OneDrive\\Desktop\\Machine Learning\\Group assignment1\\SteelDetection\\train_images\\50655a748.jpg\n",
      "Image not found at path: C:\\Users\\Hp\\OneDrive\\Desktop\\Machine Learning\\Group assignment1\\SteelDetection\\train_images\\506826fc6.jpg\n",
      "Image not found at path: C:\\Users\\Hp\\OneDrive\\Desktop\\Machine Learning\\Group assignment1\\SteelDetection\\train_images\\50742b144.jpg\n",
      "Image not found at path: C:\\Users\\Hp\\OneDrive\\Desktop\\Machine Learning\\Group assignment1\\SteelDetection\\train_images\\5092b3368.jpg\n"
     ]
    },
    {
     "name": "stderr",
     "output_type": "stream",
     "text": [
      " 31%|████████████████████████▏                                                     | 2200/7095 [00:38<01:09, 69.96it/s]"
     ]
    },
    {
     "name": "stdout",
     "output_type": "stream",
     "text": [
      "Image not found at path: C:\\Users\\Hp\\OneDrive\\Desktop\\Machine Learning\\Group assignment1\\SteelDetection\\train_images\\51097aa45.jpg\n",
      "Image not found at path: C:\\Users\\Hp\\OneDrive\\Desktop\\Machine Learning\\Group assignment1\\SteelDetection\\train_images\\511570622.jpg\n",
      "Image not found at path: C:\\Users\\Hp\\OneDrive\\Desktop\\Machine Learning\\Group assignment1\\SteelDetection\\train_images\\5125317c7.jpg\n",
      "Image not found at path: C:\\Users\\Hp\\OneDrive\\Desktop\\Machine Learning\\Group assignment1\\SteelDetection\\train_images\\5132041da.jpg\n",
      "Image not found at path: C:\\Users\\Hp\\OneDrive\\Desktop\\Machine Learning\\Group assignment1\\SteelDetection\\train_images\\514222386.jpg\n",
      "Image not found at path: C:\\Users\\Hp\\OneDrive\\Desktop\\Machine Learning\\Group assignment1\\SteelDetection\\train_images\\51434f59b.jpg\n",
      "Image not found at path: C:\\Users\\Hp\\OneDrive\\Desktop\\Machine Learning\\Group assignment1\\SteelDetection\\train_images\\51498e7a6.jpg\n",
      "Image not found at path: C:\\Users\\Hp\\OneDrive\\Desktop\\Machine Learning\\Group assignment1\\SteelDetection\\train_images\\51632c4a4.jpg\n",
      "Image not found at path: C:\\Users\\Hp\\OneDrive\\Desktop\\Machine Learning\\Group assignment1\\SteelDetection\\train_images\\5188851b2.jpg\n",
      "Image not found at path: C:\\Users\\Hp\\OneDrive\\Desktop\\Machine Learning\\Group assignment1\\SteelDetection\\train_images\\51938ecf0.jpg\n",
      "Image not found at path: C:\\Users\\Hp\\OneDrive\\Desktop\\Machine Learning\\Group assignment1\\SteelDetection\\train_images\\519599df3.jpg\n"
     ]
    },
    {
     "name": "stderr",
     "output_type": "stream",
     "text": [
      " 31%|████████████████████████▍                                                     | 2222/7095 [00:39<01:16, 63.83it/s]"
     ]
    },
    {
     "name": "stdout",
     "output_type": "stream",
     "text": [
      "Image not found at path: C:\\Users\\Hp\\OneDrive\\Desktop\\Machine Learning\\Group assignment1\\SteelDetection\\train_images\\5210ac609.jpg\n",
      "Image not found at path: C:\\Users\\Hp\\OneDrive\\Desktop\\Machine Learning\\Group assignment1\\SteelDetection\\train_images\\52122168a.jpg\n",
      "Image not found at path: C:\\Users\\Hp\\OneDrive\\Desktop\\Machine Learning\\Group assignment1\\SteelDetection\\train_images\\5227eaed2.jpg\n",
      "Image not found at path: C:\\Users\\Hp\\OneDrive\\Desktop\\Machine Learning\\Group assignment1\\SteelDetection\\train_images\\5238bc100.jpg\n",
      "Image not found at path: C:\\Users\\Hp\\OneDrive\\Desktop\\Machine Learning\\Group assignment1\\SteelDetection\\train_images\\52497822f.jpg\n",
      "Image not found at path: C:\\Users\\Hp\\OneDrive\\Desktop\\Machine Learning\\Group assignment1\\SteelDetection\\train_images\\5256faa06.jpg\n",
      "Image not found at path: C:\\Users\\Hp\\OneDrive\\Desktop\\Machine Learning\\Group assignment1\\SteelDetection\\train_images\\527517cf3.jpg\n"
     ]
    },
    {
     "name": "stderr",
     "output_type": "stream",
     "text": [
      " 32%|████████████████████████▌                                                     | 2237/7095 [00:39<01:19, 61.00it/s]"
     ]
    },
    {
     "name": "stdout",
     "output_type": "stream",
     "text": [
      "Image not found at path: C:\\Users\\Hp\\OneDrive\\Desktop\\Machine Learning\\Group assignment1\\SteelDetection\\train_images\\528112571.jpg\n",
      "Image not found at path: C:\\Users\\Hp\\OneDrive\\Desktop\\Machine Learning\\Group assignment1\\SteelDetection\\train_images\\5283b3138.jpg\n",
      "Image not found at path: C:\\Users\\Hp\\OneDrive\\Desktop\\Machine Learning\\Group assignment1\\SteelDetection\\train_images\\5303447ca.jpg\n",
      "Image not found at path: C:\\Users\\Hp\\OneDrive\\Desktop\\Machine Learning\\Group assignment1\\SteelDetection\\train_images\\5335b8fd7.jpg\n",
      "Image not found at path: C:\\Users\\Hp\\OneDrive\\Desktop\\Machine Learning\\Group assignment1\\SteelDetection\\train_images\\533926801.jpg\n",
      "Image not found at path: C:\\Users\\Hp\\OneDrive\\Desktop\\Machine Learning\\Group assignment1\\SteelDetection\\train_images\\534666b46.jpg\n"
     ]
    },
    {
     "name": "stderr",
     "output_type": "stream",
     "text": [
      " 32%|████████████████████████▊                                                     | 2254/7095 [00:39<01:08, 70.61it/s]"
     ]
    },
    {
     "name": "stdout",
     "output_type": "stream",
     "text": [
      "Image not found at path: C:\\Users\\Hp\\OneDrive\\Desktop\\Machine Learning\\Group assignment1\\SteelDetection\\train_images\\534991d20.jpg\n",
      "Image not found at path: C:\\Users\\Hp\\OneDrive\\Desktop\\Machine Learning\\Group assignment1\\SteelDetection\\train_images\\5350e17c2.jpg\n",
      "Image not found at path: C:\\Users\\Hp\\OneDrive\\Desktop\\Machine Learning\\Group assignment1\\SteelDetection\\train_images\\535970659.jpg\n",
      "Image not found at path: C:\\Users\\Hp\\OneDrive\\Desktop\\Machine Learning\\Group assignment1\\SteelDetection\\train_images\\5370c78e0.jpg\n",
      "Image not found at path: C:\\Users\\Hp\\OneDrive\\Desktop\\Machine Learning\\Group assignment1\\SteelDetection\\train_images\\5377dbac1.jpg\n",
      "Image not found at path: C:\\Users\\Hp\\OneDrive\\Desktop\\Machine Learning\\Group assignment1\\SteelDetection\\train_images\\53994e13b.jpg\n"
     ]
    },
    {
     "name": "stderr",
     "output_type": "stream",
     "text": [
      " 32%|████████████████████████▉                                                     | 2271/7095 [00:39<01:12, 66.35it/s]"
     ]
    },
    {
     "name": "stdout",
     "output_type": "stream",
     "text": [
      "Image not found at path: C:\\Users\\Hp\\OneDrive\\Desktop\\Machine Learning\\Group assignment1\\SteelDetection\\train_images\\542084ea9.jpg\n",
      "Image not found at path: C:\\Users\\Hp\\OneDrive\\Desktop\\Machine Learning\\Group assignment1\\SteelDetection\\train_images\\5432ff65a.jpg\n",
      "Image not found at path: C:\\Users\\Hp\\OneDrive\\Desktop\\Machine Learning\\Group assignment1\\SteelDetection\\train_images\\54439ae68.jpg\n",
      "Image not found at path: C:\\Users\\Hp\\OneDrive\\Desktop\\Machine Learning\\Group assignment1\\SteelDetection\\train_images\\5457e4e20.jpg\n",
      "Image not found at path: C:\\Users\\Hp\\OneDrive\\Desktop\\Machine Learning\\Group assignment1\\SteelDetection\\train_images\\5462db9cd.jpg\n",
      "Image not found at path: C:\\Users\\Hp\\OneDrive\\Desktop\\Machine Learning\\Group assignment1\\SteelDetection\\train_images\\5462fa711.jpg\n",
      "Image not found at path: C:\\Users\\Hp\\OneDrive\\Desktop\\Machine Learning\\Group assignment1\\SteelDetection\\train_images\\54738099a.jpg\n",
      "Image not found at path: C:\\Users\\Hp\\OneDrive\\Desktop\\Machine Learning\\Group assignment1\\SteelDetection\\train_images\\54780d890.jpg\n",
      "Image not found at path: C:\\Users\\Hp\\OneDrive\\Desktop\\Machine Learning\\Group assignment1\\SteelDetection\\train_images\\549613483.jpg\n"
     ]
    },
    {
     "name": "stderr",
     "output_type": "stream",
     "text": [
      " 32%|█████████████████████████▎                                                    | 2302/7095 [00:40<01:15, 63.64it/s]"
     ]
    },
    {
     "name": "stdout",
     "output_type": "stream",
     "text": [
      "Image not found at path: C:\\Users\\Hp\\OneDrive\\Desktop\\Machine Learning\\Group assignment1\\SteelDetection\\train_images\\55042415c.jpg\n",
      "Image not found at path: C:\\Users\\Hp\\OneDrive\\Desktop\\Machine Learning\\Group assignment1\\SteelDetection\\train_images\\55136d7f3.jpg\n",
      "Image not found at path: C:\\Users\\Hp\\OneDrive\\Desktop\\Machine Learning\\Group assignment1\\SteelDetection\\train_images\\55303df62.jpg\n",
      "Image not found at path: C:\\Users\\Hp\\OneDrive\\Desktop\\Machine Learning\\Group assignment1\\SteelDetection\\train_images\\5545e4b0f.jpg\n",
      "Image not found at path: C:\\Users\\Hp\\OneDrive\\Desktop\\Machine Learning\\Group assignment1\\SteelDetection\\train_images\\5545e4b0f.jpg\n",
      "Image not found at path: C:\\Users\\Hp\\OneDrive\\Desktop\\Machine Learning\\Group assignment1\\SteelDetection\\train_images\\554710095.jpg\n",
      "Image not found at path: C:\\Users\\Hp\\OneDrive\\Desktop\\Machine Learning\\Group assignment1\\SteelDetection\\train_images\\5562229c3.jpg\n",
      "Image not found at path: C:\\Users\\Hp\\OneDrive\\Desktop\\Machine Learning\\Group assignment1\\SteelDetection\\train_images\\5574a47da.jpg\n",
      "Image not found at path: C:\\Users\\Hp\\OneDrive\\Desktop\\Machine Learning\\Group assignment1\\SteelDetection\\train_images\\55901ac51.jpg\n",
      "Image not found at path: C:\\Users\\Hp\\OneDrive\\Desktop\\Machine Learning\\Group assignment1\\SteelDetection\\train_images\\55901ac51.jpg\n",
      "Image not found at path: C:\\Users\\Hp\\OneDrive\\Desktop\\Machine Learning\\Group assignment1\\SteelDetection\\train_images\\55979505e.jpg\n"
     ]
    },
    {
     "name": "stderr",
     "output_type": "stream",
     "text": [
      " 33%|█████████████████████████▌                                                    | 2326/7095 [00:40<01:06, 71.86it/s]"
     ]
    },
    {
     "name": "stdout",
     "output_type": "stream",
     "text": [
      "Image not found at path: C:\\Users\\Hp\\OneDrive\\Desktop\\Machine Learning\\Group assignment1\\SteelDetection\\train_images\\5600ec21b.jpg\n",
      "Image not found at path: C:\\Users\\Hp\\OneDrive\\Desktop\\Machine Learning\\Group assignment1\\SteelDetection\\train_images\\56011ad29.jpg\n",
      "Image not found at path: C:\\Users\\Hp\\OneDrive\\Desktop\\Machine Learning\\Group assignment1\\SteelDetection\\train_images\\56120829d.jpg\n",
      "Image not found at path: C:\\Users\\Hp\\OneDrive\\Desktop\\Machine Learning\\Group assignment1\\SteelDetection\\train_images\\5613bb745.jpg\n",
      "Image not found at path: C:\\Users\\Hp\\OneDrive\\Desktop\\Machine Learning\\Group assignment1\\SteelDetection\\train_images\\562055ee9.jpg\n",
      "Image not found at path: C:\\Users\\Hp\\OneDrive\\Desktop\\Machine Learning\\Group assignment1\\SteelDetection\\train_images\\56553f422.jpg\n",
      "Image not found at path: C:\\Users\\Hp\\OneDrive\\Desktop\\Machine Learning\\Group assignment1\\SteelDetection\\train_images\\5660432cc.jpg\n",
      "Image not found at path: C:\\Users\\Hp\\OneDrive\\Desktop\\Machine Learning\\Group assignment1\\SteelDetection\\train_images\\5665ada1b.jpg\n",
      "Image not found at path: C:\\Users\\Hp\\OneDrive\\Desktop\\Machine Learning\\Group assignment1\\SteelDetection\\train_images\\5665ada1b.jpg\n",
      "Image not found at path: C:\\Users\\Hp\\OneDrive\\Desktop\\Machine Learning\\Group assignment1\\SteelDetection\\train_images\\567578f1b.jpg\n",
      "Image not found at path: C:\\Users\\Hp\\OneDrive\\Desktop\\Machine Learning\\Group assignment1\\SteelDetection\\train_images\\567578f1b.jpg\n",
      "Image not found at path: C:\\Users\\Hp\\OneDrive\\Desktop\\Machine Learning\\Group assignment1\\SteelDetection\\train_images\\56774fb7f.jpg\n",
      "Image not found at path: C:\\Users\\Hp\\OneDrive\\Desktop\\Machine Learning\\Group assignment1\\SteelDetection\\train_images\\568439b6c.jpg\n",
      "Image not found at path: C:\\Users\\Hp\\OneDrive\\Desktop\\Machine Learning\\Group assignment1\\SteelDetection\\train_images\\56918910e.jpg\n",
      "Image not found at path: C:\\Users\\Hp\\OneDrive\\Desktop\\Machine Learning\\Group assignment1\\SteelDetection\\train_images\\5698f3507.jpg\n"
     ]
    },
    {
     "name": "stderr",
     "output_type": "stream",
     "text": [
      " 33%|█████████████████████████▉                                                    | 2354/7095 [00:41<01:06, 71.14it/s]"
     ]
    },
    {
     "name": "stdout",
     "output_type": "stream",
     "text": [
      "Image not found at path: C:\\Users\\Hp\\OneDrive\\Desktop\\Machine Learning\\Group assignment1\\SteelDetection\\train_images\\57239737a.jpg\n",
      "Image not found at path: C:\\Users\\Hp\\OneDrive\\Desktop\\Machine Learning\\Group assignment1\\SteelDetection\\train_images\\5727d7f96.jpg\n",
      "Image not found at path: C:\\Users\\Hp\\OneDrive\\Desktop\\Machine Learning\\Group assignment1\\SteelDetection\\train_images\\57314986d.jpg\n",
      "Image not found at path: C:\\Users\\Hp\\OneDrive\\Desktop\\Machine Learning\\Group assignment1\\SteelDetection\\train_images\\5757100f0.jpg\n",
      "Image not found at path: C:\\Users\\Hp\\OneDrive\\Desktop\\Machine Learning\\Group assignment1\\SteelDetection\\train_images\\576910e29.jpg\n",
      "Image not found at path: C:\\Users\\Hp\\OneDrive\\Desktop\\Machine Learning\\Group assignment1\\SteelDetection\\train_images\\576910e29.jpg\n",
      "Image not found at path: C:\\Users\\Hp\\OneDrive\\Desktop\\Machine Learning\\Group assignment1\\SteelDetection\\train_images\\57794735f.jpg\n",
      "Image not found at path: C:\\Users\\Hp\\OneDrive\\Desktop\\Machine Learning\\Group assignment1\\SteelDetection\\train_images\\57821dda7.jpg\n",
      "Image not found at path: C:\\Users\\Hp\\OneDrive\\Desktop\\Machine Learning\\Group assignment1\\SteelDetection\\train_images\\5787b6262.jpg\n",
      "Image not found at path: C:\\Users\\Hp\\OneDrive\\Desktop\\Machine Learning\\Group assignment1\\SteelDetection\\train_images\\579796d67.jpg\n"
     ]
    },
    {
     "name": "stderr",
     "output_type": "stream",
     "text": [
      " 34%|██████████████████████████▏                                                   | 2380/7095 [00:41<01:06, 70.56it/s]"
     ]
    },
    {
     "name": "stdout",
     "output_type": "stream",
     "text": [
      "Image not found at path: C:\\Users\\Hp\\OneDrive\\Desktop\\Machine Learning\\Group assignment1\\SteelDetection\\train_images\\58049fca1.jpg\n",
      "Image not found at path: C:\\Users\\Hp\\OneDrive\\Desktop\\Machine Learning\\Group assignment1\\SteelDetection\\train_images\\5810e2d40.jpg\n",
      "Image not found at path: C:\\Users\\Hp\\OneDrive\\Desktop\\Machine Learning\\Group assignment1\\SteelDetection\\train_images\\58384cf41.jpg\n",
      "Image not found at path: C:\\Users\\Hp\\OneDrive\\Desktop\\Machine Learning\\Group assignment1\\SteelDetection\\train_images\\5848791de.jpg\n",
      "Image not found at path: C:\\Users\\Hp\\OneDrive\\Desktop\\Machine Learning\\Group assignment1\\SteelDetection\\train_images\\5848791de.jpg\n",
      "Image not found at path: C:\\Users\\Hp\\OneDrive\\Desktop\\Machine Learning\\Group assignment1\\SteelDetection\\train_images\\5852e61b5.jpg\n",
      "Image not found at path: C:\\Users\\Hp\\OneDrive\\Desktop\\Machine Learning\\Group assignment1\\SteelDetection\\train_images\\585904c94.jpg\n",
      "Image not found at path: C:\\Users\\Hp\\OneDrive\\Desktop\\Machine Learning\\Group assignment1\\SteelDetection\\train_images\\58673aa89.jpg\n",
      "Image not found at path: C:\\Users\\Hp\\OneDrive\\Desktop\\Machine Learning\\Group assignment1\\SteelDetection\\train_images\\5891749fb.jpg\n",
      "Image not found at path: C:\\Users\\Hp\\OneDrive\\Desktop\\Machine Learning\\Group assignment1\\SteelDetection\\train_images\\5892d9332.jpg\n"
     ]
    },
    {
     "name": "stderr",
     "output_type": "stream",
     "text": [
      " 34%|██████████████████████████▍                                                   | 2404/7095 [00:41<01:10, 66.41it/s]"
     ]
    },
    {
     "name": "stdout",
     "output_type": "stream",
     "text": [
      "Image not found at path: C:\\Users\\Hp\\OneDrive\\Desktop\\Machine Learning\\Group assignment1\\SteelDetection\\train_images\\59384b153.jpg\n",
      "Image not found at path: C:\\Users\\Hp\\OneDrive\\Desktop\\Machine Learning\\Group assignment1\\SteelDetection\\train_images\\594303084.jpg\n",
      "Image not found at path: C:\\Users\\Hp\\OneDrive\\Desktop\\Machine Learning\\Group assignment1\\SteelDetection\\train_images\\5952d06e5.jpg\n",
      "Image not found at path: C:\\Users\\Hp\\OneDrive\\Desktop\\Machine Learning\\Group assignment1\\SteelDetection\\train_images\\595373657.jpg\n",
      "Image not found at path: C:\\Users\\Hp\\OneDrive\\Desktop\\Machine Learning\\Group assignment1\\SteelDetection\\train_images\\5956f0975.jpg\n",
      "Image not found at path: C:\\Users\\Hp\\OneDrive\\Desktop\\Machine Learning\\Group assignment1\\SteelDetection\\train_images\\59849c3de.jpg\n",
      "Image not found at path: C:\\Users\\Hp\\OneDrive\\Desktop\\Machine Learning\\Group assignment1\\SteelDetection\\train_images\\599251689.jpg\n",
      "Image not found at path: C:\\Users\\Hp\\OneDrive\\Desktop\\Machine Learning\\Group assignment1\\SteelDetection\\train_images\\5994c3b58.jpg\n"
     ]
    },
    {
     "name": "stderr",
     "output_type": "stream",
     "text": [
      " 37%|████████████████████████████▍                                                 | 2592/7095 [00:45<01:24, 52.98it/s]"
     ]
    },
    {
     "name": "stdout",
     "output_type": "stream",
     "text": [
      "Image not found at path: C:\\Users\\Hp\\OneDrive\\Desktop\\Machine Learning\\Group assignment1\\SteelDetection\\train_images\\602288d9c.jpg\n",
      "Image not found at path: C:\\Users\\Hp\\OneDrive\\Desktop\\Machine Learning\\Group assignment1\\SteelDetection\\train_images\\6023f98ef.jpg\n",
      "Image not found at path: C:\\Users\\Hp\\OneDrive\\Desktop\\Machine Learning\\Group assignment1\\SteelDetection\\train_images\\6057916d4.jpg\n",
      "Image not found at path: C:\\Users\\Hp\\OneDrive\\Desktop\\Machine Learning\\Group assignment1\\SteelDetection\\train_images\\607105dac.jpg\n",
      "Image not found at path: C:\\Users\\Hp\\OneDrive\\Desktop\\Machine Learning\\Group assignment1\\SteelDetection\\train_images\\6078cc0b1.jpg\n",
      "Image not found at path: C:\\Users\\Hp\\OneDrive\\Desktop\\Machine Learning\\Group assignment1\\SteelDetection\\train_images\\6081f6677.jpg\n",
      "Image not found at path: C:\\Users\\Hp\\OneDrive\\Desktop\\Machine Learning\\Group assignment1\\SteelDetection\\train_images\\6085fc4cc.jpg\n",
      "Image not found at path: C:\\Users\\Hp\\OneDrive\\Desktop\\Machine Learning\\Group assignment1\\SteelDetection\\train_images\\60906c3a1.jpg\n"
     ]
    },
    {
     "name": "stderr",
     "output_type": "stream",
     "text": [
      " 37%|████████████████████████████▊                                                 | 2626/7095 [00:46<01:06, 66.96it/s]"
     ]
    },
    {
     "name": "stdout",
     "output_type": "stream",
     "text": [
      "Image not found at path: C:\\Users\\Hp\\OneDrive\\Desktop\\Machine Learning\\Group assignment1\\SteelDetection\\train_images\\6100fae0f.jpg\n",
      "Image not found at path: C:\\Users\\Hp\\OneDrive\\Desktop\\Machine Learning\\Group assignment1\\SteelDetection\\train_images\\61204ded5.jpg\n",
      "Image not found at path: C:\\Users\\Hp\\OneDrive\\Desktop\\Machine Learning\\Group assignment1\\SteelDetection\\train_images\\61228a49c.jpg\n",
      "Image not found at path: C:\\Users\\Hp\\OneDrive\\Desktop\\Machine Learning\\Group assignment1\\SteelDetection\\train_images\\6143631ab.jpg\n",
      "Image not found at path: C:\\Users\\Hp\\OneDrive\\Desktop\\Machine Learning\\Group assignment1\\SteelDetection\\train_images\\61457b567.jpg\n",
      "Image not found at path: C:\\Users\\Hp\\OneDrive\\Desktop\\Machine Learning\\Group assignment1\\SteelDetection\\train_images\\6149dc4ee.jpg\n",
      "Image not found at path: C:\\Users\\Hp\\OneDrive\\Desktop\\Machine Learning\\Group assignment1\\SteelDetection\\train_images\\6149dc4ee.jpg\n",
      "Image not found at path: C:\\Users\\Hp\\OneDrive\\Desktop\\Machine Learning\\Group assignment1\\SteelDetection\\train_images\\616646b4d.jpg\n",
      "Image not found at path: C:\\Users\\Hp\\OneDrive\\Desktop\\Machine Learning\\Group assignment1\\SteelDetection\\train_images\\6181b0a92.jpg\n",
      "Image not found at path: C:\\Users\\Hp\\OneDrive\\Desktop\\Machine Learning\\Group assignment1\\SteelDetection\\train_images\\61835d07a.jpg\n",
      "Image not found at path: C:\\Users\\Hp\\OneDrive\\Desktop\\Machine Learning\\Group assignment1\\SteelDetection\\train_images\\6190fe546.jpg\n"
     ]
    },
    {
     "name": "stderr",
     "output_type": "stream",
     "text": [
      " 37%|█████████████████████████████▏                                                | 2651/7095 [00:46<01:03, 69.96it/s]"
     ]
    },
    {
     "name": "stdout",
     "output_type": "stream",
     "text": [
      "Image not found at path: C:\\Users\\Hp\\OneDrive\\Desktop\\Machine Learning\\Group assignment1\\SteelDetection\\train_images\\620100d93.jpg\n",
      "Image not found at path: C:\\Users\\Hp\\OneDrive\\Desktop\\Machine Learning\\Group assignment1\\SteelDetection\\train_images\\620568126.jpg\n",
      "Image not found at path: C:\\Users\\Hp\\OneDrive\\Desktop\\Machine Learning\\Group assignment1\\SteelDetection\\train_images\\6209acbc4.jpg\n",
      "Image not found at path: C:\\Users\\Hp\\OneDrive\\Desktop\\Machine Learning\\Group assignment1\\SteelDetection\\train_images\\62122709f.jpg\n",
      "Image not found at path: C:\\Users\\Hp\\OneDrive\\Desktop\\Machine Learning\\Group assignment1\\SteelDetection\\train_images\\6212e44a0.jpg\n",
      "Image not found at path: C:\\Users\\Hp\\OneDrive\\Desktop\\Machine Learning\\Group assignment1\\SteelDetection\\train_images\\6218cd94a.jpg\n",
      "Image not found at path: C:\\Users\\Hp\\OneDrive\\Desktop\\Machine Learning\\Group assignment1\\SteelDetection\\train_images\\622086df1.jpg\n",
      "Image not found at path: C:\\Users\\Hp\\OneDrive\\Desktop\\Machine Learning\\Group assignment1\\SteelDetection\\train_images\\622808ac3.jpg\n",
      "Image not found at path: C:\\Users\\Hp\\OneDrive\\Desktop\\Machine Learning\\Group assignment1\\SteelDetection\\train_images\\6233c9643.jpg\n",
      "Image not found at path: C:\\Users\\Hp\\OneDrive\\Desktop\\Machine Learning\\Group assignment1\\SteelDetection\\train_images\\6246f7cae.jpg\n",
      "Image not found at path: C:\\Users\\Hp\\OneDrive\\Desktop\\Machine Learning\\Group assignment1\\SteelDetection\\train_images\\6267f94de.jpg\n",
      "Image not found at path: C:\\Users\\Hp\\OneDrive\\Desktop\\Machine Learning\\Group assignment1\\SteelDetection\\train_images\\6276bd13c.jpg\n"
     ]
    },
    {
     "name": "stderr",
     "output_type": "stream",
     "text": [
      " 38%|█████████████████████████████▎                                                | 2668/7095 [00:47<01:05, 67.53it/s]"
     ]
    },
    {
     "name": "stdout",
     "output_type": "stream",
     "text": [
      "Image not found at path: C:\\Users\\Hp\\OneDrive\\Desktop\\Machine Learning\\Group assignment1\\SteelDetection\\train_images\\62849bbef.jpg\n",
      "Image not found at path: C:\\Users\\Hp\\OneDrive\\Desktop\\Machine Learning\\Group assignment1\\SteelDetection\\train_images\\629277c2f.jpg\n",
      "Image not found at path: C:\\Users\\Hp\\OneDrive\\Desktop\\Machine Learning\\Group assignment1\\SteelDetection\\train_images\\629900275.jpg\n"
     ]
    },
    {
     "name": "stderr",
     "output_type": "stream",
     "text": [
      " 38%|█████████████████████████████▌                                                | 2689/7095 [00:47<00:55, 79.41it/s]"
     ]
    },
    {
     "name": "stdout",
     "output_type": "stream",
     "text": [
      "Image not found at path: C:\\Users\\Hp\\OneDrive\\Desktop\\Machine Learning\\Group assignment1\\SteelDetection\\train_images\\6308e03ad.jpg\n",
      "Image not found at path: C:\\Users\\Hp\\OneDrive\\Desktop\\Machine Learning\\Group assignment1\\SteelDetection\\train_images\\631774933.jpg\n",
      "Image not found at path: C:\\Users\\Hp\\OneDrive\\Desktop\\Machine Learning\\Group assignment1\\SteelDetection\\train_images\\6320ec8c6.jpg\n",
      "Image not found at path: C:\\Users\\Hp\\OneDrive\\Desktop\\Machine Learning\\Group assignment1\\SteelDetection\\train_images\\632133372.jpg\n",
      "Image not found at path: C:\\Users\\Hp\\OneDrive\\Desktop\\Machine Learning\\Group assignment1\\SteelDetection\\train_images\\6336c7ef4.jpg\n",
      "Image not found at path: C:\\Users\\Hp\\OneDrive\\Desktop\\Machine Learning\\Group assignment1\\SteelDetection\\train_images\\633701ae3.jpg\n",
      "Image not found at path: C:\\Users\\Hp\\OneDrive\\Desktop\\Machine Learning\\Group assignment1\\SteelDetection\\train_images\\6343860bc.jpg\n",
      "Image not found at path: C:\\Users\\Hp\\OneDrive\\Desktop\\Machine Learning\\Group assignment1\\SteelDetection\\train_images\\6353833df.jpg\n",
      "Image not found at path: C:\\Users\\Hp\\OneDrive\\Desktop\\Machine Learning\\Group assignment1\\SteelDetection\\train_images\\6355bcd53.jpg\n",
      "Image not found at path: C:\\Users\\Hp\\OneDrive\\Desktop\\Machine Learning\\Group assignment1\\SteelDetection\\train_images\\6355bf572.jpg\n",
      "Image not found at path: C:\\Users\\Hp\\OneDrive\\Desktop\\Machine Learning\\Group assignment1\\SteelDetection\\train_images\\636214476.jpg\n",
      "Image not found at path: C:\\Users\\Hp\\OneDrive\\Desktop\\Machine Learning\\Group assignment1\\SteelDetection\\train_images\\636700b91.jpg\n",
      "Image not found at path: C:\\Users\\Hp\\OneDrive\\Desktop\\Machine Learning\\Group assignment1\\SteelDetection\\train_images\\636852a01.jpg\n",
      "Image not found at path: C:\\Users\\Hp\\OneDrive\\Desktop\\Machine Learning\\Group assignment1\\SteelDetection\\train_images\\638531c87.jpg\n",
      "Image not found at path: C:\\Users\\Hp\\OneDrive\\Desktop\\Machine Learning\\Group assignment1\\SteelDetection\\train_images\\6395f8bf1.jpg\n",
      "Image not found at path: C:\\Users\\Hp\\OneDrive\\Desktop\\Machine Learning\\Group assignment1\\SteelDetection\\train_images\\63972a7c5.jpg\n"
     ]
    },
    {
     "name": "stderr",
     "output_type": "stream",
     "text": [
      " 38%|█████████████████████████████▊                                                | 2715/7095 [00:47<01:03, 69.50it/s]"
     ]
    },
    {
     "name": "stdout",
     "output_type": "stream",
     "text": [
      "Image not found at path: C:\\Users\\Hp\\OneDrive\\Desktop\\Machine Learning\\Group assignment1\\SteelDetection\\train_images\\6406c1e6f.jpg\n",
      "Image not found at path: C:\\Users\\Hp\\OneDrive\\Desktop\\Machine Learning\\Group assignment1\\SteelDetection\\train_images\\64261b3f7.jpg\n",
      "Image not found at path: C:\\Users\\Hp\\OneDrive\\Desktop\\Machine Learning\\Group assignment1\\SteelDetection\\train_images\\6430ea237.jpg\n",
      "Image not found at path: C:\\Users\\Hp\\OneDrive\\Desktop\\Machine Learning\\Group assignment1\\SteelDetection\\train_images\\6430ea237.jpg\n",
      "Image not found at path: C:\\Users\\Hp\\OneDrive\\Desktop\\Machine Learning\\Group assignment1\\SteelDetection\\train_images\\64361cd8b.jpg\n",
      "Image not found at path: C:\\Users\\Hp\\OneDrive\\Desktop\\Machine Learning\\Group assignment1\\SteelDetection\\train_images\\64443519b.jpg\n",
      "Image not found at path: C:\\Users\\Hp\\OneDrive\\Desktop\\Machine Learning\\Group assignment1\\SteelDetection\\train_images\\64443519b.jpg\n",
      "Image not found at path: C:\\Users\\Hp\\OneDrive\\Desktop\\Machine Learning\\Group assignment1\\SteelDetection\\train_images\\6458159d8.jpg\n",
      "Image not found at path: C:\\Users\\Hp\\OneDrive\\Desktop\\Machine Learning\\Group assignment1\\SteelDetection\\train_images\\64782db0a.jpg\n"
     ]
    },
    {
     "name": "stderr",
     "output_type": "stream",
     "text": [
      " 38%|██████████████████████████████                                                | 2731/7095 [00:47<01:03, 69.25it/s]"
     ]
    },
    {
     "name": "stdout",
     "output_type": "stream",
     "text": [
      "Image not found at path: C:\\Users\\Hp\\OneDrive\\Desktop\\Machine Learning\\Group assignment1\\SteelDetection\\train_images\\64934ac51.jpg\n",
      "Image not found at path: C:\\Users\\Hp\\OneDrive\\Desktop\\Machine Learning\\Group assignment1\\SteelDetection\\train_images\\649822bd7.jpg\n",
      "Image not found at path: C:\\Users\\Hp\\OneDrive\\Desktop\\Machine Learning\\Group assignment1\\SteelDetection\\train_images\\649890305.jpg\n"
     ]
    },
    {
     "name": "stderr",
     "output_type": "stream",
     "text": [
      " 39%|██████████████████████████████▏                                               | 2749/7095 [00:48<01:03, 68.56it/s]"
     ]
    },
    {
     "name": "stdout",
     "output_type": "stream",
     "text": [
      "Image not found at path: C:\\Users\\Hp\\OneDrive\\Desktop\\Machine Learning\\Group assignment1\\SteelDetection\\train_images\\653655d53.jpg\n",
      "Image not found at path: C:\\Users\\Hp\\OneDrive\\Desktop\\Machine Learning\\Group assignment1\\SteelDetection\\train_images\\65657b8ed.jpg\n",
      "Image not found at path: C:\\Users\\Hp\\OneDrive\\Desktop\\Machine Learning\\Group assignment1\\SteelDetection\\train_images\\65688fbc2.jpg\n",
      "Image not found at path: C:\\Users\\Hp\\OneDrive\\Desktop\\Machine Learning\\Group assignment1\\SteelDetection\\train_images\\65841b207.jpg\n",
      "Image not found at path: C:\\Users\\Hp\\OneDrive\\Desktop\\Machine Learning\\Group assignment1\\SteelDetection\\train_images\\6588cf973.jpg\n",
      "Image not found at path: C:\\Users\\Hp\\OneDrive\\Desktop\\Machine Learning\\Group assignment1\\SteelDetection\\train_images\\65903909a.jpg\n",
      "Image not found at path: C:\\Users\\Hp\\OneDrive\\Desktop\\Machine Learning\\Group assignment1\\SteelDetection\\train_images\\659985985.jpg\n"
     ]
    },
    {
     "name": "stderr",
     "output_type": "stream",
     "text": [
      " 39%|██████████████████████████████▍                                               | 2773/7095 [00:48<01:06, 65.13it/s]"
     ]
    },
    {
     "name": "stdout",
     "output_type": "stream",
     "text": [
      "Image not found at path: C:\\Users\\Hp\\OneDrive\\Desktop\\Machine Learning\\Group assignment1\\SteelDetection\\train_images\\6603e9f89.jpg\n",
      "Image not found at path: C:\\Users\\Hp\\OneDrive\\Desktop\\Machine Learning\\Group assignment1\\SteelDetection\\train_images\\66574a641.jpg\n",
      "Image not found at path: C:\\Users\\Hp\\OneDrive\\Desktop\\Machine Learning\\Group assignment1\\SteelDetection\\train_images\\6666f7f16.jpg\n",
      "Image not found at path: C:\\Users\\Hp\\OneDrive\\Desktop\\Machine Learning\\Group assignment1\\SteelDetection\\train_images\\6668e50d0.jpg\n",
      "Image not found at path: C:\\Users\\Hp\\OneDrive\\Desktop\\Machine Learning\\Group assignment1\\SteelDetection\\train_images\\66849c8bd.jpg\n",
      "Image not found at path: C:\\Users\\Hp\\OneDrive\\Desktop\\Machine Learning\\Group assignment1\\SteelDetection\\train_images\\6686b6b23.jpg\n",
      "Image not found at path: C:\\Users\\Hp\\OneDrive\\Desktop\\Machine Learning\\Group assignment1\\SteelDetection\\train_images\\66987e071.jpg\n"
     ]
    },
    {
     "name": "stderr",
     "output_type": "stream",
     "text": [
      " 39%|██████████████████████████████▋                                               | 2787/7095 [00:48<01:09, 62.32it/s]"
     ]
    },
    {
     "name": "stdout",
     "output_type": "stream",
     "text": [
      "Image not found at path: C:\\Users\\Hp\\OneDrive\\Desktop\\Machine Learning\\Group assignment1\\SteelDetection\\train_images\\6705eb964.jpg\n",
      "Image not found at path: C:\\Users\\Hp\\OneDrive\\Desktop\\Machine Learning\\Group assignment1\\SteelDetection\\train_images\\6714ba056.jpg\n",
      "Image not found at path: C:\\Users\\Hp\\OneDrive\\Desktop\\Machine Learning\\Group assignment1\\SteelDetection\\train_images\\6745075b9.jpg\n",
      "Image not found at path: C:\\Users\\Hp\\OneDrive\\Desktop\\Machine Learning\\Group assignment1\\SteelDetection\\train_images\\6753759e0.jpg\n",
      "Image not found at path: C:\\Users\\Hp\\OneDrive\\Desktop\\Machine Learning\\Group assignment1\\SteelDetection\\train_images\\67558ad53.jpg\n",
      "Image not found at path: C:\\Users\\Hp\\OneDrive\\Desktop\\Machine Learning\\Group assignment1\\SteelDetection\\train_images\\67579f49a.jpg\n",
      "Image not found at path: C:\\Users\\Hp\\OneDrive\\Desktop\\Machine Learning\\Group assignment1\\SteelDetection\\train_images\\67741aee6.jpg\n",
      "Image not found at path: C:\\Users\\Hp\\OneDrive\\Desktop\\Machine Learning\\Group assignment1\\SteelDetection\\train_images\\677828765.jpg\n"
     ]
    },
    {
     "name": "stderr",
     "output_type": "stream",
     "text": [
      " 39%|██████████████████████████████▊                                               | 2801/7095 [00:49<01:08, 62.30it/s]"
     ]
    },
    {
     "name": "stdout",
     "output_type": "stream",
     "text": [
      "Image not found at path: C:\\Users\\Hp\\OneDrive\\Desktop\\Machine Learning\\Group assignment1\\SteelDetection\\train_images\\6791c36e9.jpg\n",
      "Image not found at path: C:\\Users\\Hp\\OneDrive\\Desktop\\Machine Learning\\Group assignment1\\SteelDetection\\train_images\\67995d23c.jpg\n"
     ]
    },
    {
     "name": "stderr",
     "output_type": "stream",
     "text": [
      " 40%|███████████████████████████████▏                                              | 2832/7095 [00:49<00:59, 71.97it/s]"
     ]
    },
    {
     "name": "stdout",
     "output_type": "stream",
     "text": [
      "Image not found at path: C:\\Users\\Hp\\OneDrive\\Desktop\\Machine Learning\\Group assignment1\\SteelDetection\\train_images\\6812ce51c.jpg\n",
      "Image not found at path: C:\\Users\\Hp\\OneDrive\\Desktop\\Machine Learning\\Group assignment1\\SteelDetection\\train_images\\68142cad1.jpg\n",
      "Image not found at path: C:\\Users\\Hp\\OneDrive\\Desktop\\Machine Learning\\Group assignment1\\SteelDetection\\train_images\\68150e7ff.jpg\n",
      "Image not found at path: C:\\Users\\Hp\\OneDrive\\Desktop\\Machine Learning\\Group assignment1\\SteelDetection\\train_images\\682271cbc.jpg\n",
      "Image not found at path: C:\\Users\\Hp\\OneDrive\\Desktop\\Machine Learning\\Group assignment1\\SteelDetection\\train_images\\6825de090.jpg\n",
      "Image not found at path: C:\\Users\\Hp\\OneDrive\\Desktop\\Machine Learning\\Group assignment1\\SteelDetection\\train_images\\6826c7bde.jpg\n",
      "Image not found at path: C:\\Users\\Hp\\OneDrive\\Desktop\\Machine Learning\\Group assignment1\\SteelDetection\\train_images\\6846b82fa.jpg\n",
      "Image not found at path: C:\\Users\\Hp\\OneDrive\\Desktop\\Machine Learning\\Group assignment1\\SteelDetection\\train_images\\68511f15f.jpg\n",
      "Image not found at path: C:\\Users\\Hp\\OneDrive\\Desktop\\Machine Learning\\Group assignment1\\SteelDetection\\train_images\\685593407.jpg\n",
      "Image not found at path: C:\\Users\\Hp\\OneDrive\\Desktop\\Machine Learning\\Group assignment1\\SteelDetection\\train_images\\6860ae804.jpg\n",
      "Image not found at path: C:\\Users\\Hp\\OneDrive\\Desktop\\Machine Learning\\Group assignment1\\SteelDetection\\train_images\\68656ca18.jpg\n",
      "Image not found at path: C:\\Users\\Hp\\OneDrive\\Desktop\\Machine Learning\\Group assignment1\\SteelDetection\\train_images\\686579cd4.jpg\n",
      "Image not found at path: C:\\Users\\Hp\\OneDrive\\Desktop\\Machine Learning\\Group assignment1\\SteelDetection\\train_images\\689768b30.jpg\n"
     ]
    },
    {
     "name": "stderr",
     "output_type": "stream",
     "text": [
      " 40%|███████████████████████████████▎                                              | 2850/7095 [00:49<01:02, 67.94it/s]"
     ]
    },
    {
     "name": "stdout",
     "output_type": "stream",
     "text": [
      "Image not found at path: C:\\Users\\Hp\\OneDrive\\Desktop\\Machine Learning\\Group assignment1\\SteelDetection\\train_images\\69071acbc.jpg\n",
      "Image not found at path: C:\\Users\\Hp\\OneDrive\\Desktop\\Machine Learning\\Group assignment1\\SteelDetection\\train_images\\6909e168c.jpg\n",
      "Image not found at path: C:\\Users\\Hp\\OneDrive\\Desktop\\Machine Learning\\Group assignment1\\SteelDetection\\train_images\\6915f678b.jpg\n",
      "Image not found at path: C:\\Users\\Hp\\OneDrive\\Desktop\\Machine Learning\\Group assignment1\\SteelDetection\\train_images\\691680efc.jpg\n",
      "Image not found at path: C:\\Users\\Hp\\OneDrive\\Desktop\\Machine Learning\\Group assignment1\\SteelDetection\\train_images\\6916a083e.jpg\n",
      "Image not found at path: C:\\Users\\Hp\\OneDrive\\Desktop\\Machine Learning\\Group assignment1\\SteelDetection\\train_images\\69205724f.jpg\n",
      "Image not found at path: C:\\Users\\Hp\\OneDrive\\Desktop\\Machine Learning\\Group assignment1\\SteelDetection\\train_images\\69231176e.jpg\n",
      "Image not found at path: C:\\Users\\Hp\\OneDrive\\Desktop\\Machine Learning\\Group assignment1\\SteelDetection\\train_images\\69231176e.jpg\n",
      "Image not found at path: C:\\Users\\Hp\\OneDrive\\Desktop\\Machine Learning\\Group assignment1\\SteelDetection\\train_images\\69365fabd.jpg\n",
      "Image not found at path: C:\\Users\\Hp\\OneDrive\\Desktop\\Machine Learning\\Group assignment1\\SteelDetection\\train_images\\69403726e.jpg\n",
      "Image not found at path: C:\\Users\\Hp\\OneDrive\\Desktop\\Machine Learning\\Group assignment1\\SteelDetection\\train_images\\6943e2d09.jpg\n",
      "Image not found at path: C:\\Users\\Hp\\OneDrive\\Desktop\\Machine Learning\\Group assignment1\\SteelDetection\\train_images\\6966ed5f1.jpg\n",
      "Image not found at path: C:\\Users\\Hp\\OneDrive\\Desktop\\Machine Learning\\Group assignment1\\SteelDetection\\train_images\\697149900.jpg\n"
     ]
    },
    {
     "name": "stderr",
     "output_type": "stream",
     "text": [
      " 40%|███████████████████████████████▌                                              | 2867/7095 [00:50<01:00, 70.05it/s]"
     ]
    },
    {
     "name": "stdout",
     "output_type": "stream",
     "text": [
      "Image not found at path: C:\\Users\\Hp\\OneDrive\\Desktop\\Machine Learning\\Group assignment1\\SteelDetection\\train_images\\697427d70.jpg\n",
      "Image not found at path: C:\\Users\\Hp\\OneDrive\\Desktop\\Machine Learning\\Group assignment1\\SteelDetection\\train_images\\6976314b8.jpg\n",
      "Image not found at path: C:\\Users\\Hp\\OneDrive\\Desktop\\Machine Learning\\Group assignment1\\SteelDetection\\train_images\\6985a34e0.jpg\n",
      "Image not found at path: C:\\Users\\Hp\\OneDrive\\Desktop\\Machine Learning\\Group assignment1\\SteelDetection\\train_images\\698995345.jpg\n"
     ]
    },
    {
     "name": "stderr",
     "output_type": "stream",
     "text": [
      " 43%|█████████████████████████████████▊                                            | 3077/7095 [00:54<00:54, 74.40it/s]"
     ]
    },
    {
     "name": "stdout",
     "output_type": "stream",
     "text": [
      "Image not found at path: C:\\Users\\Hp\\OneDrive\\Desktop\\Machine Learning\\Group assignment1\\SteelDetection\\train_images\\700209a95.jpg\n",
      "Image not found at path: C:\\Users\\Hp\\OneDrive\\Desktop\\Machine Learning\\Group assignment1\\SteelDetection\\train_images\\7025a90c1.jpg\n",
      "Image not found at path: C:\\Users\\Hp\\OneDrive\\Desktop\\Machine Learning\\Group assignment1\\SteelDetection\\train_images\\70279ce5b.jpg\n",
      "Image not found at path: C:\\Users\\Hp\\OneDrive\\Desktop\\Machine Learning\\Group assignment1\\SteelDetection\\train_images\\703421ef2.jpg\n",
      "Image not found at path: C:\\Users\\Hp\\OneDrive\\Desktop\\Machine Learning\\Group assignment1\\SteelDetection\\train_images\\7039151ef.jpg\n",
      "Image not found at path: C:\\Users\\Hp\\OneDrive\\Desktop\\Machine Learning\\Group assignment1\\SteelDetection\\train_images\\7045c2a55.jpg\n",
      "Image not found at path: C:\\Users\\Hp\\OneDrive\\Desktop\\Machine Learning\\Group assignment1\\SteelDetection\\train_images\\7046618f6.jpg\n",
      "Image not found at path: C:\\Users\\Hp\\OneDrive\\Desktop\\Machine Learning\\Group assignment1\\SteelDetection\\train_images\\70639811b.jpg\n",
      "Image not found at path: C:\\Users\\Hp\\OneDrive\\Desktop\\Machine Learning\\Group assignment1\\SteelDetection\\train_images\\7063cb92d.jpg\n",
      "Image not found at path: C:\\Users\\Hp\\OneDrive\\Desktop\\Machine Learning\\Group assignment1\\SteelDetection\\train_images\\7068ee9f0.jpg\n",
      "Image not found at path: C:\\Users\\Hp\\OneDrive\\Desktop\\Machine Learning\\Group assignment1\\SteelDetection\\train_images\\707534bdb.jpg\n",
      "Image not found at path: C:\\Users\\Hp\\OneDrive\\Desktop\\Machine Learning\\Group assignment1\\SteelDetection\\train_images\\70807c2c5.jpg\n",
      "Image not found at path: C:\\Users\\Hp\\OneDrive\\Desktop\\Machine Learning\\Group assignment1\\SteelDetection\\train_images\\708756850.jpg\n",
      "Image not found at path: C:\\Users\\Hp\\OneDrive\\Desktop\\Machine Learning\\Group assignment1\\SteelDetection\\train_images\\7095ad89d.jpg\n",
      "Image not found at path: C:\\Users\\Hp\\OneDrive\\Desktop\\Machine Learning\\Group assignment1\\SteelDetection\\train_images\\7095dc41e.jpg\n"
     ]
    },
    {
     "name": "stderr",
     "output_type": "stream",
     "text": [
      " 44%|█████████████████████████████████▉                                            | 3092/7095 [00:54<01:06, 60.56it/s]"
     ]
    },
    {
     "name": "stdout",
     "output_type": "stream",
     "text": [
      "Image not found at path: C:\\Users\\Hp\\OneDrive\\Desktop\\Machine Learning\\Group assignment1\\SteelDetection\\train_images\\711069458.jpg\n",
      "Image not found at path: C:\\Users\\Hp\\OneDrive\\Desktop\\Machine Learning\\Group assignment1\\SteelDetection\\train_images\\714256911.jpg\n",
      "Image not found at path: C:\\Users\\Hp\\OneDrive\\Desktop\\Machine Learning\\Group assignment1\\SteelDetection\\train_images\\714256911.jpg\n",
      "Image not found at path: C:\\Users\\Hp\\OneDrive\\Desktop\\Machine Learning\\Group assignment1\\SteelDetection\\train_images\\7149874c8.jpg\n",
      "Image not found at path: C:\\Users\\Hp\\OneDrive\\Desktop\\Machine Learning\\Group assignment1\\SteelDetection\\train_images\\7150719e7.jpg\n",
      "Image not found at path: C:\\Users\\Hp\\OneDrive\\Desktop\\Machine Learning\\Group assignment1\\SteelDetection\\train_images\\71553a0d8.jpg\n",
      "Image not found at path: C:\\Users\\Hp\\OneDrive\\Desktop\\Machine Learning\\Group assignment1\\SteelDetection\\train_images\\71553a0d8.jpg\n",
      "Image not found at path: C:\\Users\\Hp\\OneDrive\\Desktop\\Machine Learning\\Group assignment1\\SteelDetection\\train_images\\715561f42.jpg\n",
      "Image not found at path: C:\\Users\\Hp\\OneDrive\\Desktop\\Machine Learning\\Group assignment1\\SteelDetection\\train_images\\7155ea2e8.jpg\n",
      "Image not found at path: C:\\Users\\Hp\\OneDrive\\Desktop\\Machine Learning\\Group assignment1\\SteelDetection\\train_images\\7158531d8.jpg\n"
     ]
    },
    {
     "name": "stderr",
     "output_type": "stream",
     "text": [
      " 44%|██████████████████████████████████▏                                           | 3113/7095 [00:54<00:59, 66.57it/s]"
     ]
    },
    {
     "name": "stdout",
     "output_type": "stream",
     "text": [
      "Image not found at path: C:\\Users\\Hp\\OneDrive\\Desktop\\Machine Learning\\Group assignment1\\SteelDetection\\train_images\\7168496a4.jpg\n",
      "Image not found at path: C:\\Users\\Hp\\OneDrive\\Desktop\\Machine Learning\\Group assignment1\\SteelDetection\\train_images\\719519f07.jpg\n"
     ]
    },
    {
     "name": "stderr",
     "output_type": "stream",
     "text": [
      " 44%|██████████████████████████████████▍                                           | 3128/7095 [00:55<01:01, 64.15it/s]"
     ]
    },
    {
     "name": "stdout",
     "output_type": "stream",
     "text": [
      "Image not found at path: C:\\Users\\Hp\\OneDrive\\Desktop\\Machine Learning\\Group assignment1\\SteelDetection\\train_images\\7202e52d8.jpg\n",
      "Image not found at path: C:\\Users\\Hp\\OneDrive\\Desktop\\Machine Learning\\Group assignment1\\SteelDetection\\train_images\\7210ffc2d.jpg\n",
      "Image not found at path: C:\\Users\\Hp\\OneDrive\\Desktop\\Machine Learning\\Group assignment1\\SteelDetection\\train_images\\7220aba6c.jpg\n",
      "Image not found at path: C:\\Users\\Hp\\OneDrive\\Desktop\\Machine Learning\\Group assignment1\\SteelDetection\\train_images\\7232c2ceb.jpg\n",
      "Image not found at path: C:\\Users\\Hp\\OneDrive\\Desktop\\Machine Learning\\Group assignment1\\SteelDetection\\train_images\\7242fe32c.jpg\n",
      "Image not found at path: C:\\Users\\Hp\\OneDrive\\Desktop\\Machine Learning\\Group assignment1\\SteelDetection\\train_images\\7242fe32c.jpg\n",
      "Image not found at path: C:\\Users\\Hp\\OneDrive\\Desktop\\Machine Learning\\Group assignment1\\SteelDetection\\train_images\\7249ae1f4.jpg\n",
      "Image not found at path: C:\\Users\\Hp\\OneDrive\\Desktop\\Machine Learning\\Group assignment1\\SteelDetection\\train_images\\72613a1e3.jpg\n",
      "Image not found at path: C:\\Users\\Hp\\OneDrive\\Desktop\\Machine Learning\\Group assignment1\\SteelDetection\\train_images\\726271bfe.jpg\n"
     ]
    },
    {
     "name": "stderr",
     "output_type": "stream",
     "text": [
      " 44%|██████████████████████████████████▋                                           | 3154/7095 [00:55<01:02, 63.39it/s]"
     ]
    },
    {
     "name": "stdout",
     "output_type": "stream",
     "text": [
      "Image not found at path: C:\\Users\\Hp\\OneDrive\\Desktop\\Machine Learning\\Group assignment1\\SteelDetection\\train_images\\73059a959.jpg\n",
      "Image not found at path: C:\\Users\\Hp\\OneDrive\\Desktop\\Machine Learning\\Group assignment1\\SteelDetection\\train_images\\73122f910.jpg\n",
      "Image not found at path: C:\\Users\\Hp\\OneDrive\\Desktop\\Machine Learning\\Group assignment1\\SteelDetection\\train_images\\7329b8668.jpg\n",
      "Image not found at path: C:\\Users\\Hp\\OneDrive\\Desktop\\Machine Learning\\Group assignment1\\SteelDetection\\train_images\\73303e8a0.jpg\n",
      "Image not found at path: C:\\Users\\Hp\\OneDrive\\Desktop\\Machine Learning\\Group assignment1\\SteelDetection\\train_images\\73472d296.jpg\n",
      "Image not found at path: C:\\Users\\Hp\\OneDrive\\Desktop\\Machine Learning\\Group assignment1\\SteelDetection\\train_images\\7365300fe.jpg\n",
      "Image not found at path: C:\\Users\\Hp\\OneDrive\\Desktop\\Machine Learning\\Group assignment1\\SteelDetection\\train_images\\7378f1d94.jpg\n",
      "Image not found at path: C:\\Users\\Hp\\OneDrive\\Desktop\\Machine Learning\\Group assignment1\\SteelDetection\\train_images\\738850f07.jpg\n",
      "Image not found at path: C:\\Users\\Hp\\OneDrive\\Desktop\\Machine Learning\\Group assignment1\\SteelDetection\\train_images\\7393b145f.jpg\n"
     ]
    },
    {
     "name": "stderr",
     "output_type": "stream",
     "text": [
      " 45%|███████████████████████████████████                                           | 3189/7095 [00:56<00:54, 71.34it/s]"
     ]
    },
    {
     "name": "stdout",
     "output_type": "stream",
     "text": [
      "Image not found at path: C:\\Users\\Hp\\OneDrive\\Desktop\\Machine Learning\\Group assignment1\\SteelDetection\\train_images\\7404322b0.jpg\n",
      "Image not found at path: C:\\Users\\Hp\\OneDrive\\Desktop\\Machine Learning\\Group assignment1\\SteelDetection\\train_images\\74048991c.jpg\n",
      "Image not found at path: C:\\Users\\Hp\\OneDrive\\Desktop\\Machine Learning\\Group assignment1\\SteelDetection\\train_images\\7410d4361.jpg\n",
      "Image not found at path: C:\\Users\\Hp\\OneDrive\\Desktop\\Machine Learning\\Group assignment1\\SteelDetection\\train_images\\741265573.jpg\n",
      "Image not found at path: C:\\Users\\Hp\\OneDrive\\Desktop\\Machine Learning\\Group assignment1\\SteelDetection\\train_images\\74131d9ff.jpg\n",
      "Image not found at path: C:\\Users\\Hp\\OneDrive\\Desktop\\Machine Learning\\Group assignment1\\SteelDetection\\train_images\\7420f27c9.jpg\n",
      "Image not found at path: C:\\Users\\Hp\\OneDrive\\Desktop\\Machine Learning\\Group assignment1\\SteelDetection\\train_images\\7424ab9af.jpg\n",
      "Image not found at path: C:\\Users\\Hp\\OneDrive\\Desktop\\Machine Learning\\Group assignment1\\SteelDetection\\train_images\\7435bcc25.jpg\n",
      "Image not found at path: C:\\Users\\Hp\\OneDrive\\Desktop\\Machine Learning\\Group assignment1\\SteelDetection\\train_images\\74443f387.jpg\n",
      "Image not found at path: C:\\Users\\Hp\\OneDrive\\Desktop\\Machine Learning\\Group assignment1\\SteelDetection\\train_images\\74472e481.jpg\n",
      "Image not found at path: C:\\Users\\Hp\\OneDrive\\Desktop\\Machine Learning\\Group assignment1\\SteelDetection\\train_images\\7454d922e.jpg\n",
      "Image not found at path: C:\\Users\\Hp\\OneDrive\\Desktop\\Machine Learning\\Group assignment1\\SteelDetection\\train_images\\7454d922e.jpg\n",
      "Image not found at path: C:\\Users\\Hp\\OneDrive\\Desktop\\Machine Learning\\Group assignment1\\SteelDetection\\train_images\\746417f50.jpg\n",
      "Image not found at path: C:\\Users\\Hp\\OneDrive\\Desktop\\Machine Learning\\Group assignment1\\SteelDetection\\train_images\\74661f8d7.jpg\n",
      "Image not found at path: C:\\Users\\Hp\\OneDrive\\Desktop\\Machine Learning\\Group assignment1\\SteelDetection\\train_images\\746863c8f.jpg\n",
      "Image not found at path: C:\\Users\\Hp\\OneDrive\\Desktop\\Machine Learning\\Group assignment1\\SteelDetection\\train_images\\7486d3e78.jpg\n"
     ]
    },
    {
     "name": "stderr",
     "output_type": "stream",
     "text": [
      " 45%|███████████████████████████████████▎                                          | 3208/7095 [00:56<00:58, 66.74it/s]"
     ]
    },
    {
     "name": "stdout",
     "output_type": "stream",
     "text": [
      "Image not found at path: C:\\Users\\Hp\\OneDrive\\Desktop\\Machine Learning\\Group assignment1\\SteelDetection\\train_images\\749407e33.jpg\n"
     ]
    },
    {
     "name": "stderr",
     "output_type": "stream",
     "text": [
      " 45%|███████████████████████████████████▍                                          | 3226/7095 [00:56<00:52, 74.24it/s]"
     ]
    },
    {
     "name": "stdout",
     "output_type": "stream",
     "text": [
      "Image not found at path: C:\\Users\\Hp\\OneDrive\\Desktop\\Machine Learning\\Group assignment1\\SteelDetection\\train_images\\75070e973.jpg\n",
      "Image not found at path: C:\\Users\\Hp\\OneDrive\\Desktop\\Machine Learning\\Group assignment1\\SteelDetection\\train_images\\75361926d.jpg\n",
      "Image not found at path: C:\\Users\\Hp\\OneDrive\\Desktop\\Machine Learning\\Group assignment1\\SteelDetection\\train_images\\7549c90b1.jpg\n",
      "Image not found at path: C:\\Users\\Hp\\OneDrive\\Desktop\\Machine Learning\\Group assignment1\\SteelDetection\\train_images\\756390c3a.jpg\n",
      "Image not found at path: C:\\Users\\Hp\\OneDrive\\Desktop\\Machine Learning\\Group assignment1\\SteelDetection\\train_images\\757577d91.jpg\n",
      "Image not found at path: C:\\Users\\Hp\\OneDrive\\Desktop\\Machine Learning\\Group assignment1\\SteelDetection\\train_images\\75778a6a1.jpg\n",
      "Image not found at path: C:\\Users\\Hp\\OneDrive\\Desktop\\Machine Learning\\Group assignment1\\SteelDetection\\train_images\\75785b3eb.jpg\n",
      "Image not found at path: C:\\Users\\Hp\\OneDrive\\Desktop\\Machine Learning\\Group assignment1\\SteelDetection\\train_images\\7579146ed.jpg\n",
      "Image not found at path: C:\\Users\\Hp\\OneDrive\\Desktop\\Machine Learning\\Group assignment1\\SteelDetection\\train_images\\7581cba15.jpg\n",
      "Image not found at path: C:\\Users\\Hp\\OneDrive\\Desktop\\Machine Learning\\Group assignment1\\SteelDetection\\train_images\\75878cb48.jpg\n",
      "Image not found at path: C:\\Users\\Hp\\OneDrive\\Desktop\\Machine Learning\\Group assignment1\\SteelDetection\\train_images\\759075283.jpg\n",
      "Image not found at path: C:\\Users\\Hp\\OneDrive\\Desktop\\Machine Learning\\Group assignment1\\SteelDetection\\train_images\\75970889c.jpg\n"
     ]
    },
    {
     "name": "stderr",
     "output_type": "stream",
     "text": [
      " 46%|███████████████████████████████████▊                                          | 3253/7095 [00:56<00:48, 78.99it/s]"
     ]
    },
    {
     "name": "stdout",
     "output_type": "stream",
     "text": [
      "Image not found at path: C:\\Users\\Hp\\OneDrive\\Desktop\\Machine Learning\\Group assignment1\\SteelDetection\\train_images\\7604be5f3.jpg\n",
      "Image not found at path: C:\\Users\\Hp\\OneDrive\\Desktop\\Machine Learning\\Group assignment1\\SteelDetection\\train_images\\76094e200.jpg\n",
      "Image not found at path: C:\\Users\\Hp\\OneDrive\\Desktop\\Machine Learning\\Group assignment1\\SteelDetection\\train_images\\76096b17b.jpg\n",
      "Image not found at path: C:\\Users\\Hp\\OneDrive\\Desktop\\Machine Learning\\Group assignment1\\SteelDetection\\train_images\\7612f0d6c.jpg\n",
      "Image not found at path: C:\\Users\\Hp\\OneDrive\\Desktop\\Machine Learning\\Group assignment1\\SteelDetection\\train_images\\76165cccc.jpg\n",
      "Image not found at path: C:\\Users\\Hp\\OneDrive\\Desktop\\Machine Learning\\Group assignment1\\SteelDetection\\train_images\\7620c36fb.jpg\n",
      "Image not found at path: C:\\Users\\Hp\\OneDrive\\Desktop\\Machine Learning\\Group assignment1\\SteelDetection\\train_images\\7626234a2.jpg\n",
      "Image not found at path: C:\\Users\\Hp\\OneDrive\\Desktop\\Machine Learning\\Group assignment1\\SteelDetection\\train_images\\763402396.jpg\n",
      "Image not found at path: C:\\Users\\Hp\\OneDrive\\Desktop\\Machine Learning\\Group assignment1\\SteelDetection\\train_images\\763871334.jpg\n",
      "Image not found at path: C:\\Users\\Hp\\OneDrive\\Desktop\\Machine Learning\\Group assignment1\\SteelDetection\\train_images\\7638de35f.jpg\n",
      "Image not found at path: C:\\Users\\Hp\\OneDrive\\Desktop\\Machine Learning\\Group assignment1\\SteelDetection\\train_images\\764275950.jpg\n",
      "Image not found at path: C:\\Users\\Hp\\OneDrive\\Desktop\\Machine Learning\\Group assignment1\\SteelDetection\\train_images\\76532309b.jpg\n",
      "Image not found at path: C:\\Users\\Hp\\OneDrive\\Desktop\\Machine Learning\\Group assignment1\\SteelDetection\\train_images\\765876b94.jpg\n",
      "Image not found at path: C:\\Users\\Hp\\OneDrive\\Desktop\\Machine Learning\\Group assignment1\\SteelDetection\\train_images\\766438a3b.jpg\n",
      "Image not found at path: C:\\Users\\Hp\\OneDrive\\Desktop\\Machine Learning\\Group assignment1\\SteelDetection\\train_images\\7668b7312.jpg\n"
     ]
    },
    {
     "name": "stderr",
     "output_type": "stream",
     "text": [
      " 46%|███████████████████████████████████▊                                          | 3262/7095 [00:57<00:49, 77.27it/s]"
     ]
    },
    {
     "name": "stdout",
     "output_type": "stream",
     "text": [
      "Image not found at path: C:\\Users\\Hp\\OneDrive\\Desktop\\Machine Learning\\Group assignment1\\SteelDetection\\train_images\\7690902ee.jpg\n"
     ]
    },
    {
     "name": "stderr",
     "output_type": "stream",
     "text": [
      " 46%|████████████████████████████████████                                          | 3280/7095 [00:57<00:52, 72.12it/s]"
     ]
    },
    {
     "name": "stdout",
     "output_type": "stream",
     "text": [
      "Image not found at path: C:\\Users\\Hp\\OneDrive\\Desktop\\Machine Learning\\Group assignment1\\SteelDetection\\train_images\\77064b126.jpg\n",
      "Image not found at path: C:\\Users\\Hp\\OneDrive\\Desktop\\Machine Learning\\Group assignment1\\SteelDetection\\train_images\\77343ffda.jpg\n",
      "Image not found at path: C:\\Users\\Hp\\OneDrive\\Desktop\\Machine Learning\\Group assignment1\\SteelDetection\\train_images\\773948ca6.jpg\n",
      "Image not found at path: C:\\Users\\Hp\\OneDrive\\Desktop\\Machine Learning\\Group assignment1\\SteelDetection\\train_images\\7740cc61d.jpg\n",
      "Image not found at path: C:\\Users\\Hp\\OneDrive\\Desktop\\Machine Learning\\Group assignment1\\SteelDetection\\train_images\\774400958.jpg\n",
      "Image not found at path: C:\\Users\\Hp\\OneDrive\\Desktop\\Machine Learning\\Group assignment1\\SteelDetection\\train_images\\7749df027.jpg\n",
      "Image not found at path: C:\\Users\\Hp\\OneDrive\\Desktop\\Machine Learning\\Group assignment1\\SteelDetection\\train_images\\7773445b7.jpg\n"
     ]
    },
    {
     "name": "stderr",
     "output_type": "stream",
     "text": [
      " 47%|████████████████████████████████████▎                                         | 3304/7095 [00:57<00:56, 67.04it/s]"
     ]
    },
    {
     "name": "stdout",
     "output_type": "stream",
     "text": [
      "Image not found at path: C:\\Users\\Hp\\OneDrive\\Desktop\\Machine Learning\\Group assignment1\\SteelDetection\\train_images\\78045cb2f.jpg\n",
      "Image not found at path: C:\\Users\\Hp\\OneDrive\\Desktop\\Machine Learning\\Group assignment1\\SteelDetection\\train_images\\7806aa75f.jpg\n",
      "Image not found at path: C:\\Users\\Hp\\OneDrive\\Desktop\\Machine Learning\\Group assignment1\\SteelDetection\\train_images\\781542bfc.jpg\n",
      "Image not found at path: C:\\Users\\Hp\\OneDrive\\Desktop\\Machine Learning\\Group assignment1\\SteelDetection\\train_images\\7827a1157.jpg\n",
      "Image not found at path: C:\\Users\\Hp\\OneDrive\\Desktop\\Machine Learning\\Group assignment1\\SteelDetection\\train_images\\78416c3d0.jpg\n",
      "Image not found at path: C:\\Users\\Hp\\OneDrive\\Desktop\\Machine Learning\\Group assignment1\\SteelDetection\\train_images\\7843767e9.jpg\n",
      "Image not found at path: C:\\Users\\Hp\\OneDrive\\Desktop\\Machine Learning\\Group assignment1\\SteelDetection\\train_images\\78556368f.jpg\n",
      "Image not found at path: C:\\Users\\Hp\\OneDrive\\Desktop\\Machine Learning\\Group assignment1\\SteelDetection\\train_images\\786980ab9.jpg\n",
      "Image not found at path: C:\\Users\\Hp\\OneDrive\\Desktop\\Machine Learning\\Group assignment1\\SteelDetection\\train_images\\7880bcef5.jpg\n",
      "Image not found at path: C:\\Users\\Hp\\OneDrive\\Desktop\\Machine Learning\\Group assignment1\\SteelDetection\\train_images\\78832879c.jpg\n"
     ]
    },
    {
     "name": "stderr",
     "output_type": "stream",
     "text": [
      " 47%|████████████████████████████████████▋                                         | 3334/7095 [00:58<00:49, 76.61it/s]"
     ]
    },
    {
     "name": "stdout",
     "output_type": "stream",
     "text": [
      "Image not found at path: C:\\Users\\Hp\\OneDrive\\Desktop\\Machine Learning\\Group assignment1\\SteelDetection\\train_images\\792266a85.jpg\n",
      "Image not found at path: C:\\Users\\Hp\\OneDrive\\Desktop\\Machine Learning\\Group assignment1\\SteelDetection\\train_images\\79307aa18.jpg\n",
      "Image not found at path: C:\\Users\\Hp\\OneDrive\\Desktop\\Machine Learning\\Group assignment1\\SteelDetection\\train_images\\794307d65.jpg\n",
      "Image not found at path: C:\\Users\\Hp\\OneDrive\\Desktop\\Machine Learning\\Group assignment1\\SteelDetection\\train_images\\79550304c.jpg\n",
      "Image not found at path: C:\\Users\\Hp\\OneDrive\\Desktop\\Machine Learning\\Group assignment1\\SteelDetection\\train_images\\795907727.jpg\n",
      "Image not found at path: C:\\Users\\Hp\\OneDrive\\Desktop\\Machine Learning\\Group assignment1\\SteelDetection\\train_images\\79679dd6a.jpg\n",
      "Image not found at path: C:\\Users\\Hp\\OneDrive\\Desktop\\Machine Learning\\Group assignment1\\SteelDetection\\train_images\\7970f0008.jpg\n",
      "Image not found at path: C:\\Users\\Hp\\OneDrive\\Desktop\\Machine Learning\\Group assignment1\\SteelDetection\\train_images\\7970f0008.jpg\n",
      "Image not found at path: C:\\Users\\Hp\\OneDrive\\Desktop\\Machine Learning\\Group assignment1\\SteelDetection\\train_images\\7971e089f.jpg\n",
      "Image not found at path: C:\\Users\\Hp\\OneDrive\\Desktop\\Machine Learning\\Group assignment1\\SteelDetection\\train_images\\79730ecdc.jpg\n",
      "Image not found at path: C:\\Users\\Hp\\OneDrive\\Desktop\\Machine Learning\\Group assignment1\\SteelDetection\\train_images\\7981f7773.jpg\n",
      "Image not found at path: C:\\Users\\Hp\\OneDrive\\Desktop\\Machine Learning\\Group assignment1\\SteelDetection\\train_images\\7982045ad.jpg\n",
      "Image not found at path: C:\\Users\\Hp\\OneDrive\\Desktop\\Machine Learning\\Group assignment1\\SteelDetection\\train_images\\7982045ad.jpg\n",
      "Image not found at path: C:\\Users\\Hp\\OneDrive\\Desktop\\Machine Learning\\Group assignment1\\SteelDetection\\train_images\\7998298c2.jpg\n"
     ]
    },
    {
     "name": "stderr",
     "output_type": "stream",
     "text": [
      " 50%|██████████████████████████████████████▋                                       | 3514/7095 [01:01<01:02, 57.31it/s]"
     ]
    },
    {
     "name": "stdout",
     "output_type": "stream",
     "text": [
      "Image not found at path: C:\\Users\\Hp\\OneDrive\\Desktop\\Machine Learning\\Group assignment1\\SteelDetection\\train_images\\8016e642c.jpg\n",
      "Image not found at path: C:\\Users\\Hp\\OneDrive\\Desktop\\Machine Learning\\Group assignment1\\SteelDetection\\train_images\\801887861.jpg\n",
      "Image not found at path: C:\\Users\\Hp\\OneDrive\\Desktop\\Machine Learning\\Group assignment1\\SteelDetection\\train_images\\8066b7589.jpg\n",
      "Image not found at path: C:\\Users\\Hp\\OneDrive\\Desktop\\Machine Learning\\Group assignment1\\SteelDetection\\train_images\\8066b7589.jpg\n",
      "Image not found at path: C:\\Users\\Hp\\OneDrive\\Desktop\\Machine Learning\\Group assignment1\\SteelDetection\\train_images\\8071db7b3.jpg\n",
      "Image not found at path: C:\\Users\\Hp\\OneDrive\\Desktop\\Machine Learning\\Group assignment1\\SteelDetection\\train_images\\80841e418.jpg\n",
      "Image not found at path: C:\\Users\\Hp\\OneDrive\\Desktop\\Machine Learning\\Group assignment1\\SteelDetection\\train_images\\80842d229.jpg\n",
      "Image not found at path: C:\\Users\\Hp\\OneDrive\\Desktop\\Machine Learning\\Group assignment1\\SteelDetection\\train_images\\80932154b.jpg\n"
     ]
    },
    {
     "name": "stderr",
     "output_type": "stream",
     "text": [
      " 50%|██████████████████████████████████████▉                                       | 3543/7095 [01:02<00:55, 63.48it/s]"
     ]
    },
    {
     "name": "stdout",
     "output_type": "stream",
     "text": [
      "Image not found at path: C:\\Users\\Hp\\OneDrive\\Desktop\\Machine Learning\\Group assignment1\\SteelDetection\\train_images\\81137ae8b.jpg\n",
      "Image not found at path: C:\\Users\\Hp\\OneDrive\\Desktop\\Machine Learning\\Group assignment1\\SteelDetection\\train_images\\81770ddda.jpg\n",
      "Image not found at path: C:\\Users\\Hp\\OneDrive\\Desktop\\Machine Learning\\Group assignment1\\SteelDetection\\train_images\\8177945a9.jpg\n",
      "Image not found at path: C:\\Users\\Hp\\OneDrive\\Desktop\\Machine Learning\\Group assignment1\\SteelDetection\\train_images\\81847fd11.jpg\n",
      "Image not found at path: C:\\Users\\Hp\\OneDrive\\Desktop\\Machine Learning\\Group assignment1\\SteelDetection\\train_images\\81891e821.jpg\n"
     ]
    },
    {
     "name": "stderr",
     "output_type": "stream",
     "text": [
      " 50%|███████████████████████████████████████▏                                      | 3567/7095 [01:02<00:53, 66.23it/s]"
     ]
    },
    {
     "name": "stdout",
     "output_type": "stream",
     "text": [
      "Image not found at path: C:\\Users\\Hp\\OneDrive\\Desktop\\Machine Learning\\Group assignment1\\SteelDetection\\train_images\\82168bba3.jpg\n",
      "Image not found at path: C:\\Users\\Hp\\OneDrive\\Desktop\\Machine Learning\\Group assignment1\\SteelDetection\\train_images\\823994b16.jpg\n",
      "Image not found at path: C:\\Users\\Hp\\OneDrive\\Desktop\\Machine Learning\\Group assignment1\\SteelDetection\\train_images\\8248c9b1d.jpg\n",
      "Image not found at path: C:\\Users\\Hp\\OneDrive\\Desktop\\Machine Learning\\Group assignment1\\SteelDetection\\train_images\\8248c9b1d.jpg\n",
      "Image not found at path: C:\\Users\\Hp\\OneDrive\\Desktop\\Machine Learning\\Group assignment1\\SteelDetection\\train_images\\82532a288.jpg\n",
      "Image not found at path: C:\\Users\\Hp\\OneDrive\\Desktop\\Machine Learning\\Group assignment1\\SteelDetection\\train_images\\82602cb06.jpg\n",
      "Image not found at path: C:\\Users\\Hp\\OneDrive\\Desktop\\Machine Learning\\Group assignment1\\SteelDetection\\train_images\\8266cca81.jpg\n",
      "Image not found at path: C:\\Users\\Hp\\OneDrive\\Desktop\\Machine Learning\\Group assignment1\\SteelDetection\\train_images\\8299f5460.jpg\n",
      "Image not found at path: C:\\Users\\Hp\\OneDrive\\Desktop\\Machine Learning\\Group assignment1\\SteelDetection\\train_images\\8299f5460.jpg\n"
     ]
    },
    {
     "name": "stderr",
     "output_type": "stream",
     "text": [
      " 51%|███████████████████████████████████████▌                                      | 3601/7095 [01:03<00:49, 70.45it/s]"
     ]
    },
    {
     "name": "stdout",
     "output_type": "stream",
     "text": [
      "Image not found at path: C:\\Users\\Hp\\OneDrive\\Desktop\\Machine Learning\\Group assignment1\\SteelDetection\\train_images\\8313b4e90.jpg\n",
      "Image not found at path: C:\\Users\\Hp\\OneDrive\\Desktop\\Machine Learning\\Group assignment1\\SteelDetection\\train_images\\83298d267.jpg\n",
      "Image not found at path: C:\\Users\\Hp\\OneDrive\\Desktop\\Machine Learning\\Group assignment1\\SteelDetection\\train_images\\833433e81.jpg\n",
      "Image not found at path: C:\\Users\\Hp\\OneDrive\\Desktop\\Machine Learning\\Group assignment1\\SteelDetection\\train_images\\8344ef24d.jpg\n",
      "Image not found at path: C:\\Users\\Hp\\OneDrive\\Desktop\\Machine Learning\\Group assignment1\\SteelDetection\\train_images\\8345249a8.jpg\n",
      "Image not found at path: C:\\Users\\Hp\\OneDrive\\Desktop\\Machine Learning\\Group assignment1\\SteelDetection\\train_images\\83476e834.jpg\n",
      "Image not found at path: C:\\Users\\Hp\\OneDrive\\Desktop\\Machine Learning\\Group assignment1\\SteelDetection\\train_images\\8355a5249.jpg\n",
      "Image not found at path: C:\\Users\\Hp\\OneDrive\\Desktop\\Machine Learning\\Group assignment1\\SteelDetection\\train_images\\8364a4654.jpg\n",
      "Image not found at path: C:\\Users\\Hp\\OneDrive\\Desktop\\Machine Learning\\Group assignment1\\SteelDetection\\train_images\\8364cd311.jpg\n",
      "Image not found at path: C:\\Users\\Hp\\OneDrive\\Desktop\\Machine Learning\\Group assignment1\\SteelDetection\\train_images\\8366824fe.jpg\n",
      "Image not found at path: C:\\Users\\Hp\\OneDrive\\Desktop\\Machine Learning\\Group assignment1\\SteelDetection\\train_images\\837645cf1.jpg\n",
      "Image not found at path: C:\\Users\\Hp\\OneDrive\\Desktop\\Machine Learning\\Group assignment1\\SteelDetection\\train_images\\838135ec4.jpg\n",
      "Image not found at path: C:\\Users\\Hp\\OneDrive\\Desktop\\Machine Learning\\Group assignment1\\SteelDetection\\train_images\\838135ec4.jpg\n",
      "Image not found at path: C:\\Users\\Hp\\OneDrive\\Desktop\\Machine Learning\\Group assignment1\\SteelDetection\\train_images\\8399a4300.jpg\n"
     ]
    },
    {
     "name": "stderr",
     "output_type": "stream",
     "text": [
      " 51%|███████████████████████████████████████▉                                      | 3633/7095 [01:03<00:51, 66.62it/s]"
     ]
    },
    {
     "name": "stdout",
     "output_type": "stream",
     "text": [
      "Image not found at path: C:\\Users\\Hp\\OneDrive\\Desktop\\Machine Learning\\Group assignment1\\SteelDetection\\train_images\\8417eb22d.jpg\n",
      "Image not found at path: C:\\Users\\Hp\\OneDrive\\Desktop\\Machine Learning\\Group assignment1\\SteelDetection\\train_images\\84232105a.jpg\n",
      "Image not found at path: C:\\Users\\Hp\\OneDrive\\Desktop\\Machine Learning\\Group assignment1\\SteelDetection\\train_images\\8445de2d9.jpg\n",
      "Image not found at path: C:\\Users\\Hp\\OneDrive\\Desktop\\Machine Learning\\Group assignment1\\SteelDetection\\train_images\\845935465.jpg\n",
      "Image not found at path: C:\\Users\\Hp\\OneDrive\\Desktop\\Machine Learning\\Group assignment1\\SteelDetection\\train_images\\846788254.jpg\n"
     ]
    },
    {
     "name": "stderr",
     "output_type": "stream",
     "text": [
      " 51%|████████████████████████████████████████                                      | 3641/7095 [01:03<00:49, 69.83it/s]"
     ]
    },
    {
     "name": "stdout",
     "output_type": "stream",
     "text": [
      "Image not found at path: C:\\Users\\Hp\\OneDrive\\Desktop\\Machine Learning\\Group assignment1\\SteelDetection\\train_images\\8478415cf.jpg\n",
      "Image not found at path: C:\\Users\\Hp\\OneDrive\\Desktop\\Machine Learning\\Group assignment1\\SteelDetection\\train_images\\8484468e0.jpg\n",
      "Image not found at path: C:\\Users\\Hp\\OneDrive\\Desktop\\Machine Learning\\Group assignment1\\SteelDetection\\train_images\\84865746c.jpg\n",
      "Image not found at path: C:\\Users\\Hp\\OneDrive\\Desktop\\Machine Learning\\Group assignment1\\SteelDetection\\train_images\\84865746c.jpg\n",
      "Image not found at path: C:\\Users\\Hp\\OneDrive\\Desktop\\Machine Learning\\Group assignment1\\SteelDetection\\train_images\\848713301.jpg\n"
     ]
    },
    {
     "name": "stderr",
     "output_type": "stream",
     "text": [
      " 52%|████████████████████████████████████████▎                                     | 3667/7095 [01:04<00:47, 71.49it/s]"
     ]
    },
    {
     "name": "stdout",
     "output_type": "stream",
     "text": [
      "Image not found at path: C:\\Users\\Hp\\OneDrive\\Desktop\\Machine Learning\\Group assignment1\\SteelDetection\\train_images\\850058ea8.jpg\n",
      "Image not found at path: C:\\Users\\Hp\\OneDrive\\Desktop\\Machine Learning\\Group assignment1\\SteelDetection\\train_images\\85107deb3.jpg\n",
      "Image not found at path: C:\\Users\\Hp\\OneDrive\\Desktop\\Machine Learning\\Group assignment1\\SteelDetection\\train_images\\8516fcc92.jpg\n",
      "Image not found at path: C:\\Users\\Hp\\OneDrive\\Desktop\\Machine Learning\\Group assignment1\\SteelDetection\\train_images\\8527d0b55.jpg\n",
      "Image not found at path: C:\\Users\\Hp\\OneDrive\\Desktop\\Machine Learning\\Group assignment1\\SteelDetection\\train_images\\8527d0b55.jpg\n",
      "Image not found at path: C:\\Users\\Hp\\OneDrive\\Desktop\\Machine Learning\\Group assignment1\\SteelDetection\\train_images\\85294cff9.jpg\n",
      "Image not found at path: C:\\Users\\Hp\\OneDrive\\Desktop\\Machine Learning\\Group assignment1\\SteelDetection\\train_images\\85294cff9.jpg\n",
      "Image not found at path: C:\\Users\\Hp\\OneDrive\\Desktop\\Machine Learning\\Group assignment1\\SteelDetection\\train_images\\8540353ea.jpg\n",
      "Image not found at path: C:\\Users\\Hp\\OneDrive\\Desktop\\Machine Learning\\Group assignment1\\SteelDetection\\train_images\\8562a95b4.jpg\n",
      "Image not found at path: C:\\Users\\Hp\\OneDrive\\Desktop\\Machine Learning\\Group assignment1\\SteelDetection\\train_images\\857400707.jpg\n",
      "Image not found at path: C:\\Users\\Hp\\OneDrive\\Desktop\\Machine Learning\\Group assignment1\\SteelDetection\\train_images\\858213368.jpg\n"
     ]
    },
    {
     "name": "stderr",
     "output_type": "stream",
     "text": [
      " 52%|████████████████████████████████████████▌                                     | 3684/7095 [01:04<00:47, 72.39it/s]"
     ]
    },
    {
     "name": "stdout",
     "output_type": "stream",
     "text": [
      "Image not found at path: C:\\Users\\Hp\\OneDrive\\Desktop\\Machine Learning\\Group assignment1\\SteelDetection\\train_images\\8600decb6.jpg\n",
      "Image not found at path: C:\\Users\\Hp\\OneDrive\\Desktop\\Machine Learning\\Group assignment1\\SteelDetection\\train_images\\86063fcba.jpg\n",
      "Image not found at path: C:\\Users\\Hp\\OneDrive\\Desktop\\Machine Learning\\Group assignment1\\SteelDetection\\train_images\\8611deb61.jpg\n",
      "Image not found at path: C:\\Users\\Hp\\OneDrive\\Desktop\\Machine Learning\\Group assignment1\\SteelDetection\\train_images\\86217c4ba.jpg\n",
      "Image not found at path: C:\\Users\\Hp\\OneDrive\\Desktop\\Machine Learning\\Group assignment1\\SteelDetection\\train_images\\86226216f.jpg\n",
      "Image not found at path: C:\\Users\\Hp\\OneDrive\\Desktop\\Machine Learning\\Group assignment1\\SteelDetection\\train_images\\863868ed4.jpg\n",
      "Image not found at path: C:\\Users\\Hp\\OneDrive\\Desktop\\Machine Learning\\Group assignment1\\SteelDetection\\train_images\\8645f73f1.jpg\n",
      "Image not found at path: C:\\Users\\Hp\\OneDrive\\Desktop\\Machine Learning\\Group assignment1\\SteelDetection\\train_images\\8648b2010.jpg\n",
      "Image not found at path: C:\\Users\\Hp\\OneDrive\\Desktop\\Machine Learning\\Group assignment1\\SteelDetection\\train_images\\8651a4a06.jpg\n",
      "Image not found at path: C:\\Users\\Hp\\OneDrive\\Desktop\\Machine Learning\\Group assignment1\\SteelDetection\\train_images\\865574894.jpg\n",
      "Image not found at path: C:\\Users\\Hp\\OneDrive\\Desktop\\Machine Learning\\Group assignment1\\SteelDetection\\train_images\\86654180d.jpg\n"
     ]
    },
    {
     "name": "stderr",
     "output_type": "stream",
     "text": [
      " 52%|████████████████████████████████████████▋                                     | 3705/7095 [01:04<00:46, 72.75it/s]"
     ]
    },
    {
     "name": "stdout",
     "output_type": "stream",
     "text": [
      "Image not found at path: C:\\Users\\Hp\\OneDrive\\Desktop\\Machine Learning\\Group assignment1\\SteelDetection\\train_images\\86752d23a.jpg\n",
      "Image not found at path: C:\\Users\\Hp\\OneDrive\\Desktop\\Machine Learning\\Group assignment1\\SteelDetection\\train_images\\86756300d.jpg\n",
      "Image not found at path: C:\\Users\\Hp\\OneDrive\\Desktop\\Machine Learning\\Group assignment1\\SteelDetection\\train_images\\867572f1e.jpg\n",
      "Image not found at path: C:\\Users\\Hp\\OneDrive\\Desktop\\Machine Learning\\Group assignment1\\SteelDetection\\train_images\\8677c19e6.jpg\n",
      "Image not found at path: C:\\Users\\Hp\\OneDrive\\Desktop\\Machine Learning\\Group assignment1\\SteelDetection\\train_images\\868759698.jpg\n",
      "Image not found at path: C:\\Users\\Hp\\OneDrive\\Desktop\\Machine Learning\\Group assignment1\\SteelDetection\\train_images\\869055892.jpg\n"
     ]
    },
    {
     "name": "stderr",
     "output_type": "stream",
     "text": [
      " 52%|████████████████████████████████████████▉                                     | 3721/7095 [01:05<00:51, 65.05it/s]"
     ]
    },
    {
     "name": "stdout",
     "output_type": "stream",
     "text": [
      "Image not found at path: C:\\Users\\Hp\\OneDrive\\Desktop\\Machine Learning\\Group assignment1\\SteelDetection\\train_images\\8709ea899.jpg\n",
      "Image not found at path: C:\\Users\\Hp\\OneDrive\\Desktop\\Machine Learning\\Group assignment1\\SteelDetection\\train_images\\87106dfdb.jpg\n",
      "Image not found at path: C:\\Users\\Hp\\OneDrive\\Desktop\\Machine Learning\\Group assignment1\\SteelDetection\\train_images\\8726206f5.jpg\n",
      "Image not found at path: C:\\Users\\Hp\\OneDrive\\Desktop\\Machine Learning\\Group assignment1\\SteelDetection\\train_images\\875612422.jpg\n",
      "Image not found at path: C:\\Users\\Hp\\OneDrive\\Desktop\\Machine Learning\\Group assignment1\\SteelDetection\\train_images\\87754d760.jpg\n",
      "Image not found at path: C:\\Users\\Hp\\OneDrive\\Desktop\\Machine Learning\\Group assignment1\\SteelDetection\\train_images\\87754d760.jpg\n",
      "Image not found at path: C:\\Users\\Hp\\OneDrive\\Desktop\\Machine Learning\\Group assignment1\\SteelDetection\\train_images\\878824b35.jpg\n"
     ]
    },
    {
     "name": "stderr",
     "output_type": "stream",
     "text": [
      " 53%|█████████████████████████████████████████▏                                    | 3745/7095 [01:05<00:50, 66.28it/s]"
     ]
    },
    {
     "name": "stdout",
     "output_type": "stream",
     "text": [
      "Image not found at path: C:\\Users\\Hp\\OneDrive\\Desktop\\Machine Learning\\Group assignment1\\SteelDetection\\train_images\\8821b2e2c.jpg\n",
      "Image not found at path: C:\\Users\\Hp\\OneDrive\\Desktop\\Machine Learning\\Group assignment1\\SteelDetection\\train_images\\8827d2bd3.jpg\n",
      "Image not found at path: C:\\Users\\Hp\\OneDrive\\Desktop\\Machine Learning\\Group assignment1\\SteelDetection\\train_images\\88365b4b0.jpg\n",
      "Image not found at path: C:\\Users\\Hp\\OneDrive\\Desktop\\Machine Learning\\Group assignment1\\SteelDetection\\train_images\\8847458a0.jpg\n",
      "Image not found at path: C:\\Users\\Hp\\OneDrive\\Desktop\\Machine Learning\\Group assignment1\\SteelDetection\\train_images\\88646d398.jpg\n",
      "Image not found at path: C:\\Users\\Hp\\OneDrive\\Desktop\\Machine Learning\\Group assignment1\\SteelDetection\\train_images\\8866a93f6.jpg\n",
      "Image not found at path: C:\\Users\\Hp\\OneDrive\\Desktop\\Machine Learning\\Group assignment1\\SteelDetection\\train_images\\8872fe6db.jpg\n",
      "Image not found at path: C:\\Users\\Hp\\OneDrive\\Desktop\\Machine Learning\\Group assignment1\\SteelDetection\\train_images\\8886a8a54.jpg\n",
      "Image not found at path: C:\\Users\\Hp\\OneDrive\\Desktop\\Machine Learning\\Group assignment1\\SteelDetection\\train_images\\889454305.jpg\n",
      "Image not found at path: C:\\Users\\Hp\\OneDrive\\Desktop\\Machine Learning\\Group assignment1\\SteelDetection\\train_images\\8898932bd.jpg\n",
      "Image not found at path: C:\\Users\\Hp\\OneDrive\\Desktop\\Machine Learning\\Group assignment1\\SteelDetection\\train_images\\8898932bd.jpg\n"
     ]
    },
    {
     "name": "stderr",
     "output_type": "stream",
     "text": [
      " 53%|█████████████████████████████████████████▍                                    | 3766/7095 [01:05<00:43, 76.90it/s]"
     ]
    },
    {
     "name": "stdout",
     "output_type": "stream",
     "text": [
      "Image not found at path: C:\\Users\\Hp\\OneDrive\\Desktop\\Machine Learning\\Group assignment1\\SteelDetection\\train_images\\89087f994.jpg\n",
      "Image not found at path: C:\\Users\\Hp\\OneDrive\\Desktop\\Machine Learning\\Group assignment1\\SteelDetection\\train_images\\89158744a.jpg\n",
      "Image not found at path: C:\\Users\\Hp\\OneDrive\\Desktop\\Machine Learning\\Group assignment1\\SteelDetection\\train_images\\89158744a.jpg\n",
      "Image not found at path: C:\\Users\\Hp\\OneDrive\\Desktop\\Machine Learning\\Group assignment1\\SteelDetection\\train_images\\891837278.jpg\n",
      "Image not found at path: C:\\Users\\Hp\\OneDrive\\Desktop\\Machine Learning\\Group assignment1\\SteelDetection\\train_images\\892321605.jpg\n",
      "Image not found at path: C:\\Users\\Hp\\OneDrive\\Desktop\\Machine Learning\\Group assignment1\\SteelDetection\\train_images\\892582cf9.jpg\n",
      "Image not found at path: C:\\Users\\Hp\\OneDrive\\Desktop\\Machine Learning\\Group assignment1\\SteelDetection\\train_images\\89332ba01.jpg\n",
      "Image not found at path: C:\\Users\\Hp\\OneDrive\\Desktop\\Machine Learning\\Group assignment1\\SteelDetection\\train_images\\8957f8d0e.jpg\n",
      "Image not found at path: C:\\Users\\Hp\\OneDrive\\Desktop\\Machine Learning\\Group assignment1\\SteelDetection\\train_images\\89737dc96.jpg\n",
      "Image not found at path: C:\\Users\\Hp\\OneDrive\\Desktop\\Machine Learning\\Group assignment1\\SteelDetection\\train_images\\8981c24c8.jpg\n",
      "Image not found at path: C:\\Users\\Hp\\OneDrive\\Desktop\\Machine Learning\\Group assignment1\\SteelDetection\\train_images\\8991e4a44.jpg\n"
     ]
    },
    {
     "name": "stderr",
     "output_type": "stream",
     "text": [
      " 56%|███████████████████████████████████████████▊                                  | 3983/7095 [01:10<00:44, 69.64it/s]"
     ]
    },
    {
     "name": "stdout",
     "output_type": "stream",
     "text": [
      "Image not found at path: C:\\Users\\Hp\\OneDrive\\Desktop\\Machine Learning\\Group assignment1\\SteelDetection\\train_images\\9019c0e1e.jpg\n",
      "Image not found at path: C:\\Users\\Hp\\OneDrive\\Desktop\\Machine Learning\\Group assignment1\\SteelDetection\\train_images\\90246e919.jpg\n",
      "Image not found at path: C:\\Users\\Hp\\OneDrive\\Desktop\\Machine Learning\\Group assignment1\\SteelDetection\\train_images\\9027291e8.jpg\n",
      "Image not found at path: C:\\Users\\Hp\\OneDrive\\Desktop\\Machine Learning\\Group assignment1\\SteelDetection\\train_images\\9028ff68e.jpg\n",
      "Image not found at path: C:\\Users\\Hp\\OneDrive\\Desktop\\Machine Learning\\Group assignment1\\SteelDetection\\train_images\\904584541.jpg\n",
      "Image not found at path: C:\\Users\\Hp\\OneDrive\\Desktop\\Machine Learning\\Group assignment1\\SteelDetection\\train_images\\904677cea.jpg\n",
      "Image not found at path: C:\\Users\\Hp\\OneDrive\\Desktop\\Machine Learning\\Group assignment1\\SteelDetection\\train_images\\904677cea.jpg\n",
      "Image not found at path: C:\\Users\\Hp\\OneDrive\\Desktop\\Machine Learning\\Group assignment1\\SteelDetection\\train_images\\905328741.jpg\n",
      "Image not found at path: C:\\Users\\Hp\\OneDrive\\Desktop\\Machine Learning\\Group assignment1\\SteelDetection\\train_images\\905404a9e.jpg\n",
      "Image not found at path: C:\\Users\\Hp\\OneDrive\\Desktop\\Machine Learning\\Group assignment1\\SteelDetection\\train_images\\905964016.jpg\n",
      "Image not found at path: C:\\Users\\Hp\\OneDrive\\Desktop\\Machine Learning\\Group assignment1\\SteelDetection\\train_images\\9078fb095.jpg\n",
      "Image not found at path: C:\\Users\\Hp\\OneDrive\\Desktop\\Machine Learning\\Group assignment1\\SteelDetection\\train_images\\9085aef37.jpg\n",
      "Image not found at path: C:\\Users\\Hp\\OneDrive\\Desktop\\Machine Learning\\Group assignment1\\SteelDetection\\train_images\\9087518f1.jpg\n"
     ]
    },
    {
     "name": "stderr",
     "output_type": "stream",
     "text": [
      " 56%|███████████████████████████████████████████▉                                  | 3998/7095 [01:10<00:44, 68.98it/s]"
     ]
    },
    {
     "name": "stdout",
     "output_type": "stream",
     "text": [
      "Image not found at path: C:\\Users\\Hp\\OneDrive\\Desktop\\Machine Learning\\Group assignment1\\SteelDetection\\train_images\\910127691.jpg\n",
      "Image not found at path: C:\\Users\\Hp\\OneDrive\\Desktop\\Machine Learning\\Group assignment1\\SteelDetection\\train_images\\910540b7d.jpg\n",
      "Image not found at path: C:\\Users\\Hp\\OneDrive\\Desktop\\Machine Learning\\Group assignment1\\SteelDetection\\train_images\\9121da7fe.jpg\n",
      "Image not found at path: C:\\Users\\Hp\\OneDrive\\Desktop\\Machine Learning\\Group assignment1\\SteelDetection\\train_images\\91222b4c9.jpg\n",
      "Image not found at path: C:\\Users\\Hp\\OneDrive\\Desktop\\Machine Learning\\Group assignment1\\SteelDetection\\train_images\\9147356db.jpg\n",
      "Image not found at path: C:\\Users\\Hp\\OneDrive\\Desktop\\Machine Learning\\Group assignment1\\SteelDetection\\train_images\\91478a2fb.jpg\n",
      "Image not found at path: C:\\Users\\Hp\\OneDrive\\Desktop\\Machine Learning\\Group assignment1\\SteelDetection\\train_images\\9150a0950.jpg\n",
      "Image not found at path: C:\\Users\\Hp\\OneDrive\\Desktop\\Machine Learning\\Group assignment1\\SteelDetection\\train_images\\91583d282.jpg\n",
      "Image not found at path: C:\\Users\\Hp\\OneDrive\\Desktop\\Machine Learning\\Group assignment1\\SteelDetection\\train_images\\9163ec76b.jpg\n",
      "Image not found at path: C:\\Users\\Hp\\OneDrive\\Desktop\\Machine Learning\\Group assignment1\\SteelDetection\\train_images\\91649dea7.jpg\n",
      "Image not found at path: C:\\Users\\Hp\\OneDrive\\Desktop\\Machine Learning\\Group assignment1\\SteelDetection\\train_images\\91696aaca.jpg\n",
      "Image not found at path: C:\\Users\\Hp\\OneDrive\\Desktop\\Machine Learning\\Group assignment1\\SteelDetection\\train_images\\91696aaca.jpg\n",
      "Image not found at path: C:\\Users\\Hp\\OneDrive\\Desktop\\Machine Learning\\Group assignment1\\SteelDetection\\train_images\\9169b4f3a.jpg\n",
      "Image not found at path: C:\\Users\\Hp\\OneDrive\\Desktop\\Machine Learning\\Group assignment1\\SteelDetection\\train_images\\9170e3614.jpg\n",
      "Image not found at path: C:\\Users\\Hp\\OneDrive\\Desktop\\Machine Learning\\Group assignment1\\SteelDetection\\train_images\\917607322.jpg\n"
     ]
    },
    {
     "name": "stderr",
     "output_type": "stream",
     "text": [
      " 57%|████████████████████████████████████████████▎                                 | 4033/7095 [01:10<00:35, 86.61it/s]"
     ]
    },
    {
     "name": "stdout",
     "output_type": "stream",
     "text": [
      "Image not found at path: C:\\Users\\Hp\\OneDrive\\Desktop\\Machine Learning\\Group assignment1\\SteelDetection\\train_images\\9202ebeb6.jpg\n",
      "Image not found at path: C:\\Users\\Hp\\OneDrive\\Desktop\\Machine Learning\\Group assignment1\\SteelDetection\\train_images\\92057aa8a.jpg\n",
      "Image not found at path: C:\\Users\\Hp\\OneDrive\\Desktop\\Machine Learning\\Group assignment1\\SteelDetection\\train_images\\922939d64.jpg\n",
      "Image not found at path: C:\\Users\\Hp\\OneDrive\\Desktop\\Machine Learning\\Group assignment1\\SteelDetection\\train_images\\9236b3124.jpg\n",
      "Image not found at path: C:\\Users\\Hp\\OneDrive\\Desktop\\Machine Learning\\Group assignment1\\SteelDetection\\train_images\\9236f984c.jpg\n",
      "Image not found at path: C:\\Users\\Hp\\OneDrive\\Desktop\\Machine Learning\\Group assignment1\\SteelDetection\\train_images\\9252073f0.jpg\n",
      "Image not found at path: C:\\Users\\Hp\\OneDrive\\Desktop\\Machine Learning\\Group assignment1\\SteelDetection\\train_images\\9253b216e.jpg\n",
      "Image not found at path: C:\\Users\\Hp\\OneDrive\\Desktop\\Machine Learning\\Group assignment1\\SteelDetection\\train_images\\9270f72ac.jpg\n",
      "Image not found at path: C:\\Users\\Hp\\OneDrive\\Desktop\\Machine Learning\\Group assignment1\\SteelDetection\\train_images\\927100ebb.jpg\n",
      "Image not found at path: C:\\Users\\Hp\\OneDrive\\Desktop\\Machine Learning\\Group assignment1\\SteelDetection\\train_images\\9271c7e3d.jpg\n",
      "Image not found at path: C:\\Users\\Hp\\OneDrive\\Desktop\\Machine Learning\\Group assignment1\\SteelDetection\\train_images\\9278ab6ba.jpg\n",
      "Image not found at path: C:\\Users\\Hp\\OneDrive\\Desktop\\Machine Learning\\Group assignment1\\SteelDetection\\train_images\\92932546c.jpg\n",
      "Image not found at path: C:\\Users\\Hp\\OneDrive\\Desktop\\Machine Learning\\Group assignment1\\SteelDetection\\train_images\\92932546c.jpg\n",
      "Image not found at path: C:\\Users\\Hp\\OneDrive\\Desktop\\Machine Learning\\Group assignment1\\SteelDetection\\train_images\\9296c86e5.jpg\n"
     ]
    },
    {
     "name": "stderr",
     "output_type": "stream",
     "text": [
      " 57%|████████████████████████████████████████████▌                                 | 4051/7095 [01:11<00:39, 76.70it/s]"
     ]
    },
    {
     "name": "stdout",
     "output_type": "stream",
     "text": [
      "Image not found at path: C:\\Users\\Hp\\OneDrive\\Desktop\\Machine Learning\\Group assignment1\\SteelDetection\\train_images\\930391b64.jpg\n",
      "Image not found at path: C:\\Users\\Hp\\OneDrive\\Desktop\\Machine Learning\\Group assignment1\\SteelDetection\\train_images\\9307b3de8.jpg\n",
      "Image not found at path: C:\\Users\\Hp\\OneDrive\\Desktop\\Machine Learning\\Group assignment1\\SteelDetection\\train_images\\93126606c.jpg\n",
      "Image not found at path: C:\\Users\\Hp\\OneDrive\\Desktop\\Machine Learning\\Group assignment1\\SteelDetection\\train_images\\9323bd21d.jpg\n",
      "Image not found at path: C:\\Users\\Hp\\OneDrive\\Desktop\\Machine Learning\\Group assignment1\\SteelDetection\\train_images\\933533867.jpg\n",
      "Image not found at path: C:\\Users\\Hp\\OneDrive\\Desktop\\Machine Learning\\Group assignment1\\SteelDetection\\train_images\\933675d91.jpg\n",
      "Image not found at path: C:\\Users\\Hp\\OneDrive\\Desktop\\Machine Learning\\Group assignment1\\SteelDetection\\train_images\\9341d848d.jpg\n",
      "Image not found at path: C:\\Users\\Hp\\OneDrive\\Desktop\\Machine Learning\\Group assignment1\\SteelDetection\\train_images\\9345f1250.jpg\n",
      "Image not found at path: C:\\Users\\Hp\\OneDrive\\Desktop\\Machine Learning\\Group assignment1\\SteelDetection\\train_images\\9347e65bb.jpg\n",
      "Image not found at path: C:\\Users\\Hp\\OneDrive\\Desktop\\Machine Learning\\Group assignment1\\SteelDetection\\train_images\\935654dc9.jpg\n",
      "Image not found at path: C:\\Users\\Hp\\OneDrive\\Desktop\\Machine Learning\\Group assignment1\\SteelDetection\\train_images\\93775b19c.jpg\n",
      "Image not found at path: C:\\Users\\Hp\\OneDrive\\Desktop\\Machine Learning\\Group assignment1\\SteelDetection\\train_images\\9378a6f12.jpg\n",
      "Image not found at path: C:\\Users\\Hp\\OneDrive\\Desktop\\Machine Learning\\Group assignment1\\SteelDetection\\train_images\\9384459df.jpg\n",
      "Image not found at path: C:\\Users\\Hp\\OneDrive\\Desktop\\Machine Learning\\Group assignment1\\SteelDetection\\train_images\\93851869f.jpg\n"
     ]
    },
    {
     "name": "stderr",
     "output_type": "stream",
     "text": [
      " 58%|████████████████████████████████████████████▊                                 | 4081/7095 [01:11<00:39, 76.91it/s]"
     ]
    },
    {
     "name": "stdout",
     "output_type": "stream",
     "text": [
      "Image not found at path: C:\\Users\\Hp\\OneDrive\\Desktop\\Machine Learning\\Group assignment1\\SteelDetection\\train_images\\94050efd8.jpg\n",
      "Image not found at path: C:\\Users\\Hp\\OneDrive\\Desktop\\Machine Learning\\Group assignment1\\SteelDetection\\train_images\\9406cb49a.jpg\n",
      "Image not found at path: C:\\Users\\Hp\\OneDrive\\Desktop\\Machine Learning\\Group assignment1\\SteelDetection\\train_images\\9412c0cf6.jpg\n",
      "Image not found at path: C:\\Users\\Hp\\OneDrive\\Desktop\\Machine Learning\\Group assignment1\\SteelDetection\\train_images\\9424f9664.jpg\n",
      "Image not found at path: C:\\Users\\Hp\\OneDrive\\Desktop\\Machine Learning\\Group assignment1\\SteelDetection\\train_images\\9426ce32a.jpg\n",
      "Image not found at path: C:\\Users\\Hp\\OneDrive\\Desktop\\Machine Learning\\Group assignment1\\SteelDetection\\train_images\\94305429d.jpg\n",
      "Image not found at path: C:\\Users\\Hp\\OneDrive\\Desktop\\Machine Learning\\Group assignment1\\SteelDetection\\train_images\\9438d5eef.jpg\n",
      "Image not found at path: C:\\Users\\Hp\\OneDrive\\Desktop\\Machine Learning\\Group assignment1\\SteelDetection\\train_images\\946227d6c.jpg\n",
      "Image not found at path: C:\\Users\\Hp\\OneDrive\\Desktop\\Machine Learning\\Group assignment1\\SteelDetection\\train_images\\94625a99c.jpg\n",
      "Image not found at path: C:\\Users\\Hp\\OneDrive\\Desktop\\Machine Learning\\Group assignment1\\SteelDetection\\train_images\\946525536.jpg\n",
      "Image not found at path: C:\\Users\\Hp\\OneDrive\\Desktop\\Machine Learning\\Group assignment1\\SteelDetection\\train_images\\94753d945.jpg\n",
      "Image not found at path: C:\\Users\\Hp\\OneDrive\\Desktop\\Machine Learning\\Group assignment1\\SteelDetection\\train_images\\94882163b.jpg\n",
      "Image not found at path: C:\\Users\\Hp\\OneDrive\\Desktop\\Machine Learning\\Group assignment1\\SteelDetection\\train_images\\94947e1f9.jpg\n",
      "Image not found at path: C:\\Users\\Hp\\OneDrive\\Desktop\\Machine Learning\\Group assignment1\\SteelDetection\\train_images\\9496c7b73.jpg\n"
     ]
    },
    {
     "name": "stderr",
     "output_type": "stream",
     "text": [
      " 58%|█████████████████████████████████████████████▎                                | 4118/7095 [01:11<00:39, 75.28it/s]"
     ]
    },
    {
     "name": "stdout",
     "output_type": "stream",
     "text": [
      "Image not found at path: C:\\Users\\Hp\\OneDrive\\Desktop\\Machine Learning\\Group assignment1\\SteelDetection\\train_images\\9515afade.jpg\n",
      "Image not found at path: C:\\Users\\Hp\\OneDrive\\Desktop\\Machine Learning\\Group assignment1\\SteelDetection\\train_images\\9531c4b99.jpg\n",
      "Image not found at path: C:\\Users\\Hp\\OneDrive\\Desktop\\Machine Learning\\Group assignment1\\SteelDetection\\train_images\\9546b5abe.jpg\n",
      "Image not found at path: C:\\Users\\Hp\\OneDrive\\Desktop\\Machine Learning\\Group assignment1\\SteelDetection\\train_images\\9553974f4.jpg\n",
      "Image not found at path: C:\\Users\\Hp\\OneDrive\\Desktop\\Machine Learning\\Group assignment1\\SteelDetection\\train_images\\9557969ee.jpg\n",
      "Image not found at path: C:\\Users\\Hp\\OneDrive\\Desktop\\Machine Learning\\Group assignment1\\SteelDetection\\train_images\\9570a27f4.jpg\n",
      "Image not found at path: C:\\Users\\Hp\\OneDrive\\Desktop\\Machine Learning\\Group assignment1\\SteelDetection\\train_images\\9574104d6.jpg\n",
      "Image not found at path: C:\\Users\\Hp\\OneDrive\\Desktop\\Machine Learning\\Group assignment1\\SteelDetection\\train_images\\9586cb6e3.jpg\n",
      "Image not found at path: C:\\Users\\Hp\\OneDrive\\Desktop\\Machine Learning\\Group assignment1\\SteelDetection\\train_images\\9589d49ee.jpg\n",
      "Image not found at path: C:\\Users\\Hp\\OneDrive\\Desktop\\Machine Learning\\Group assignment1\\SteelDetection\\train_images\\959218299.jpg\n"
     ]
    },
    {
     "name": "stderr",
     "output_type": "stream",
     "text": [
      " 58%|█████████████████████████████████████████████▍                                | 4134/7095 [01:12<00:40, 73.84it/s]"
     ]
    },
    {
     "name": "stdout",
     "output_type": "stream",
     "text": [
      "Image not found at path: C:\\Users\\Hp\\OneDrive\\Desktop\\Machine Learning\\Group assignment1\\SteelDetection\\train_images\\9612cf3ee.jpg\n",
      "Image not found at path: C:\\Users\\Hp\\OneDrive\\Desktop\\Machine Learning\\Group assignment1\\SteelDetection\\train_images\\9612e2ee3.jpg\n",
      "Image not found at path: C:\\Users\\Hp\\OneDrive\\Desktop\\Machine Learning\\Group assignment1\\SteelDetection\\train_images\\961333d4e.jpg\n",
      "Image not found at path: C:\\Users\\Hp\\OneDrive\\Desktop\\Machine Learning\\Group assignment1\\SteelDetection\\train_images\\9622959c1.jpg\n",
      "Image not found at path: C:\\Users\\Hp\\OneDrive\\Desktop\\Machine Learning\\Group assignment1\\SteelDetection\\train_images\\96279bbc2.jpg\n",
      "Image not found at path: C:\\Users\\Hp\\OneDrive\\Desktop\\Machine Learning\\Group assignment1\\SteelDetection\\train_images\\96299c17c.jpg\n",
      "Image not found at path: C:\\Users\\Hp\\OneDrive\\Desktop\\Machine Learning\\Group assignment1\\SteelDetection\\train_images\\9661e7677.jpg\n",
      "Image not found at path: C:\\Users\\Hp\\OneDrive\\Desktop\\Machine Learning\\Group assignment1\\SteelDetection\\train_images\\9663d6a79.jpg\n",
      "Image not found at path: C:\\Users\\Hp\\OneDrive\\Desktop\\Machine Learning\\Group assignment1\\SteelDetection\\train_images\\967802d76.jpg\n",
      "Image not found at path: C:\\Users\\Hp\\OneDrive\\Desktop\\Machine Learning\\Group assignment1\\SteelDetection\\train_images\\968701cce.jpg\n",
      "Image not found at path: C:\\Users\\Hp\\OneDrive\\Desktop\\Machine Learning\\Group assignment1\\SteelDetection\\train_images\\9699f82fe.jpg\n"
     ]
    },
    {
     "name": "stderr",
     "output_type": "stream",
     "text": [
      " 59%|█████████████████████████████████████████████▋                                | 4154/7095 [01:12<00:35, 83.01it/s]"
     ]
    },
    {
     "name": "stdout",
     "output_type": "stream",
     "text": [
      "Image not found at path: C:\\Users\\Hp\\OneDrive\\Desktop\\Machine Learning\\Group assignment1\\SteelDetection\\train_images\\97047587f.jpg\n",
      "Image not found at path: C:\\Users\\Hp\\OneDrive\\Desktop\\Machine Learning\\Group assignment1\\SteelDetection\\train_images\\97192a78b.jpg\n",
      "Image not found at path: C:\\Users\\Hp\\OneDrive\\Desktop\\Machine Learning\\Group assignment1\\SteelDetection\\train_images\\9725a81d1.jpg\n",
      "Image not found at path: C:\\Users\\Hp\\OneDrive\\Desktop\\Machine Learning\\Group assignment1\\SteelDetection\\train_images\\9737361a7.jpg\n",
      "Image not found at path: C:\\Users\\Hp\\OneDrive\\Desktop\\Machine Learning\\Group assignment1\\SteelDetection\\train_images\\97419c683.jpg\n",
      "Image not found at path: C:\\Users\\Hp\\OneDrive\\Desktop\\Machine Learning\\Group assignment1\\SteelDetection\\train_images\\9741c9475.jpg\n",
      "Image not found at path: C:\\Users\\Hp\\OneDrive\\Desktop\\Machine Learning\\Group assignment1\\SteelDetection\\train_images\\974750ad1.jpg\n",
      "Image not found at path: C:\\Users\\Hp\\OneDrive\\Desktop\\Machine Learning\\Group assignment1\\SteelDetection\\train_images\\9753787e9.jpg\n",
      "Image not found at path: C:\\Users\\Hp\\OneDrive\\Desktop\\Machine Learning\\Group assignment1\\SteelDetection\\train_images\\9753787e9.jpg\n"
     ]
    },
    {
     "name": "stderr",
     "output_type": "stream",
     "text": [
      " 59%|█████████████████████████████████████████████▊                                | 4163/7095 [01:12<00:38, 76.06it/s]"
     ]
    },
    {
     "name": "stdout",
     "output_type": "stream",
     "text": [
      "Image not found at path: C:\\Users\\Hp\\OneDrive\\Desktop\\Machine Learning\\Group assignment1\\SteelDetection\\train_images\\9772f9a2c.jpg\n",
      "Image not found at path: C:\\Users\\Hp\\OneDrive\\Desktop\\Machine Learning\\Group assignment1\\SteelDetection\\train_images\\97892278c.jpg\n",
      "Image not found at path: C:\\Users\\Hp\\OneDrive\\Desktop\\Machine Learning\\Group assignment1\\SteelDetection\\train_images\\9789423c2.jpg\n"
     ]
    },
    {
     "name": "stderr",
     "output_type": "stream",
     "text": [
      " 59%|██████████████████████████████████████████████                                | 4188/7095 [01:12<00:41, 69.84it/s]"
     ]
    },
    {
     "name": "stdout",
     "output_type": "stream",
     "text": [
      "Image not found at path: C:\\Users\\Hp\\OneDrive\\Desktop\\Machine Learning\\Group assignment1\\SteelDetection\\train_images\\98017b765.jpg\n",
      "Image not found at path: C:\\Users\\Hp\\OneDrive\\Desktop\\Machine Learning\\Group assignment1\\SteelDetection\\train_images\\9804396ef.jpg\n",
      "Image not found at path: C:\\Users\\Hp\\OneDrive\\Desktop\\Machine Learning\\Group assignment1\\SteelDetection\\train_images\\9805e5d5d.jpg\n",
      "Image not found at path: C:\\Users\\Hp\\OneDrive\\Desktop\\Machine Learning\\Group assignment1\\SteelDetection\\train_images\\982193e49.jpg\n",
      "Image not found at path: C:\\Users\\Hp\\OneDrive\\Desktop\\Machine Learning\\Group assignment1\\SteelDetection\\train_images\\982193e49.jpg\n",
      "Image not found at path: C:\\Users\\Hp\\OneDrive\\Desktop\\Machine Learning\\Group assignment1\\SteelDetection\\train_images\\9822aabfc.jpg\n",
      "Image not found at path: C:\\Users\\Hp\\OneDrive\\Desktop\\Machine Learning\\Group assignment1\\SteelDetection\\train_images\\9844183a4.jpg\n",
      "Image not found at path: C:\\Users\\Hp\\OneDrive\\Desktop\\Machine Learning\\Group assignment1\\SteelDetection\\train_images\\9846785ee.jpg\n",
      "Image not found at path: C:\\Users\\Hp\\OneDrive\\Desktop\\Machine Learning\\Group assignment1\\SteelDetection\\train_images\\9883f9819.jpg\n",
      "Image not found at path: C:\\Users\\Hp\\OneDrive\\Desktop\\Machine Learning\\Group assignment1\\SteelDetection\\train_images\\98937deb7.jpg\n",
      "Image not found at path: C:\\Users\\Hp\\OneDrive\\Desktop\\Machine Learning\\Group assignment1\\SteelDetection\\train_images\\98937deb7.jpg\n",
      "Image not found at path: C:\\Users\\Hp\\OneDrive\\Desktop\\Machine Learning\\Group assignment1\\SteelDetection\\train_images\\9899c9114.jpg\n"
     ]
    },
    {
     "name": "stderr",
     "output_type": "stream",
     "text": [
      " 59%|██████████████████████████████████████████████▎                               | 4213/7095 [01:13<00:48, 59.61it/s]"
     ]
    },
    {
     "name": "stdout",
     "output_type": "stream",
     "text": [
      "Image not found at path: C:\\Users\\Hp\\OneDrive\\Desktop\\Machine Learning\\Group assignment1\\SteelDetection\\train_images\\990195c76.jpg\n",
      "Image not found at path: C:\\Users\\Hp\\OneDrive\\Desktop\\Machine Learning\\Group assignment1\\SteelDetection\\train_images\\990431713.jpg\n",
      "Image not found at path: C:\\Users\\Hp\\OneDrive\\Desktop\\Machine Learning\\Group assignment1\\SteelDetection\\train_images\\9906c980e.jpg\n",
      "Image not found at path: C:\\Users\\Hp\\OneDrive\\Desktop\\Machine Learning\\Group assignment1\\SteelDetection\\train_images\\99224c3d5.jpg\n",
      "Image not found at path: C:\\Users\\Hp\\OneDrive\\Desktop\\Machine Learning\\Group assignment1\\SteelDetection\\train_images\\9941cb9f1.jpg\n",
      "Image not found at path: C:\\Users\\Hp\\OneDrive\\Desktop\\Machine Learning\\Group assignment1\\SteelDetection\\train_images\\9958480e2.jpg\n",
      "Image not found at path: C:\\Users\\Hp\\OneDrive\\Desktop\\Machine Learning\\Group assignment1\\SteelDetection\\train_images\\9962acd22.jpg\n",
      "Image not found at path: C:\\Users\\Hp\\OneDrive\\Desktop\\Machine Learning\\Group assignment1\\SteelDetection\\train_images\\99743b154.jpg\n",
      "Image not found at path: C:\\Users\\Hp\\OneDrive\\Desktop\\Machine Learning\\Group assignment1\\SteelDetection\\train_images\\99855ae32.jpg\n",
      "Image not found at path: C:\\Users\\Hp\\OneDrive\\Desktop\\Machine Learning\\Group assignment1\\SteelDetection\\train_images\\99923d074.jpg\n",
      "Image not found at path: C:\\Users\\Hp\\OneDrive\\Desktop\\Machine Learning\\Group assignment1\\SteelDetection\\train_images\\999497bb8.jpg\n",
      "Image not found at path: C:\\Users\\Hp\\OneDrive\\Desktop\\Machine Learning\\Group assignment1\\SteelDetection\\train_images\\99984eccf.jpg\n"
     ]
    },
    {
     "name": "stderr",
     "output_type": "stream",
     "text": [
      " 62%|████████████████████████████████████████████████▎                             | 4392/7095 [01:16<00:44, 60.77it/s]"
     ]
    },
    {
     "name": "stdout",
     "output_type": "stream",
     "text": [
      "Image not found at path: C:\\Users\\Hp\\OneDrive\\Desktop\\Machine Learning\\Group assignment1\\SteelDetection\\train_images\\a0058b3fe.jpg\n",
      "Image not found at path: C:\\Users\\Hp\\OneDrive\\Desktop\\Machine Learning\\Group assignment1\\SteelDetection\\train_images\\a01bc9da8.jpg\n",
      "Image not found at path: C:\\Users\\Hp\\OneDrive\\Desktop\\Machine Learning\\Group assignment1\\SteelDetection\\train_images\\a01c8ce20.jpg\n",
      "Image not found at path: C:\\Users\\Hp\\OneDrive\\Desktop\\Machine Learning\\Group assignment1\\SteelDetection\\train_images\\a025c6ed2.jpg\n",
      "Image not found at path: C:\\Users\\Hp\\OneDrive\\Desktop\\Machine Learning\\Group assignment1\\SteelDetection\\train_images\\a02fe46b6.jpg\n",
      "Image not found at path: C:\\Users\\Hp\\OneDrive\\Desktop\\Machine Learning\\Group assignment1\\SteelDetection\\train_images\\a045e21e6.jpg\n",
      "Image not found at path: C:\\Users\\Hp\\OneDrive\\Desktop\\Machine Learning\\Group assignment1\\SteelDetection\\train_images\\a053e52ca.jpg\n",
      "Image not found at path: C:\\Users\\Hp\\OneDrive\\Desktop\\Machine Learning\\Group assignment1\\SteelDetection\\train_images\\a056c104a.jpg\n",
      "Image not found at path: C:\\Users\\Hp\\OneDrive\\Desktop\\Machine Learning\\Group assignment1\\SteelDetection\\train_images\\a08e02e56.jpg\n"
     ]
    },
    {
     "name": "stderr",
     "output_type": "stream",
     "text": [
      " 62%|████████████████████████████████████████████████▌                             | 4418/7095 [01:17<00:29, 91.42it/s]"
     ]
    },
    {
     "name": "stdout",
     "output_type": "stream",
     "text": [
      "Image not found at path: C:\\Users\\Hp\\OneDrive\\Desktop\\Machine Learning\\Group assignment1\\SteelDetection\\train_images\\a09a889b2.jpg\n",
      "Image not found at path: C:\\Users\\Hp\\OneDrive\\Desktop\\Machine Learning\\Group assignment1\\SteelDetection\\train_images\\a09e5bfb0.jpg\n",
      "Image not found at path: C:\\Users\\Hp\\OneDrive\\Desktop\\Machine Learning\\Group assignment1\\SteelDetection\\train_images\\a0a34a07c.jpg\n",
      "Image not found at path: C:\\Users\\Hp\\OneDrive\\Desktop\\Machine Learning\\Group assignment1\\SteelDetection\\train_images\\a0a58dd59.jpg\n",
      "Image not found at path: C:\\Users\\Hp\\OneDrive\\Desktop\\Machine Learning\\Group assignment1\\SteelDetection\\train_images\\a0ae0cbcf.jpg\n",
      "Image not found at path: C:\\Users\\Hp\\OneDrive\\Desktop\\Machine Learning\\Group assignment1\\SteelDetection\\train_images\\a0ae0cbcf.jpg\n",
      "Image not found at path: C:\\Users\\Hp\\OneDrive\\Desktop\\Machine Learning\\Group assignment1\\SteelDetection\\train_images\\a0c4d93c1.jpg\n",
      "Image not found at path: C:\\Users\\Hp\\OneDrive\\Desktop\\Machine Learning\\Group assignment1\\SteelDetection\\train_images\\a0c4d93c1.jpg\n",
      "Image not found at path: C:\\Users\\Hp\\OneDrive\\Desktop\\Machine Learning\\Group assignment1\\SteelDetection\\train_images\\a0c650375.jpg\n",
      "Image not found at path: C:\\Users\\Hp\\OneDrive\\Desktop\\Machine Learning\\Group assignment1\\SteelDetection\\train_images\\a0c6fd992.jpg\n",
      "Image not found at path: C:\\Users\\Hp\\OneDrive\\Desktop\\Machine Learning\\Group assignment1\\SteelDetection\\train_images\\a0ce98154.jpg\n",
      "Image not found at path: C:\\Users\\Hp\\OneDrive\\Desktop\\Machine Learning\\Group assignment1\\SteelDetection\\train_images\\a0ce98154.jpg\n",
      "Image not found at path: C:\\Users\\Hp\\OneDrive\\Desktop\\Machine Learning\\Group assignment1\\SteelDetection\\train_images\\a0d19387f.jpg\n",
      "Image not found at path: C:\\Users\\Hp\\OneDrive\\Desktop\\Machine Learning\\Group assignment1\\SteelDetection\\train_images\\a0de93374.jpg\n",
      "Image not found at path: C:\\Users\\Hp\\OneDrive\\Desktop\\Machine Learning\\Group assignment1\\SteelDetection\\train_images\\a0e01eb84.jpg\n",
      "Image not found at path: C:\\Users\\Hp\\OneDrive\\Desktop\\Machine Learning\\Group assignment1\\SteelDetection\\train_images\\a0ee1d0ac.jpg\n",
      "Image not found at path: C:\\Users\\Hp\\OneDrive\\Desktop\\Machine Learning\\Group assignment1\\SteelDetection\\train_images\\a0ee7a955.jpg\n",
      "Image not found at path: C:\\Users\\Hp\\OneDrive\\Desktop\\Machine Learning\\Group assignment1\\SteelDetection\\train_images\\a0fcb1803.jpg\n",
      "Image not found at path: C:\\Users\\Hp\\OneDrive\\Desktop\\Machine Learning\\Group assignment1\\SteelDetection\\train_images\\a10a35f4f.jpg\n",
      "Image not found at path: C:\\Users\\Hp\\OneDrive\\Desktop\\Machine Learning\\Group assignment1\\SteelDetection\\train_images\\a10c18895.jpg\n",
      "Image not found at path: C:\\Users\\Hp\\OneDrive\\Desktop\\Machine Learning\\Group assignment1\\SteelDetection\\train_images\\a10fb7849.jpg\n"
     ]
    },
    {
     "name": "stderr",
     "output_type": "stream",
     "text": [
      " 63%|████████████████████████████████████████████████▊                             | 4437/7095 [01:17<00:33, 79.86it/s]"
     ]
    },
    {
     "name": "stdout",
     "output_type": "stream",
     "text": [
      "Image not found at path: C:\\Users\\Hp\\OneDrive\\Desktop\\Machine Learning\\Group assignment1\\SteelDetection\\train_images\\a13c52c08.jpg\n",
      "Image not found at path: C:\\Users\\Hp\\OneDrive\\Desktop\\Machine Learning\\Group assignment1\\SteelDetection\\train_images\\a14e96726.jpg\n",
      "Image not found at path: C:\\Users\\Hp\\OneDrive\\Desktop\\Machine Learning\\Group assignment1\\SteelDetection\\train_images\\a14eeb75d.jpg\n",
      "Image not found at path: C:\\Users\\Hp\\OneDrive\\Desktop\\Machine Learning\\Group assignment1\\SteelDetection\\train_images\\a17a84d8f.jpg\n",
      "Image not found at path: C:\\Users\\Hp\\OneDrive\\Desktop\\Machine Learning\\Group assignment1\\SteelDetection\\train_images\\a18bdb241.jpg\n",
      "Image not found at path: C:\\Users\\Hp\\OneDrive\\Desktop\\Machine Learning\\Group assignment1\\SteelDetection\\train_images\\a1b3fa11b.jpg\n",
      "Image not found at path: C:\\Users\\Hp\\OneDrive\\Desktop\\Machine Learning\\Group assignment1\\SteelDetection\\train_images\\a1bede9b1.jpg\n"
     ]
    },
    {
     "name": "stderr",
     "output_type": "stream",
     "text": [
      " 63%|████████████████████████████████████████████████▉                             | 4449/7095 [01:17<00:31, 84.48it/s]"
     ]
    },
    {
     "name": "stdout",
     "output_type": "stream",
     "text": [
      "Image not found at path: C:\\Users\\Hp\\OneDrive\\Desktop\\Machine Learning\\Group assignment1\\SteelDetection\\train_images\\a1c385029.jpg\n",
      "Image not found at path: C:\\Users\\Hp\\OneDrive\\Desktop\\Machine Learning\\Group assignment1\\SteelDetection\\train_images\\a1d0b7617.jpg\n",
      "Image not found at path: C:\\Users\\Hp\\OneDrive\\Desktop\\Machine Learning\\Group assignment1\\SteelDetection\\train_images\\a1d5d669f.jpg\n",
      "Image not found at path: C:\\Users\\Hp\\OneDrive\\Desktop\\Machine Learning\\Group assignment1\\SteelDetection\\train_images\\a1dba4777.jpg\n",
      "Image not found at path: C:\\Users\\Hp\\OneDrive\\Desktop\\Machine Learning\\Group assignment1\\SteelDetection\\train_images\\a1f41023e.jpg\n",
      "Image not found at path: C:\\Users\\Hp\\OneDrive\\Desktop\\Machine Learning\\Group assignment1\\SteelDetection\\train_images\\a1f5481df.jpg\n",
      "Image not found at path: C:\\Users\\Hp\\OneDrive\\Desktop\\Machine Learning\\Group assignment1\\SteelDetection\\train_images\\a21bfa25a.jpg\n",
      "Image not found at path: C:\\Users\\Hp\\OneDrive\\Desktop\\Machine Learning\\Group assignment1\\SteelDetection\\train_images\\a21d00db9.jpg\n",
      "Image not found at path: C:\\Users\\Hp\\OneDrive\\Desktop\\Machine Learning\\Group assignment1\\SteelDetection\\train_images\\a21fa9b86.jpg\n"
     ]
    },
    {
     "name": "stderr",
     "output_type": "stream",
     "text": [
      " 63%|█████████████████████████████████████████████████▏                            | 4472/7095 [01:17<00:29, 88.33it/s]"
     ]
    },
    {
     "name": "stdout",
     "output_type": "stream",
     "text": [
      "Image not found at path: C:\\Users\\Hp\\OneDrive\\Desktop\\Machine Learning\\Group assignment1\\SteelDetection\\train_images\\a27bd6af7.jpg\n",
      "Image not found at path: C:\\Users\\Hp\\OneDrive\\Desktop\\Machine Learning\\Group assignment1\\SteelDetection\\train_images\\a28a7b7be.jpg\n",
      "Image not found at path: C:\\Users\\Hp\\OneDrive\\Desktop\\Machine Learning\\Group assignment1\\SteelDetection\\train_images\\a28a7b7be.jpg\n",
      "Image not found at path: C:\\Users\\Hp\\OneDrive\\Desktop\\Machine Learning\\Group assignment1\\SteelDetection\\train_images\\a29c6239f.jpg\n",
      "Image not found at path: C:\\Users\\Hp\\OneDrive\\Desktop\\Machine Learning\\Group assignment1\\SteelDetection\\train_images\\a29c6239f.jpg\n",
      "Image not found at path: C:\\Users\\Hp\\OneDrive\\Desktop\\Machine Learning\\Group assignment1\\SteelDetection\\train_images\\a2b2c9e3e.jpg\n",
      "Image not found at path: C:\\Users\\Hp\\OneDrive\\Desktop\\Machine Learning\\Group assignment1\\SteelDetection\\train_images\\a2bdcd021.jpg\n",
      "Image not found at path: C:\\Users\\Hp\\OneDrive\\Desktop\\Machine Learning\\Group assignment1\\SteelDetection\\train_images\\a2c0731d2.jpg\n",
      "Image not found at path: C:\\Users\\Hp\\OneDrive\\Desktop\\Machine Learning\\Group assignment1\\SteelDetection\\train_images\\a2cb5be8f.jpg\n",
      "Image not found at path: C:\\Users\\Hp\\OneDrive\\Desktop\\Machine Learning\\Group assignment1\\SteelDetection\\train_images\\a2d475315.jpg\n",
      "Image not found at path: C:\\Users\\Hp\\OneDrive\\Desktop\\Machine Learning\\Group assignment1\\SteelDetection\\train_images\\a2e083f69.jpg\n",
      "Image not found at path: C:\\Users\\Hp\\OneDrive\\Desktop\\Machine Learning\\Group assignment1\\SteelDetection\\train_images\\a2e328f50.jpg\n",
      "Image not found at path: C:\\Users\\Hp\\OneDrive\\Desktop\\Machine Learning\\Group assignment1\\SteelDetection\\train_images\\a2e96800f.jpg\n",
      "Image not found at path: C:\\Users\\Hp\\OneDrive\\Desktop\\Machine Learning\\Group assignment1\\SteelDetection\\train_images\\a30fa9eb5.jpg\n",
      "Image not found at path: C:\\Users\\Hp\\OneDrive\\Desktop\\Machine Learning\\Group assignment1\\SteelDetection\\train_images\\a30fe9da2.jpg\n",
      "Image not found at path: C:\\Users\\Hp\\OneDrive\\Desktop\\Machine Learning\\Group assignment1\\SteelDetection\\train_images\\a31bad68b.jpg\n",
      "Image not found at path: C:\\Users\\Hp\\OneDrive\\Desktop\\Machine Learning\\Group assignment1\\SteelDetection\\train_images\\a32f079ad.jpg\n"
     ]
    },
    {
     "name": "stderr",
     "output_type": "stream",
     "text": [
      " 63%|█████████████████████████████████████████████████▎                            | 4490/7095 [01:18<00:30, 86.35it/s]"
     ]
    },
    {
     "name": "stdout",
     "output_type": "stream",
     "text": [
      "Image not found at path: C:\\Users\\Hp\\OneDrive\\Desktop\\Machine Learning\\Group assignment1\\SteelDetection\\train_images\\a33b2c662.jpg\n",
      "Image not found at path: C:\\Users\\Hp\\OneDrive\\Desktop\\Machine Learning\\Group assignment1\\SteelDetection\\train_images\\a33b2c662.jpg\n",
      "Image not found at path: C:\\Users\\Hp\\OneDrive\\Desktop\\Machine Learning\\Group assignment1\\SteelDetection\\train_images\\a33d86440.jpg\n",
      "Image not found at path: C:\\Users\\Hp\\OneDrive\\Desktop\\Machine Learning\\Group assignment1\\SteelDetection\\train_images\\a33ec265a.jpg\n",
      "Image not found at path: C:\\Users\\Hp\\OneDrive\\Desktop\\Machine Learning\\Group assignment1\\SteelDetection\\train_images\\a35e7e370.jpg\n",
      "Image not found at path: C:\\Users\\Hp\\OneDrive\\Desktop\\Machine Learning\\Group assignment1\\SteelDetection\\train_images\\a39b0ef7e.jpg\n",
      "Image not found at path: C:\\Users\\Hp\\OneDrive\\Desktop\\Machine Learning\\Group assignment1\\SteelDetection\\train_images\\a3a66a86a.jpg\n",
      "Image not found at path: C:\\Users\\Hp\\OneDrive\\Desktop\\Machine Learning\\Group assignment1\\SteelDetection\\train_images\\a3c3733cd.jpg\n",
      "Image not found at path: C:\\Users\\Hp\\OneDrive\\Desktop\\Machine Learning\\Group assignment1\\SteelDetection\\train_images\\a3c477831.jpg\n",
      "Image not found at path: C:\\Users\\Hp\\OneDrive\\Desktop\\Machine Learning\\Group assignment1\\SteelDetection\\train_images\\a3d5e7319.jpg\n",
      "Image not found at path: C:\\Users\\Hp\\OneDrive\\Desktop\\Machine Learning\\Group assignment1\\SteelDetection\\train_images\\a3e2c4510.jpg\n",
      "Image not found at path: C:\\Users\\Hp\\OneDrive\\Desktop\\Machine Learning\\Group assignment1\\SteelDetection\\train_images\\a3eac30dc.jpg\n",
      "Image not found at path: C:\\Users\\Hp\\OneDrive\\Desktop\\Machine Learning\\Group assignment1\\SteelDetection\\train_images\\a41ba727f.jpg\n",
      "Image not found at path: C:\\Users\\Hp\\OneDrive\\Desktop\\Machine Learning\\Group assignment1\\SteelDetection\\train_images\\a41e950ce.jpg\n",
      "Image not found at path: C:\\Users\\Hp\\OneDrive\\Desktop\\Machine Learning\\Group assignment1\\SteelDetection\\train_images\\a41f575ff.jpg\n",
      "Image not found at path: C:\\Users\\Hp\\OneDrive\\Desktop\\Machine Learning\\Group assignment1\\SteelDetection\\train_images\\a42dee222.jpg\n"
     ]
    },
    {
     "name": "stderr",
     "output_type": "stream",
     "text": [
      " 64%|█████████████████████████████████████████████████▌                            | 4511/7095 [01:18<00:34, 74.96it/s]"
     ]
    },
    {
     "name": "stdout",
     "output_type": "stream",
     "text": [
      "Image not found at path: C:\\Users\\Hp\\OneDrive\\Desktop\\Machine Learning\\Group assignment1\\SteelDetection\\train_images\\a44dd8116.jpg\n",
      "Image not found at path: C:\\Users\\Hp\\OneDrive\\Desktop\\Machine Learning\\Group assignment1\\SteelDetection\\train_images\\a49cff42b.jpg\n",
      "Image not found at path: C:\\Users\\Hp\\OneDrive\\Desktop\\Machine Learning\\Group assignment1\\SteelDetection\\train_images\\a49edb718.jpg\n"
     ]
    },
    {
     "name": "stderr",
     "output_type": "stream",
     "text": [
      " 64%|█████████████████████████████████████████████████▋                            | 4523/7095 [01:18<00:30, 83.56it/s]"
     ]
    },
    {
     "name": "stdout",
     "output_type": "stream",
     "text": [
      "Image not found at path: C:\\Users\\Hp\\OneDrive\\Desktop\\Machine Learning\\Group assignment1\\SteelDetection\\train_images\\a4a648cf6.jpg\n",
      "Image not found at path: C:\\Users\\Hp\\OneDrive\\Desktop\\Machine Learning\\Group assignment1\\SteelDetection\\train_images\\a4c93ac65.jpg\n",
      "Image not found at path: C:\\Users\\Hp\\OneDrive\\Desktop\\Machine Learning\\Group assignment1\\SteelDetection\\train_images\\a4cef60d1.jpg\n",
      "Image not found at path: C:\\Users\\Hp\\OneDrive\\Desktop\\Machine Learning\\Group assignment1\\SteelDetection\\train_images\\a4d22b821.jpg\n",
      "Image not found at path: C:\\Users\\Hp\\OneDrive\\Desktop\\Machine Learning\\Group assignment1\\SteelDetection\\train_images\\a4d3149e0.jpg\n",
      "Image not found at path: C:\\Users\\Hp\\OneDrive\\Desktop\\Machine Learning\\Group assignment1\\SteelDetection\\train_images\\a4d9a97f6.jpg\n",
      "Image not found at path: C:\\Users\\Hp\\OneDrive\\Desktop\\Machine Learning\\Group assignment1\\SteelDetection\\train_images\\a4d9a97f6.jpg\n",
      "Image not found at path: C:\\Users\\Hp\\OneDrive\\Desktop\\Machine Learning\\Group assignment1\\SteelDetection\\train_images\\a4dff615e.jpg\n",
      "Image not found at path: C:\\Users\\Hp\\OneDrive\\Desktop\\Machine Learning\\Group assignment1\\SteelDetection\\train_images\\a4e947fb4.jpg\n",
      "Image not found at path: C:\\Users\\Hp\\OneDrive\\Desktop\\Machine Learning\\Group assignment1\\SteelDetection\\train_images\\a4f1180ba.jpg\n",
      "Image not found at path: C:\\Users\\Hp\\OneDrive\\Desktop\\Machine Learning\\Group assignment1\\SteelDetection\\train_images\\a4f349030.jpg\n",
      "Image not found at path: C:\\Users\\Hp\\OneDrive\\Desktop\\Machine Learning\\Group assignment1\\SteelDetection\\train_images\\a51bf62f7.jpg\n"
     ]
    },
    {
     "name": "stderr",
     "output_type": "stream",
     "text": [
      " 64%|█████████████████████████████████████████████████▉                            | 4541/7095 [01:18<00:33, 76.39it/s]"
     ]
    },
    {
     "name": "stdout",
     "output_type": "stream",
     "text": [
      "Image not found at path: C:\\Users\\Hp\\OneDrive\\Desktop\\Machine Learning\\Group assignment1\\SteelDetection\\train_images\\a52f36666.jpg\n",
      "Image not found at path: C:\\Users\\Hp\\OneDrive\\Desktop\\Machine Learning\\Group assignment1\\SteelDetection\\train_images\\a56c8f958.jpg\n",
      "Image not found at path: C:\\Users\\Hp\\OneDrive\\Desktop\\Machine Learning\\Group assignment1\\SteelDetection\\train_images\\a56c8f958.jpg\n",
      "Image not found at path: C:\\Users\\Hp\\OneDrive\\Desktop\\Machine Learning\\Group assignment1\\SteelDetection\\train_images\\a56d4b7be.jpg\n",
      "Image not found at path: C:\\Users\\Hp\\OneDrive\\Desktop\\Machine Learning\\Group assignment1\\SteelDetection\\train_images\\a56df9123.jpg\n",
      "Image not found at path: C:\\Users\\Hp\\OneDrive\\Desktop\\Machine Learning\\Group assignment1\\SteelDetection\\train_images\\a5a0e4b19.jpg\n",
      "Image not found at path: C:\\Users\\Hp\\OneDrive\\Desktop\\Machine Learning\\Group assignment1\\SteelDetection\\train_images\\a5aa4829b.jpg\n",
      "Image not found at path: C:\\Users\\Hp\\OneDrive\\Desktop\\Machine Learning\\Group assignment1\\SteelDetection\\train_images\\a5ac1a50b.jpg\n",
      "Image not found at path: C:\\Users\\Hp\\OneDrive\\Desktop\\Machine Learning\\Group assignment1\\SteelDetection\\train_images\\a5b23c751.jpg\n",
      "Image not found at path: C:\\Users\\Hp\\OneDrive\\Desktop\\Machine Learning\\Group assignment1\\SteelDetection\\train_images\\a5b484508.jpg\n",
      "Image not found at path: C:\\Users\\Hp\\OneDrive\\Desktop\\Machine Learning\\Group assignment1\\SteelDetection\\train_images\\a5b53e614.jpg\n"
     ]
    },
    {
     "name": "stderr",
     "output_type": "stream",
     "text": [
      " 64%|██████████████████████████████████████████████████                            | 4558/7095 [01:18<00:26, 97.44it/s]"
     ]
    },
    {
     "name": "stdout",
     "output_type": "stream",
     "text": [
      "Image not found at path: C:\\Users\\Hp\\OneDrive\\Desktop\\Machine Learning\\Group assignment1\\SteelDetection\\train_images\\a5b7b7fcc.jpg\n",
      "Image not found at path: C:\\Users\\Hp\\OneDrive\\Desktop\\Machine Learning\\Group assignment1\\SteelDetection\\train_images\\a5c3d1132.jpg\n",
      "Image not found at path: C:\\Users\\Hp\\OneDrive\\Desktop\\Machine Learning\\Group assignment1\\SteelDetection\\train_images\\a5c7ae660.jpg\n",
      "Image not found at path: C:\\Users\\Hp\\OneDrive\\Desktop\\Machine Learning\\Group assignment1\\SteelDetection\\train_images\\a5cb0256f.jpg\n",
      "Image not found at path: C:\\Users\\Hp\\OneDrive\\Desktop\\Machine Learning\\Group assignment1\\SteelDetection\\train_images\\a5d571de0.jpg\n",
      "Image not found at path: C:\\Users\\Hp\\OneDrive\\Desktop\\Machine Learning\\Group assignment1\\SteelDetection\\train_images\\a5d8010d4.jpg\n",
      "Image not found at path: C:\\Users\\Hp\\OneDrive\\Desktop\\Machine Learning\\Group assignment1\\SteelDetection\\train_images\\a5e7b9502.jpg\n",
      "Image not found at path: C:\\Users\\Hp\\OneDrive\\Desktop\\Machine Learning\\Group assignment1\\SteelDetection\\train_images\\a5e9195b6.jpg\n",
      "Image not found at path: C:\\Users\\Hp\\OneDrive\\Desktop\\Machine Learning\\Group assignment1\\SteelDetection\\train_images\\a5eb02ff0.jpg\n",
      "Image not found at path: C:\\Users\\Hp\\OneDrive\\Desktop\\Machine Learning\\Group assignment1\\SteelDetection\\train_images\\a5ed4358c.jpg\n",
      "Image not found at path: C:\\Users\\Hp\\OneDrive\\Desktop\\Machine Learning\\Group assignment1\\SteelDetection\\train_images\\a5f996baa.jpg\n",
      "Image not found at path: C:\\Users\\Hp\\OneDrive\\Desktop\\Machine Learning\\Group assignment1\\SteelDetection\\train_images\\a5fb2758e.jpg\n",
      "Image not found at path: C:\\Users\\Hp\\OneDrive\\Desktop\\Machine Learning\\Group assignment1\\SteelDetection\\train_images\\a61ce7b8a.jpg\n",
      "Image not found at path: C:\\Users\\Hp\\OneDrive\\Desktop\\Machine Learning\\Group assignment1\\SteelDetection\\train_images\\a61ce7b8a.jpg\n"
     ]
    },
    {
     "name": "stderr",
     "output_type": "stream",
     "text": [
      " 65%|██████████████████████████████████████████████████▍                           | 4592/7095 [01:19<00:29, 83.67it/s]"
     ]
    },
    {
     "name": "stdout",
     "output_type": "stream",
     "text": [
      "Image not found at path: C:\\Users\\Hp\\OneDrive\\Desktop\\Machine Learning\\Group assignment1\\SteelDetection\\train_images\\a6a6f59c7.jpg\n",
      "Image not found at path: C:\\Users\\Hp\\OneDrive\\Desktop\\Machine Learning\\Group assignment1\\SteelDetection\\train_images\\a6aceec2e.jpg\n",
      "Image not found at path: C:\\Users\\Hp\\OneDrive\\Desktop\\Machine Learning\\Group assignment1\\SteelDetection\\train_images\\a6aceec2e.jpg\n",
      "Image not found at path: C:\\Users\\Hp\\OneDrive\\Desktop\\Machine Learning\\Group assignment1\\SteelDetection\\train_images\\a6af7373c.jpg\n",
      "Image not found at path: C:\\Users\\Hp\\OneDrive\\Desktop\\Machine Learning\\Group assignment1\\SteelDetection\\train_images\\a6b00abd7.jpg\n",
      "Image not found at path: C:\\Users\\Hp\\OneDrive\\Desktop\\Machine Learning\\Group assignment1\\SteelDetection\\train_images\\a6b3d554a.jpg\n",
      "Image not found at path: C:\\Users\\Hp\\OneDrive\\Desktop\\Machine Learning\\Group assignment1\\SteelDetection\\train_images\\a6b56df05.jpg\n",
      "Image not found at path: C:\\Users\\Hp\\OneDrive\\Desktop\\Machine Learning\\Group assignment1\\SteelDetection\\train_images\\a6ba6acf0.jpg\n",
      "Image not found at path: C:\\Users\\Hp\\OneDrive\\Desktop\\Machine Learning\\Group assignment1\\SteelDetection\\train_images\\a6c28501b.jpg\n",
      "Image not found at path: C:\\Users\\Hp\\OneDrive\\Desktop\\Machine Learning\\Group assignment1\\SteelDetection\\train_images\\a6c3abdb9.jpg\n",
      "Image not found at path: C:\\Users\\Hp\\OneDrive\\Desktop\\Machine Learning\\Group assignment1\\SteelDetection\\train_images\\a6c7b60b3.jpg\n",
      "Image not found at path: C:\\Users\\Hp\\OneDrive\\Desktop\\Machine Learning\\Group assignment1\\SteelDetection\\train_images\\a6ecee828.jpg\n",
      "Image not found at path: C:\\Users\\Hp\\OneDrive\\Desktop\\Machine Learning\\Group assignment1\\SteelDetection\\train_images\\a6fcd0f71.jpg\n"
     ]
    },
    {
     "name": "stderr",
     "output_type": "stream",
     "text": [
      " 65%|██████████████████████████████████████████████████▊                           | 4618/7095 [01:19<00:37, 65.56it/s]"
     ]
    },
    {
     "name": "stdout",
     "output_type": "stream",
     "text": [
      "Image not found at path: C:\\Users\\Hp\\OneDrive\\Desktop\\Machine Learning\\Group assignment1\\SteelDetection\\train_images\\a7c57d74f.jpg\n",
      "Image not found at path: C:\\Users\\Hp\\OneDrive\\Desktop\\Machine Learning\\Group assignment1\\SteelDetection\\train_images\\a7d470272.jpg\n",
      "Image not found at path: C:\\Users\\Hp\\OneDrive\\Desktop\\Machine Learning\\Group assignment1\\SteelDetection\\train_images\\a7d5ae972.jpg\n",
      "Image not found at path: C:\\Users\\Hp\\OneDrive\\Desktop\\Machine Learning\\Group assignment1\\SteelDetection\\train_images\\a7e675896.jpg\n",
      "Image not found at path: C:\\Users\\Hp\\OneDrive\\Desktop\\Machine Learning\\Group assignment1\\SteelDetection\\train_images\\a7e79695b.jpg\n"
     ]
    },
    {
     "name": "stderr",
     "output_type": "stream",
     "text": [
      " 65%|███████████████████████████████████████████████████                           | 4644/7095 [01:20<00:36, 67.90it/s]"
     ]
    },
    {
     "name": "stdout",
     "output_type": "stream",
     "text": [
      "Image not found at path: C:\\Users\\Hp\\OneDrive\\Desktop\\Machine Learning\\Group assignment1\\SteelDetection\\train_images\\a8b77ce4d.jpg\n",
      "Image not found at path: C:\\Users\\Hp\\OneDrive\\Desktop\\Machine Learning\\Group assignment1\\SteelDetection\\train_images\\a8ba23b0a.jpg\n",
      "Image not found at path: C:\\Users\\Hp\\OneDrive\\Desktop\\Machine Learning\\Group assignment1\\SteelDetection\\train_images\\a8ba23b0a.jpg\n",
      "Image not found at path: C:\\Users\\Hp\\OneDrive\\Desktop\\Machine Learning\\Group assignment1\\SteelDetection\\train_images\\a8bc0275d.jpg\n",
      "Image not found at path: C:\\Users\\Hp\\OneDrive\\Desktop\\Machine Learning\\Group assignment1\\SteelDetection\\train_images\\a8cd71412.jpg\n",
      "Image not found at path: C:\\Users\\Hp\\OneDrive\\Desktop\\Machine Learning\\Group assignment1\\SteelDetection\\train_images\\a8de477f0.jpg\n",
      "Image not found at path: C:\\Users\\Hp\\OneDrive\\Desktop\\Machine Learning\\Group assignment1\\SteelDetection\\train_images\\a8eaf15a1.jpg\n",
      "Image not found at path: C:\\Users\\Hp\\OneDrive\\Desktop\\Machine Learning\\Group assignment1\\SteelDetection\\train_images\\a8f977b31.jpg\n",
      "Image not found at path: C:\\Users\\Hp\\OneDrive\\Desktop\\Machine Learning\\Group assignment1\\SteelDetection\\train_images\\a8fcfff62.jpg\n"
     ]
    },
    {
     "name": "stderr",
     "output_type": "stream",
     "text": [
      " 66%|███████████████████████████████████████████████████▍                          | 4679/7095 [01:20<00:32, 74.99it/s]"
     ]
    },
    {
     "name": "stdout",
     "output_type": "stream",
     "text": [
      "Image not found at path: C:\\Users\\Hp\\OneDrive\\Desktop\\Machine Learning\\Group assignment1\\SteelDetection\\train_images\\a9a045b71.jpg\n",
      "Image not found at path: C:\\Users\\Hp\\OneDrive\\Desktop\\Machine Learning\\Group assignment1\\SteelDetection\\train_images\\a9a5ac063.jpg\n",
      "Image not found at path: C:\\Users\\Hp\\OneDrive\\Desktop\\Machine Learning\\Group assignment1\\SteelDetection\\train_images\\a9b1abf48.jpg\n",
      "Image not found at path: C:\\Users\\Hp\\OneDrive\\Desktop\\Machine Learning\\Group assignment1\\SteelDetection\\train_images\\a9b327adb.jpg\n",
      "Image not found at path: C:\\Users\\Hp\\OneDrive\\Desktop\\Machine Learning\\Group assignment1\\SteelDetection\\train_images\\a9b4c5d52.jpg\n",
      "Image not found at path: C:\\Users\\Hp\\OneDrive\\Desktop\\Machine Learning\\Group assignment1\\SteelDetection\\train_images\\a9c5e9f1e.jpg\n",
      "Image not found at path: C:\\Users\\Hp\\OneDrive\\Desktop\\Machine Learning\\Group assignment1\\SteelDetection\\train_images\\a9cb86e69.jpg\n",
      "Image not found at path: C:\\Users\\Hp\\OneDrive\\Desktop\\Machine Learning\\Group assignment1\\SteelDetection\\train_images\\a9cee6edb.jpg\n",
      "Image not found at path: C:\\Users\\Hp\\OneDrive\\Desktop\\Machine Learning\\Group assignment1\\SteelDetection\\train_images\\a9d3b0f3e.jpg\n",
      "Image not found at path: C:\\Users\\Hp\\OneDrive\\Desktop\\Machine Learning\\Group assignment1\\SteelDetection\\train_images\\a9e1fc1bc.jpg\n",
      "Image not found at path: C:\\Users\\Hp\\OneDrive\\Desktop\\Machine Learning\\Group assignment1\\SteelDetection\\train_images\\a9e2530ed.jpg\n",
      "Image not found at path: C:\\Users\\Hp\\OneDrive\\Desktop\\Machine Learning\\Group assignment1\\SteelDetection\\train_images\\a9e7b571e.jpg\n",
      "Image not found at path: C:\\Users\\Hp\\OneDrive\\Desktop\\Machine Learning\\Group assignment1\\SteelDetection\\train_images\\a9eed3b01.jpg\n",
      "Image not found at path: C:\\Users\\Hp\\OneDrive\\Desktop\\Machine Learning\\Group assignment1\\SteelDetection\\train_images\\a9f5f9806.jpg\n",
      "Image not found at path: C:\\Users\\Hp\\OneDrive\\Desktop\\Machine Learning\\Group assignment1\\SteelDetection\\train_images\\a9f605949.jpg\n"
     ]
    },
    {
     "name": "stderr",
     "output_type": "stream",
     "text": [
      "100%|██████████████████████████████████████████████████████████████████████████████| 7095/7095 [02:11<00:00, 53.83it/s]\n"
     ]
    }
   ],
   "source": [
    "# The code iterates over a DataFrame data containing image filenames and their corresponding class IDs. \n",
    "# For each image, it constructs the file path, preprocesses the image using the preprocess_image function, \n",
    "# and checks if the image was found and processed correctly. Processed images and their class IDs are stored in \n",
    "# separate lists (l1 for images, l2 for class IDs). After processing all images, it converts these lists into NumPy arrays \n",
    "# (X for images, y for class IDs), which are typically used as input and output for machine learning models. \n",
    "# If necessary, additional processing like label encoding of y can be performed after this conversion.\n",
    "\n",
    "from tqdm import tqdm  # tqdm is a library that provides a progress bar for loops.\n",
    "import os  # os is a standard Python library for interacting with the operating system.\n",
    "\n",
    "l1 = []  # List to store preprocessed images\n",
    "l2 = []  # List to store corresponding labels\n",
    "\n",
    "# Loop through each entry in the DataFrame 'data' with a progress bar provided by tqdm.\n",
    "for img, ClassId, _ in tqdm(data.values):\n",
    "    # Construct the full file path for the image by joining the directory path and the image filename.\n",
    "    image_path = os.path.join(train_images_dir, img)\n",
    "    \n",
    "    # Preprocess the image using the earlier defined function which could resize and normalize the image.\n",
    "    processed_image = preprocess_image(image_path)\n",
    "\n",
    "    # If the image was found and successfully preprocessed, append it to the list of images (l1).\n",
    "    # Also, append the corresponding class ID to the list of labels (l2).\n",
    "    if processed_image is not None:\n",
    "        l1.append(processed_image)\n",
    "        l2.append(ClassId)\n",
    "    else:\n",
    "        # If the image was not found at the given path, print an error message with the path for debugging.\n",
    "        print(f\"Image not found at path: {image_path}\")\n",
    "\n",
    "# Convert the lists of images and labels into NumPy arrays to facilitate further processing.\n",
    "# This step is common in data preparation before training a machine learning model.\n",
    "X = np.array(l1)  # 'X'  denote the input features for a model.\n",
    "y = np.array(l2)  # 'y' denote the labels or targets for supervised learning.\n"
   ]
  },
  {
   "cell_type": "code",
   "execution_count": 11,
   "metadata": {
    "id": "GtC4ty2UZNXR"
   },
   "outputs": [
    {
     "data": {
      "text/plain": [
       "<matplotlib.image.AxesImage at 0x26c50993f50>"
      ]
     },
     "execution_count": 11,
     "metadata": {},
     "output_type": "execute_result"
    },
    {
     "data": {
      "image/png": "[encoded data removed]",
      "text/plain": [
       "<Figure size 640x480 with 1 Axes>"
      ]
     },
     "metadata": {},
     "output_type": "display_data"
    }
   ],
   "source": [
    "# Displaying random pictures\n",
    "i = 15\n",
    "plt.imshow(l1[i])"
   ]
  },
  {
   "cell_type": "code",
   "execution_count": 12,
   "metadata": {
    "id": "sjLtZyQ9cnAY"
   },
   "outputs": [
    {
     "data": {
      "text/plain": [
       "(5915, 120, 120, 3)"
      ]
     },
     "execution_count": 12,
     "metadata": {},
     "output_type": "execute_result"
    }
   ],
   "source": [
    "X.shape"
   ]
  },
  {
   "cell_type": "code",
   "execution_count": 13,
   "metadata": {
    "id": "Tu1R8eWDcSmo"
   },
   "outputs": [],
   "source": [
    "y = to_categorical(y)"
   ]
  },
  {
   "cell_type": "code",
   "execution_count": 14,
   "metadata": {
    "id": "9qGkGldIc8sP"
   },
   "outputs": [
    {
     "data": {
      "text/plain": [
       "array([[0., 1., 0., 0., 0.],\n",
       "       [0., 0., 0., 1., 0.],\n",
       "       [0., 0., 0., 1., 0.],\n",
       "       ...,\n",
       "       [0., 0., 0., 1., 0.],\n",
       "       [0., 0., 0., 1., 0.],\n",
       "       [0., 0., 0., 1., 0.]], dtype=float32)"
      ]
     },
     "execution_count": 14,
     "metadata": {},
     "output_type": "execute_result"
    }
   ],
   "source": [
    "y"
   ]
  },
  {
   "cell_type": "markdown",
   "metadata": {
    "id": "un4nezONdDAs"
   },
   "source": [
    "### Splitting the data into 80% train set and 20% test set"
   ]
  },
  {
   "cell_type": "code",
   "execution_count": 15,
   "metadata": {
    "id": "BM9_89U1c8uc"
   },
   "outputs": [],
   "source": [
    "X_train,X_test,y_train,y_test=train_test_split(X,y,test_size=0.2,stratify=y,shuffle=True)"
   ]
  },
  {
   "cell_type": "code",
   "execution_count": 16,
   "metadata": {
    "id": "patJUauxc8xD"
   },
   "outputs": [
    {
     "name": "stdout",
     "output_type": "stream",
     "text": [
      "x_train shape: (4732, 120, 120, 3)\n",
      "x_test shape: (1183, 120, 120, 3)\n",
      "y_train shape: (4732, 5)\n",
      "y_test shape: (1183, 5)\n"
     ]
    }
   ],
   "source": [
    "\n",
    "print(\"x_train shape:\",X_train.shape)\n",
    "print(\"x_test shape:\",X_test.shape)\n",
    "print(\"y_train shape:\",y_train.shape)\n",
    "print(\"y_test shape:\",y_test.shape)"
   ]
  },
  {
   "cell_type": "markdown",
   "metadata": {
    "id": "jjdg_oi5dS6g"
   },
   "source": [
    "#### Building the CNN Model: This code sets up a CNN with several convolutional and max pooling layers, followed by a flattening layer and several fully connected (dense) layers. The final dense layer uses a softmax activation function to output class probabilities for a 5-class classification problem. Dropout layers are included to help reduce overfitting."
   ]
  },
  {
   "cell_type": "code",
   "execution_count": 17,
   "metadata": {
    "id": "HTz_pxEqc80l"
   },
   "outputs": [
    {
     "name": "stdout",
     "output_type": "stream",
     "text": [
      "WARNING:tensorflow:From C:\\Users\\Hp\\anaconda3\\Lib\\site-packages\\keras\\src\\backend.py:873: The name tf.get_default_graph is deprecated. Please use tf.compat.v1.get_default_graph instead.\n",
      "\n",
      "WARNING:tensorflow:From C:\\Users\\Hp\\anaconda3\\Lib\\site-packages\\keras\\src\\layers\\pooling\\max_pooling2d.py:161: The name tf.nn.max_pool is deprecated. Please use tf.nn.max_pool2d instead.\n",
      "\n"
     ]
    }
   ],
   "source": [
    "from keras.models import Sequential\n",
    "from keras.layers import Conv2D, MaxPooling2D, Flatten, Dense, Dropout\n",
    "\n",
    "# Instantiate a Sequential model\n",
    "model = Sequential()\n",
    "\n",
    "# Add the first convolutional layer with 32 filters, a kernel size of 3x3,\n",
    "# specifying the expected input data shape, and using ReLU activation function\n",
    "model.add(Conv2D(32, (3, 3), input_shape=(120, 120, 3), activation=\"relu\"))\n",
    "\n",
    "# Add a max pooling layer to reduce the spatial dimensions of the output from conv layer\n",
    "model.add(MaxPooling2D(pool_size=(3, 3)))\n",
    "\n",
    "# Add a second convolutional layer with 64 filters and ReLU activation\n",
    "model.add(Conv2D(64, (3, 3), activation=\"relu\"))\n",
    "\n",
    "# Add another max pooling layer to reduce spatial dimensions further\n",
    "model.add(MaxPooling2D(pool_size=(3, 3)))\n",
    "\n",
    "# Add a third convolutional layer with 64 filters and ReLU activation\n",
    "model.add(Conv2D(64, (3, 3), activation=\"relu\"))\n",
    "\n",
    "# Add a max pooling layer with a pool size of 4x4\n",
    "model.add(MaxPooling2D(pool_size=(4, 4)))\n",
    "\n",
    "# Flatten the 3D output to 1D to connect it to the dense layers\n",
    "model.add(Flatten())\n",
    "\n",
    "# Add a dense layer with 128 neurons and ReLU activation\n",
    "model.add(Dense(128, activation=\"relu\"))\n",
    "\n",
    "# Add a dropout layer to prevent overfitting by dropping out 20% of the neurons\n",
    "model.add(Dropout(0.2))\n",
    "\n",
    "# Add another dense layer with 128 neurons and ReLU activation\n",
    "model.add(Dense(128, activation=\"relu\"))\n",
    "\n",
    "# Add another dropout layer to prevent overfitting by dropping out 20% of the neurons\n",
    "model.add(Dropout(0.2))\n",
    "\n",
    "# Add a dense layer with 256 neurons and ReLU activation\n",
    "model.add(Dense(256, activation=\"relu\"))\n",
    "\n",
    "# Add the output layer with 5 neurons (for 5 classes) using softmax activation function\n",
    "# to output probabilities of the classes\n",
    "model.add(Dense(5, activation=\"softmax\"))\n"
   ]
  },
  {
   "cell_type": "markdown",
   "metadata": {
    "id": "oCRjGry2dhZ9"
   },
   "source": [
    "Compiling the model"
   ]
  },
  {
   "cell_type": "code",
   "execution_count": 18,
   "metadata": {
    "id": "cjje9X6fdbY8"
   },
   "outputs": [],
   "source": [
    "from keras import losses, optimizers\n",
    "\n",
    "# Compile the model\n",
    "model.compile(\n",
    "    # Use categorical crossentropy as the loss function, which is common for multi-class classification problems.\n",
    "    # This function compares the distribution of the predictions with the true distribution of the labels.\n",
    "    loss=losses.categorical_crossentropy,\n",
    "\n",
    "    # Use the Adam optimizer, a popular gradient descent optimization algorithm,\n",
    "    # for adjusting the weights of the network during training.\n",
    "    optimizer=optimizers.Adam(),\n",
    "\n",
    "    # Use 'accuracy' as the metric for evaluating the performance of the model.\n",
    "    # This metric will calculate how often predictions match one-hot encoded labels.\n",
    "    metrics=[\"accuracy\"]\n",
    ")\n"
   ]
  },
  {
   "cell_type": "code",
   "execution_count": 19,
   "metadata": {},
   "outputs": [],
   "source": [
    "# Convert the data type of X_train and X_test from their current type to 'float32'.\n",
    "# This conversion is typically done for neural network training as it helps with\n",
    "# reducing memory consumption and can speed up calculations due to optimized float operations.\n",
    "X_train = X_train.astype('float32')\n",
    "X_test = X_test.astype('float32')\n"
   ]
  },
  {
   "cell_type": "code",
   "execution_count": 20,
   "metadata": {},
   "outputs": [
    {
     "name": "stdout",
     "output_type": "stream",
     "text": [
      "Epoch 1/30\n",
      "WARNING:tensorflow:From C:\\Users\\Hp\\anaconda3\\Lib\\site-packages\\keras\\src\\utils\\tf_utils.py:492: The name tf.ragged.RaggedTensorValue is deprecated. Please use tf.compat.v1.ragged.RaggedTensorValue instead.\n",
      "\n",
      "WARNING:tensorflow:From C:\\Users\\Hp\\anaconda3\\Lib\\site-packages\\keras\\src\\engine\\base_layer_utils.py:384: The name tf.executing_eagerly_outside_functions is deprecated. Please use tf.compat.v1.executing_eagerly_outside_functions instead.\n",
      "\n",
      "37/37 [==============================] - 23s 516ms/step - loss: 1.0004 - accuracy: 0.7088 - val_loss: 0.8461 - val_accuracy: 0.7244\n",
      "Epoch 2/30\n",
      "37/37 [==============================] - 19s 500ms/step - loss: 0.8100 - accuracy: 0.7253 - val_loss: 0.7697 - val_accuracy: 0.7489\n",
      "Epoch 3/30\n",
      "37/37 [==============================] - 19s 519ms/step - loss: 0.7615 - accuracy: 0.7411 - val_loss: 0.7486 - val_accuracy: 0.7515\n",
      "Epoch 4/30\n",
      "37/37 [==============================] - 19s 512ms/step - loss: 0.7381 - accuracy: 0.7428 - val_loss: 0.7068 - val_accuracy: 0.7549\n",
      "Epoch 5/30\n",
      "37/37 [==============================] - 20s 542ms/step - loss: 0.7238 - accuracy: 0.7405 - val_loss: 0.7125 - val_accuracy: 0.7557\n",
      "Epoch 6/30\n",
      "37/37 [==============================] - 19s 501ms/step - loss: 0.7162 - accuracy: 0.7460 - val_loss: 0.7025 - val_accuracy: 0.7574\n",
      "Epoch 7/30\n",
      "37/37 [==============================] - 19s 512ms/step - loss: 0.7028 - accuracy: 0.7502 - val_loss: 0.6748 - val_accuracy: 0.7582\n",
      "Epoch 8/30\n",
      "37/37 [==============================] - 19s 508ms/step - loss: 0.6985 - accuracy: 0.7487 - val_loss: 0.6563 - val_accuracy: 0.7591\n",
      "Epoch 9/30\n",
      "37/37 [==============================] - 19s 512ms/step - loss: 0.6719 - accuracy: 0.7496 - val_loss: 0.6376 - val_accuracy: 0.7616\n",
      "Epoch 10/30\n",
      "37/37 [==============================] - 19s 522ms/step - loss: 0.6980 - accuracy: 0.7527 - val_loss: 0.6676 - val_accuracy: 0.7566\n",
      "Epoch 11/30\n",
      "37/37 [==============================] - 18s 493ms/step - loss: 0.6402 - accuracy: 0.7587 - val_loss: 0.6111 - val_accuracy: 0.7633\n",
      "Epoch 12/30\n",
      "37/37 [==============================] - 18s 494ms/step - loss: 0.6293 - accuracy: 0.7544 - val_loss: 0.6204 - val_accuracy: 0.7625\n",
      "Epoch 13/30\n",
      "37/37 [==============================] - 19s 506ms/step - loss: 0.6232 - accuracy: 0.7542 - val_loss: 0.6111 - val_accuracy: 0.7574\n",
      "Epoch 14/30\n",
      "37/37 [==============================] - 20s 530ms/step - loss: 0.6234 - accuracy: 0.7549 - val_loss: 0.5877 - val_accuracy: 0.7608\n",
      "Epoch 15/30\n",
      "37/37 [==============================] - 20s 540ms/step - loss: 0.5873 - accuracy: 0.7559 - val_loss: 0.5704 - val_accuracy: 0.7616\n",
      "Epoch 16/30\n",
      "37/37 [==============================] - 20s 533ms/step - loss: 0.5750 - accuracy: 0.7614 - val_loss: 0.5778 - val_accuracy: 0.7633\n",
      "Epoch 17/30\n",
      "37/37 [==============================] - 20s 541ms/step - loss: 0.5753 - accuracy: 0.7623 - val_loss: 0.5963 - val_accuracy: 0.7566\n",
      "Epoch 18/30\n",
      "37/37 [==============================] - 20s 526ms/step - loss: 0.5555 - accuracy: 0.7601 - val_loss: 0.6251 - val_accuracy: 0.7363\n",
      "Epoch 19/30\n",
      "37/37 [==============================] - 20s 542ms/step - loss: 0.5491 - accuracy: 0.7654 - val_loss: 0.5719 - val_accuracy: 0.7574\n",
      "Epoch 20/30\n",
      "37/37 [==============================] - 19s 522ms/step - loss: 0.5261 - accuracy: 0.7639 - val_loss: 0.5274 - val_accuracy: 0.7726\n",
      "Epoch 21/30\n",
      "37/37 [==============================] - 19s 521ms/step - loss: 0.5184 - accuracy: 0.7690 - val_loss: 0.5446 - val_accuracy: 0.7642\n",
      "Epoch 22/30\n",
      "37/37 [==============================] - 20s 527ms/step - loss: 0.5062 - accuracy: 0.7675 - val_loss: 0.5175 - val_accuracy: 0.7836\n",
      "Epoch 23/30\n",
      "37/37 [==============================] - 20s 550ms/step - loss: 0.4912 - accuracy: 0.7741 - val_loss: 0.5142 - val_accuracy: 0.7692\n",
      "Epoch 24/30\n",
      "37/37 [==============================] - 20s 541ms/step - loss: 0.4867 - accuracy: 0.7785 - val_loss: 0.5222 - val_accuracy: 0.7633\n",
      "Epoch 25/30\n",
      "37/37 [==============================] - 20s 539ms/step - loss: 0.4668 - accuracy: 0.7838 - val_loss: 0.5186 - val_accuracy: 0.7675\n",
      "Epoch 26/30\n",
      "37/37 [==============================] - 19s 522ms/step - loss: 0.4572 - accuracy: 0.7916 - val_loss: 0.5241 - val_accuracy: 0.7768\n",
      "Epoch 27/30\n",
      "37/37 [==============================] - 20s 535ms/step - loss: 0.4474 - accuracy: 0.7931 - val_loss: 0.4923 - val_accuracy: 0.7861\n",
      "Epoch 28/30\n",
      "37/37 [==============================] - 20s 538ms/step - loss: 0.4451 - accuracy: 0.7935 - val_loss: 0.5082 - val_accuracy: 0.7768\n",
      "Epoch 29/30\n",
      "37/37 [==============================] - 22s 609ms/step - loss: 0.4401 - accuracy: 0.7918 - val_loss: 0.5427 - val_accuracy: 0.7785\n",
      "Epoch 30/30\n",
      "37/37 [==============================] - 22s 587ms/step - loss: 0.4158 - accuracy: 0.8100 - val_loss: 0.5313 - val_accuracy: 0.7844\n"
     ]
    }
   ],
   "source": [
    "from keras.preprocessing.image import ImageDataGenerator\n",
    "\n",
    "# Initialize an ImageDataGenerator object. This is used to augment image data in real time during training.\n",
    "# Since no parameters are specified, this ImageDataGenerator will not apply any augmentation, it will only\n",
    "# be used for feeding the data to the model.\n",
    "train_datagen = ImageDataGenerator()\n",
    "\n",
    "# Create a data generator for the training set. This generator will produce batches of augmented data.\n",
    "# 'flow' method takes numpy data & label arrays, and generates batches of augmented data.\n",
    "# Here, batch size is set to 128, meaning each batch fed to the model during training will contain 128 images.\n",
    "train_generator = train_datagen.flow(X_train, y_train, batch_size=128)\n",
    "\n",
    "# Fit the model on the data provided by train_generator.\n",
    "# The model trains for 30 epochs, meaning it will go through the entire dataset 30 times.\n",
    "# validation_data is provided as a tuple (X_test, y_test) to evaluate the model's performance\n",
    "# on the test set after each epoch of training. The 'verbose=1' argument enables detailed logging output for each epoch.\n",
    "history = model.fit(train_generator, epochs=30, validation_data=(X_test, y_test), verbose=1)\n"
   ]
  },
  {
   "cell_type": "markdown",
   "metadata": {
    "id": "xJB5A1Rsdm4g"
   },
   "source": [
    "Fitting the model"
   ]
  },
  {
   "cell_type": "code",
   "execution_count": null,
   "metadata": {
    "id": "dTITvD8Pdbnn"
   },
   "outputs": [
    {
     "name": "stdout",
     "output_type": "stream",
     "text": [
      "Epoch 1/30\n",
      "37/37 [==============================] - 25s 654ms/step - loss: 0.4094 - accuracy: 0.8087 - val_loss: 0.5065 - val_accuracy: 0.7828\n",
      "Epoch 2/30\n",
      "37/37 [==============================] - 21s 576ms/step - loss: 0.4232 - accuracy: 0.8058 - val_loss: 0.5474 - val_accuracy: 0.7532\n",
      "Epoch 3/30\n",
      "37/37 [==============================] - 19s 505ms/step - loss: 0.4149 - accuracy: 0.8020 - val_loss: 0.5088 - val_accuracy: 0.7946\n",
      "Epoch 4/30\n",
      "37/37 [==============================] - 20s 532ms/step - loss: 0.3951 - accuracy: 0.8189 - val_loss: 0.5205 - val_accuracy: 0.7802\n",
      "Epoch 5/30\n",
      "37/37 [==============================] - 20s 537ms/step - loss: 0.3798 - accuracy: 0.8221 - val_loss: 0.5024 - val_accuracy: 0.7735\n",
      "Epoch 6/30\n",
      "37/37 [==============================] - 19s 524ms/step - loss: 0.3766 - accuracy: 0.8221 - val_loss: 0.5883 - val_accuracy: 0.7785\n",
      "Epoch 7/30\n",
      "37/37 [==============================] - 20s 535ms/step - loss: 0.3742 - accuracy: 0.8223 - val_loss: 0.5106 - val_accuracy: 0.7887\n",
      "Epoch 8/30\n",
      "37/37 [==============================] - 19s 527ms/step - loss: 0.3585 - accuracy: 0.8331 - val_loss: 0.5198 - val_accuracy: 0.7768\n",
      "Epoch 9/30\n",
      "37/37 [==============================] - 19s 523ms/step - loss: 0.3551 - accuracy: 0.8331 - val_loss: 0.5568 - val_accuracy: 0.7794\n",
      "Epoch 10/30\n",
      "37/37 [==============================] - 19s 513ms/step - loss: 0.3776 - accuracy: 0.8248 - val_loss: 0.5208 - val_accuracy: 0.7921\n",
      "Epoch 11/30\n",
      "37/37 [==============================] - 19s 513ms/step - loss: 0.3720 - accuracy: 0.8273 - val_loss: 0.5713 - val_accuracy: 0.7540\n",
      "Epoch 12/30\n",
      "37/37 [==============================] - 19s 521ms/step - loss: 0.3383 - accuracy: 0.8430 - val_loss: 0.5308 - val_accuracy: 0.7963\n",
      "Epoch 13/30\n",
      "37/37 [==============================] - 19s 525ms/step - loss: 0.3207 - accuracy: 0.8552 - val_loss: 0.5200 - val_accuracy: 0.7802\n",
      "Epoch 14/30\n",
      "37/37 [==============================] - 19s 510ms/step - loss: 0.3134 - accuracy: 0.8624 - val_loss: 0.5482 - val_accuracy: 0.7633\n",
      "Epoch 15/30\n",
      "37/37 [==============================] - 21s 576ms/step - loss: 0.3176 - accuracy: 0.8595 - val_loss: 0.6882 - val_accuracy: 0.7743\n",
      "Epoch 16/30\n",
      "37/37 [==============================] - 21s 556ms/step - loss: 0.2961 - accuracy: 0.8643 - val_loss: 0.5757 - val_accuracy: 0.7811\n",
      "Epoch 17/30\n",
      "37/37 [==============================] - 21s 562ms/step - loss: 0.3053 - accuracy: 0.8599 - val_loss: 0.5748 - val_accuracy: 0.7608\n",
      "Epoch 18/30\n",
      "29/37 [======================>.......] - ETA: 4s - loss: 0.3174 - accuracy: 0.8553"
     ]
    }
   ],
   "source": [
    "# Train the model using the fit method.\n",
    "history = model.fit(\n",
    "    # X_train and y_train are the training data and labels, respectively.\n",
    "    X_train, y_train,\n",
    "\n",
    "    # Number of epochs to train the model. An epoch is an iteration over the entire training data.\n",
    "    epochs=30,\n",
    "\n",
    "    # The validation_data parameter allows the model to evaluate its performance on a validation dataset\n",
    "    # at the end of each epoch. X_test and y_test are the testing data and labels.\n",
    "    validation_data=(X_test, y_test),\n",
    "\n",
    "    # batch_size indicates the number of samples per gradient update. Here it is set to 128.\n",
    "    # Smaller batch sizes usually lead to better generalization.\n",
    "    batch_size=128,\n",
    "\n",
    "    # verbose=1 indicates that the training progress will be printed with a detailed message for each epoch.\n",
    "    verbose=1\n",
    ")\n"
   ]
  },
  {
   "cell_type": "code",
   "execution_count": null,
   "metadata": {
    "id": "RcnIoeU7dbq5"
   },
   "outputs": [],
   "source": [
    "import pandas as pd\n",
    "import matplotlib.pyplot as plt\n",
    "\n",
    "# Convert the history object's data into a pandas DataFrame.\n",
    "# 'history.history' contains metrics recorded at the end of each epoch during training.\n",
    "history_df = pd.DataFrame(history.history)\n",
    "\n",
    "# Plot the loss and validation loss over epochs.\n",
    "# 'loss' is the training loss, and 'val_loss' is the loss on the validation set.\n",
    "# The DataFrame method '.plot' is used for plotting these metrics.\n",
    "# 'title' specifies the title of the plot.\n",
    "history_df.loc[:, ['loss', 'val_loss']].plot(title='Loss Curve')\n",
    "\n",
    "# Show the plot. This line is necessary to display the plot when running in some environments.\n",
    "plt.show()\n"
   ]
  },
  {
   "cell_type": "code",
   "execution_count": null,
   "metadata": {
    "id": "LKnBHchBdbty"
   },
   "outputs": [],
   "source": [
    "import pandas as pd\n",
    "import matplotlib.pyplot as plt\n",
    "\n",
    "# Convert the training history data into a Pandas DataFrame for easy plotting and analysis.\n",
    "# 'history.history' contains the values of metrics (like accuracy) recorded at the end of each epoch during training.\n",
    "history_df = pd.DataFrame(history.history)\n",
    "\n",
    "# Use the DataFrame's .loc method to select and plot the 'accuracy' and 'val_accuracy' columns.\n",
    "# 'accuracy' is the accuracy on the training set, and 'val_accuracy' is the accuracy on the validation set.\n",
    "# This plot helps in visualizing how the model's accuracy improves over epochs during training.\n",
    "history_df.loc[:, ['accuracy', 'val_accuracy']].plot(title='Accuracy Curve')\n",
    "\n",
    "# Show the plot. This is necessary for the plot to be displayed when running in certain environments or IDEs.\n",
    "plt.show()\n"
   ]
  },
  {
   "cell_type": "code",
   "execution_count": null,
   "metadata": {
    "id": "lqBCkQPUdbwd"
   },
   "outputs": [],
   "source": [
    "# Evaluate the trained model on the test dataset.\n",
    "# The 'evaluate' function returns the loss value and metrics (here, accuracy) for the model in test mode.\n",
    "result = model.evaluate(X_test, y_test)\n",
    "\n",
    "# Extract the loss value from the result.\n",
    "loss = result[0]\n",
    "\n",
    "# Extract the accuracy from the result and convert it to percentage.\n",
    "accuracy = result[1] * 100  # Multiplying by 100 to convert from fraction to percentage.\n",
    "\n",
    "# Print the accuracy in a formatted string.\n",
    "# The ':.2f' in the format string specifies that the accuracy should be rounded to 2 decimal places.\n",
    "print(f\"[+] Accuracy: {accuracy:.2f}%\")\n"
   ]
  },
  {
   "cell_type": "code",
   "execution_count": null,
   "metadata": {
    "id": "O-hKL3MhdbzO"
   },
   "outputs": [],
   "source": [
    "#This code snippet is used to load a pre-trained Keras model from an HDF5 file ('my_model.h5').\n",
    "#This is useful when you want to continue training, evaluate, or use a previously trained model without needing \n",
    "#to re-train it from scratch. The model loaded using load_model includes not only the model's architecture but also\n",
    "#its trained weights and the state of the optimizer, \n",
    "#allowing for a seamless continuation of training or immediate use for predictions.\n",
    "from keras.models import Model\n",
    "model.save('my_model.h5')"
   ]
  },
  {
   "cell_type": "code",
   "execution_count": null,
   "metadata": {
    "id": "ELeAtEIwdb11"
   },
   "outputs": [],
   "source": [
    "from keras.models import Model\n",
    "\n",
    "# Save the current state of the model to a file.\n",
    "# This includes the model's architecture, weights, and training configuration (like the optimizer, loss, and metrics).\n",
    "# The model is saved in the HDF5 file format, which is a versatile storage format that supports large, complex data.\n",
    "# 'my_model.h5' is the file path where the model will be saved.\n",
    "model.save('my_model.h5')\n"
   ]
  },
  {
   "cell_type": "code",
   "execution_count": null,
   "metadata": {},
   "outputs": [],
   "source": [
    "# Unfreeze some top layers of the base model\n",
    "loaded_model.trainable = True\n",
    "\n",
    "# Fine-tune from this layer onwards\n",
    "fine_tune_at = 100\n",
    "\n",
    "# Freeze all layers before `fine_tune_at`\n",
    "for layer in loaded_model.layers[:fine_tune_at]:\n",
    "    layer.trainable = False\n",
    "\n",
    "# Compile the model\n",
    "model.compile(loss='categorical_crossentropy', optimizer=tf.keras.optimizers.Adam(1e-5), metrics=['accuracy'])\n",
    "\n",
    "# Fine-tune the model\n",
    "fine_tune_epochs = 10\n",
    "total_epochs = 30 + fine_tune_epochs\n",
    "\n",
    "history = loaded_model.fit(X_train,y_train,epochs=30,validation_data=(X_test,y_test),batch_size=128,\n",
    "                    verbose=1)"
   ]
  },
  {
   "cell_type": "code",
   "execution_count": null,
   "metadata": {},
   "outputs": [],
   "source": [
    "result = loaded_model.evaluate(X_test, y_test)\n",
    "\n",
    "loss = result[0]\n",
    "accuracy = result[1]\n",
    "print(f\"[+] Accuracy: {accuracy*100:.2f}%\")"
   ]
  },
  {
   "cell_type": "code",
   "execution_count": null,
   "metadata": {
    "id": "Fv9Ta6ZVdb4x"
   },
   "outputs": [],
   "source": [
    "# loading the test data \n",
    "test_images_dir = R\"C:\\Users\\Hp\\OneDrive\\Desktop\\Machine Learning\\Group assignment1\\SteelDetection\\test_images\" # Verify this path\n",
    "print(\"Test images directory:\", test_images_dir)"
   ]
  },
  {
   "cell_type": "code",
   "execution_count": null,
   "metadata": {
    "id": "cGXIA5Nqdb8A"
   },
   "outputs": [],
   "source": [
    "import os\n",
    "\n",
    "# Define the directory path where the test images are stored.\n",
    "# The 'R' before the string indicates a raw string, which treats backslashes as literal characters.\n",
    "# It's useful in Windows paths to avoid conflicts with escape characters.\n",
    "test_images_dir = R\"C:\\Users\\Hp\\OneDrive\\Desktop\\Machine Learning\\Group assignment1\\SteelDetection\\test_images\" # Verify this path\n",
    "\n",
    "# Use os.listdir to get a list of filenames in the test_images_dir directory.\n",
    "test_image_files = os.listdir(test_images_dir)\n",
    "\n",
    "# Check if the list of filenames is empty, which would indicate no files are in the directory.\n",
    "if not test_image_files:\n",
    "    # Print a message if no files are found.\n",
    "    print(\"No files found in the directory.\")\n",
    "else:\n",
    "    # If files are found, print the number of files.\n",
    "    print(f\"Found {len(test_image_files)} files.\")\n"
   ]
  },
  {
   "cell_type": "code",
   "execution_count": null,
   "metadata": {},
   "outputs": [],
   "source": [
    "import numpy as np\n",
    "import os\n",
    "\n",
    "# Initialize an empty list to store results of the predictions.\n",
    "results = []\n",
    "\n",
    "# Iterate through each file name in the list 'test_image_files'.\n",
    "for file_name in test_image_files:\n",
    "    # Combine the directory path and file name to form the full image path.\n",
    "    img_path = os.path.join(test_images_dir, file_name)\n",
    "\n",
    "    # Preprocess the image found at the given path.\n",
    "    # This typically includes resizing and normalizing the image.\n",
    "    test_image = preprocess_image(img_path)\n",
    "\n",
    "    # Check if the image has been successfully loaded and preprocessed.\n",
    "    if test_image is not None:\n",
    "        # Add a batch dimension to the image, as models expect input in batches.\n",
    "        test_image = np.expand_dims(test_image, axis=0)\n",
    "\n",
    "        # Use the model to predict the class of the image.\n",
    "        prediction = model.predict(test_image)\n",
    "\n",
    "        # Determine the class with the highest predicted probability.\n",
    "        predicted_class = np.argmax(prediction, axis=1)\n",
    "\n",
    "        # Map the predicted class index to a human-readable class name.\n",
    "        class_names = {0: 'No Defect', 1: 'Defect Type 1', 2: 'Defect Type 2', 3: 'Defect Type 3', 4: 'Defect Type 4'}\n",
    "        result = f\"{file_name}: {class_names[predicted_class[0]]}\"\n",
    "\n",
    "        # Append the result (filename and predicted class) to the results list.\n",
    "        results.append(result)\n",
    "    else:\n",
    "        # If the image was not found or not loaded correctly, print an error message.\n",
    "        print(f\"Image not found at path: {img_path}\")\n",
    "\n",
    "# After processing all files, print out the prediction results for each image.\n",
    "for result in results:\n",
    "    print(result)\n"
   ]
  },
  {
   "cell_type": "code",
   "execution_count": null,
   "metadata": {},
   "outputs": [],
   "source": [
    "pip install clf"
   ]
  },
  {
   "cell_type": "code",
   "execution_count": null,
   "metadata": {},
   "outputs": [],
   "source": [
    "model.save('my_model.h5')"
   ]
  },
  {
   "cell_type": "code",
   "execution_count": null,
   "metadata": {},
   "outputs": [],
   "source": [
    "import os\n",
    "print(os.getcwd())"
   ]
  }
 ],
 "metadata": {
  "colab": {
   "provenance": []
  },
  "kernelspec": {
   "display_name": "Python 3 (ipykernel)",
   "language": "python",
   "name": "python3"
  },
  "language_info": {
   "codemirror_mode": {
    "name": "ipython",
    "version": 3
   },
   "file_extension": ".py",
   "mimetype": "text/x-python",
   "name": "python",
   "nbconvert_exporter": "python",
   "pygments_lexer": "ipython3",
   "version": "3.11.5"
  }
 },
 "nbformat": 4,
 "nbformat_minor": 1
}
